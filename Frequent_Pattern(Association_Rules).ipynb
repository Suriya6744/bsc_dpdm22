{
  "nbformat": 4,
  "nbformat_minor": 0,
  "metadata": {
    "colab": {
      "private_outputs": true,
      "provenance": [],
      "mount_file_id": "1-w2Nsr0KcZHxdmj9tbDh1ONcTgGBybb_",
      "authorship_tag": "ABX9TyMX9J5zh/QUx/HLSWg0j/2T",
      "include_colab_link": true
    },
    "kernelspec": {
      "name": "python3",
      "display_name": "Python 3"
    },
    "language_info": {
      "name": "python"
    }
  },
  "cells": [
    {
      "cell_type": "markdown",
      "metadata": {
        "id": "view-in-github",
        "colab_type": "text"
      },
      "source": [
        "<a href=\"https://colab.research.google.com/github/Suriya6744/bsc_dpdm22/blob/main/Frequent_Pattern(Association_Rules).ipynb\" target=\"_parent\"><img src=\"https://colab.research.google.com/assets/colab-badge.svg\" alt=\"Open In Colab\"/></a>"
      ]
    },
    {
      "cell_type": "markdown",
      "source": [
        "# "
      ],
      "metadata": {
        "id": "r-r04p8GeS3Y"
      }
    },
    {
      "cell_type": "code",
      "execution_count": null,
      "metadata": {
        "id": "PRafqkUsy8V_"
      },
      "outputs": [],
      "source": [
        "import pandas as pd\n",
        "import os "
      ]
    },
    {
      "cell_type": "code",
      "source": [
        "from google.colab import drive\n",
        "drive.mount('/content/drive')\n",
        "path = '/content/drive/MyDrive/bsc_DMPM_data'"
      ],
      "metadata": {
        "id": "FTtvNBQizL2s"
      },
      "execution_count": null,
      "outputs": []
    },
    {
      "cell_type": "code",
      "source": [
        "data = pd.read_csv(os.path.join(path,'reduced_marketbasket.csv'),encoding='latin-1')\n",
        "data"
      ],
      "metadata": {
        "id": "kwBf2FlI013P"
      },
      "execution_count": null,
      "outputs": []
    },
    {
      "cell_type": "code",
      "source": [
        "set(data['Country'])"
      ],
      "metadata": {
        "id": "o-Ny6RAN2kFs"
      },
      "execution_count": null,
      "outputs": []
    },
    {
      "cell_type": "code",
      "source": [
        "data.groupby((data['Country']))"
      ],
      "metadata": {
        "id": "mrtutXLX2ref"
      },
      "execution_count": null,
      "outputs": []
    },
    {
      "cell_type": "code",
      "source": [
        "transactions = data.groupby('InvoiceNo')['StockCode'].apply(list)\n",
        "transactions"
      ],
      "metadata": {
        "id": "ryHZb8ynzLyC"
      },
      "execution_count": null,
      "outputs": []
    },
    {
      "cell_type": "markdown",
      "source": [
        "# ดู correlation ของ itemsets"
      ],
      "metadata": {
        "id": "QukB0TjjkKBg"
      }
    },
    {
      "cell_type": "code",
      "source": [
        "!pip install apyori"
      ],
      "metadata": {
        "id": "W-9C_WXhzLtL"
      },
      "execution_count": null,
      "outputs": []
    },
    {
      "cell_type": "code",
      "source": [
        "from apyori import apriori"
      ],
      "metadata": {
        "id": "J6xh_eeozLjZ"
      },
      "execution_count": null,
      "outputs": []
    },
    {
      "cell_type": "code",
      "source": [
        "frequentItemsets = list(apriori(transactions,min_support= 0.075)) #min_confidence ,min_support มีจำนวน transaction ที่มีไอเทมร่วมกันอยู่ 0.075 หรือ 75%\n",
        "frequentItemsets #มี 1 itemsets"
      ],
      "metadata": {
        "id": "76TImJ-jfcKk"
      },
      "execution_count": null,
      "outputs": []
    },
    {
      "cell_type": "code",
      "source": [
        "data[data['StockCode']=='85123A']"
      ],
      "metadata": {
        "id": "c0wvQFKrhJiI"
      },
      "execution_count": null,
      "outputs": []
    },
    {
      "cell_type": "code",
      "source": [
        "frequentItemsets = list(apriori(transactions,min_support= 0.03)) #items_base=frozenset({'22697'}), items_add=frozenset({'22699'} มี 2 itemsets\n",
        "frequentItemsets"
      ],
      "metadata": {
        "id": "v1fkeUdSiIuE"
      },
      "execution_count": null,
      "outputs": []
    },
    {
      "cell_type": "markdown",
      "source": [
        "## ตัวที่น่าสนใจ  confidence=0.7, lift=17.1523178807947"
      ],
      "metadata": {
        "id": "x2g5q2cWjy31"
      }
    },
    {
      "cell_type": "code",
      "source": [
        "frequentItemsets[-1]"
      ],
      "metadata": {
        "id": "tU2zt129ixPD"
      },
      "execution_count": null,
      "outputs": []
    },
    {
      "cell_type": "code",
      "source": [
        "data[data['StockCode']=='22697'].head(1) #สินค้า1"
      ],
      "metadata": {
        "id": "0xnEh_qOjOz_"
      },
      "execution_count": null,
      "outputs": []
    },
    {
      "cell_type": "code",
      "source": [
        "data[data['StockCode']=='22699'].head(1) #สินค้า2"
      ],
      "metadata": {
        "id": "Cga7wTaLi_pb"
      },
      "execution_count": null,
      "outputs": []
    },
    {
      "cell_type": "markdown",
      "source": [
        "# อ.ต้นให้ทำ"
      ],
      "metadata": {
        "id": "ycYM8RXnkyW3"
      }
    },
    {
      "cell_type": "markdown",
      "source": [
        "สร้างตัวแปรมา 2 ตัว\n",
        "* เก็บ 2-itemset\n",
        "* เก็บ 3-itemset\n"
      ],
      "metadata": {
        "id": "MbPFrWDSkUm4"
      }
    },
    {
      "cell_type": "code",
      "source": [
        "frequentItemsets = list(apriori(transactions,min_support= 0.015)) \n",
        "frequentItemsets"
      ],
      "metadata": {
        "id": "_hAJ0IWzndvC"
      },
      "execution_count": null,
      "outputs": []
    },
    {
      "cell_type": "code",
      "source": [
        "records2 = [record for record in frequentItemsets if len(record.items)==2]\n",
        "len(records2)"
      ],
      "metadata": {
        "id": "KIK2Xc8sms86"
      },
      "execution_count": null,
      "outputs": []
    },
    {
      "cell_type": "code",
      "source": [
        "records3 = [record for record in frequentItemsets if len(record.items)==3]\n",
        "len(records3)"
      ],
      "metadata": {
        "id": "qZhXX6S0mvD0"
      },
      "execution_count": null,
      "outputs": []
    }
  ]
}