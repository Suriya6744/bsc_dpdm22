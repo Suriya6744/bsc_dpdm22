{
  "nbformat": 4,
  "nbformat_minor": 0,
  "metadata": {
    "colab": {
      "private_outputs": true,
      "provenance": [],
      "authorship_tag": "ABX9TyOWnJPBrpTvCSJmJ1p7zyrp",
      "include_colab_link": true
    },
    "kernelspec": {
      "name": "python3",
      "display_name": "Python 3"
    },
    "language_info": {
      "name": "python"
    }
  },
  "cells": [
    {
      "cell_type": "markdown",
      "metadata": {
        "id": "view-in-github",
        "colab_type": "text"
      },
      "source": [
        "<a href=\"https://colab.research.google.com/github/Suriya6744/bsc_dpdm22/blob/main/Performance_Evaluation.ipynb\" target=\"_parent\"><img src=\"https://colab.research.google.com/assets/colab-badge.svg\" alt=\"Open In Colab\"/></a>"
      ]
    },
    {
      "cell_type": "code",
      "execution_count": null,
      "metadata": {
        "id": "jSHGxiUtnZRu"
      },
      "outputs": [],
      "source": [
        "from sklearn import datasets\n",
        "\n",
        "iris_data = datasets.load_iris()"
      ]
    },
    {
      "cell_type": "code",
      "source": [
        "x = iris_data['data']\n",
        "y = iris_data['target']"
      ],
      "metadata": {
        "id": "rS8GQvA8n5zS"
      },
      "execution_count": null,
      "outputs": []
    },
    {
      "cell_type": "code",
      "source": [
        "from sklearn.utils import shuffle\n",
        "#Define the k-fold cross validation\n",
        "kf = KFold(n_splits=10,shuffle=True,random_state=42)\n",
        "\n",
        "#Train and evaluation the model ussing 10-fold cross validation\n",
        "scores = cross_val_score(model,x,y,cv=kf)\n",
        "\n",
        "#Print the accuracy scores for each fold and mean score \n",
        "print('Accuracy: %0.2f (+/-%0.2f)' % (scores.mean(),scores.std()*2))\n"
      ],
      "metadata": {
        "id": "XNMpYppDpicd"
      },
      "execution_count": null,
      "outputs": []
    }
  ]
}