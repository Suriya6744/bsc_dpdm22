{
  "nbformat": 4,
  "nbformat_minor": 0,
  "metadata": {
    "colab": {
      "provenance": [],
      "toc_visible": true,
      "mount_file_id": "1mkC_X6sEugNtDhbvzsRpQuBr1I-uC7lz",
      "authorship_tag": "ABX9TyPPGKAs2fJeDtWyxE/huiG4",
      "include_colab_link": true
    },
    "kernelspec": {
      "name": "python3",
      "display_name": "Python 3"
    },
    "language_info": {
      "name": "python"
    }
  },
  "cells": [
    {
      "cell_type": "markdown",
      "metadata": {
        "id": "view-in-github",
        "colab_type": "text"
      },
      "source": [
        "<a href=\"https://colab.research.google.com/github/Suriya6744/bsc_dpdm22/blob/main/%5Bdataprep%5Dproperty_estimator.ipynb\" target=\"_parent\"><img src=\"https://colab.research.google.com/assets/colab-badge.svg\" alt=\"Open In Colab\"/></a>"
      ]
    },
    {
      "cell_type": "code",
      "execution_count": 73,
      "metadata": {
        "id": "Jrk9ST3TKC9U"
      },
      "outputs": [],
      "source": [
        "import pandas as pd\n",
        "df1 = pd.read_excel('/content/drive/MyDrive/bsc_DPDM_data/คำตอบนักประเมิน (3).xlsx',sheet_name='บ้าน',skiprows=0)\n",
        "df2 = pd.read_excel('/content/drive/MyDrive/bsc_DPDM_data/คำตอบนักประเมิน (3).xlsx',sheet_name='ที่ดิน',skiprows=0)\n",
        "df3 = pd.read_excel('/content/drive/MyDrive/bsc_DPDM_data/คำตอบนักประเมิน (3).xlsx',sheet_name='คอนโด',skiprows=0)\n",
        "df4 = pd.read_excel('/content/drive/MyDrive/bsc_DPDM_data/คำตอบนักประเมิน (3).xlsx',sheet_name='ทาวน์โฮม',skiprows=0)\n",
        "df5 = pd.read_excel('/content/drive/MyDrive/bsc_DPDM_data/คำตอบนักประเมิน (3).xlsx',sheet_name='อาคารพาณิชย์',skiprows=0)"
      ]
    },
    {
      "cell_type": "markdown",
      "source": [
        "#ข้อมูลประเมินบ้าน"
      ],
      "metadata": {
        "id": "JbNx5ziRNtRi"
      }
    },
    {
      "cell_type": "code",
      "source": [
        "df1.head()"
      ],
      "metadata": {
        "colab": {
          "base_uri": "https://localhost:8080/",
          "height": 825
        },
        "id": "eUJAy1FGYwFt",
        "outputId": "cccebe05-1223-4bd0-93a6-db05a3c40e98"
      },
      "execution_count": 74,
      "outputs": [
        {
          "output_type": "execute_result",
          "data": {
            "text/plain": [
              "   ID ผู้ประเมิน                              post id property_type  \\\n",
              "0              1   https://nayoo.co/khonkaen/posts/25    บ้านเดี่ยว   \n",
              "1              2   https://nayoo.co/khonkaen/posts/25    บ้านเดี่ยว   \n",
              "2              1   https://nayoo.co/khonkaen/posts/33    บ้านเดี่ยว   \n",
              "3              2   https://nayoo.co/khonkaen/posts/33    บ้านเดี่ยว   \n",
              "4              1  https://nayoo.co/khonkaen/posts/495    บ้านเดี่ยว   \n",
              "\n",
              "  ความมั่นใจในการเมินราคาทรัพย์  ราคาทรัพย์  ประเมินราคาซื้อ-ขาย  \\\n",
              "0                        มั่นใจ   2700000.0            2500000.0   \n",
              "1                        มั่นใจ   2700000.0            2700000.0   \n",
              "2                        มั่นใจ   2600000.0            2200000.0   \n",
              "3                        มั่นใจ   2600000.0            2400000.0   \n",
              "4                        มั่นใจ   5900000.0            5000000.0   \n",
              "\n",
              "                      ปัจจัยในการประเมินราคาซื้อ-ขาย  \\\n",
              "0                                       5,000-15,000   \n",
              "1  โครงการนี้ราคาเสนอขาย 2,500,000-3,000,000 บาท/...   \n",
              "2                                       5,000-15,000   \n",
              "3   ราคาเสนอขายประมาณ 2,200,000 - 2,500,000 บาท/หลัง   \n",
              "4                                       5,000-15,000   \n",
              "\n",
              "  เหตุผลไม่มั่นใจราคาประเมิน                      ให้คะแนนทรัพย์  Unnamed: 9  \\\n",
              "0                        NaN   3 ขายได้ ใช้ระยะเวลา 7 - 12 เดือน         NaN   \n",
              "1                        NaN    4 ขายได้ ใช้ระยะเวลา 4 - 6 เดือน         NaN   \n",
              "2                        NaN  2 ขายได้ยาก ใช้ระยะเวลามากว่า 1 ปี         NaN   \n",
              "3                        NaN   3 ขายได้ ใช้ระยะเวลา 7 - 12 เดือน         NaN   \n",
              "4                        NaN   3 ขายได้ ใช้ระยะเวลา 7 - 12 เดือน         NaN   \n",
              "\n",
              "   Unnamed: 10  Unnamed: 11  Unnamed: 12  Unnamed: 13  \n",
              "0          NaN          NaN          NaN        100.0  \n",
              "1          NaN          NaN          NaN          NaN  \n",
              "2          NaN          NaN          NaN          NaN  \n",
              "3          NaN          NaN          NaN          NaN  \n",
              "4          NaN          NaN          NaN          NaN  "
            ],
            "text/html": [
              "\n",
              "  <div id=\"df-f4fec6d3-c8e7-44e7-8800-03ce8478b762\">\n",
              "    <div class=\"colab-df-container\">\n",
              "      <div>\n",
              "<style scoped>\n",
              "    .dataframe tbody tr th:only-of-type {\n",
              "        vertical-align: middle;\n",
              "    }\n",
              "\n",
              "    .dataframe tbody tr th {\n",
              "        vertical-align: top;\n",
              "    }\n",
              "\n",
              "    .dataframe thead th {\n",
              "        text-align: right;\n",
              "    }\n",
              "</style>\n",
              "<table border=\"1\" class=\"dataframe\">\n",
              "  <thead>\n",
              "    <tr style=\"text-align: right;\">\n",
              "      <th></th>\n",
              "      <th>ID ผู้ประเมิน</th>\n",
              "      <th>post id</th>\n",
              "      <th>property_type</th>\n",
              "      <th>ความมั่นใจในการเมินราคาทรัพย์</th>\n",
              "      <th>ราคาทรัพย์</th>\n",
              "      <th>ประเมินราคาซื้อ-ขาย</th>\n",
              "      <th>ปัจจัยในการประเมินราคาซื้อ-ขาย</th>\n",
              "      <th>เหตุผลไม่มั่นใจราคาประเมิน</th>\n",
              "      <th>ให้คะแนนทรัพย์</th>\n",
              "      <th>Unnamed: 9</th>\n",
              "      <th>Unnamed: 10</th>\n",
              "      <th>Unnamed: 11</th>\n",
              "      <th>Unnamed: 12</th>\n",
              "      <th>Unnamed: 13</th>\n",
              "    </tr>\n",
              "  </thead>\n",
              "  <tbody>\n",
              "    <tr>\n",
              "      <th>0</th>\n",
              "      <td>1</td>\n",
              "      <td>https://nayoo.co/khonkaen/posts/25</td>\n",
              "      <td>บ้านเดี่ยว</td>\n",
              "      <td>มั่นใจ</td>\n",
              "      <td>2700000.0</td>\n",
              "      <td>2500000.0</td>\n",
              "      <td>5,000-15,000</td>\n",
              "      <td>NaN</td>\n",
              "      <td>3 ขายได้ ใช้ระยะเวลา 7 - 12 เดือน</td>\n",
              "      <td>NaN</td>\n",
              "      <td>NaN</td>\n",
              "      <td>NaN</td>\n",
              "      <td>NaN</td>\n",
              "      <td>100.0</td>\n",
              "    </tr>\n",
              "    <tr>\n",
              "      <th>1</th>\n",
              "      <td>2</td>\n",
              "      <td>https://nayoo.co/khonkaen/posts/25</td>\n",
              "      <td>บ้านเดี่ยว</td>\n",
              "      <td>มั่นใจ</td>\n",
              "      <td>2700000.0</td>\n",
              "      <td>2700000.0</td>\n",
              "      <td>โครงการนี้ราคาเสนอขาย 2,500,000-3,000,000 บาท/...</td>\n",
              "      <td>NaN</td>\n",
              "      <td>4 ขายได้ ใช้ระยะเวลา 4 - 6 เดือน</td>\n",
              "      <td>NaN</td>\n",
              "      <td>NaN</td>\n",
              "      <td>NaN</td>\n",
              "      <td>NaN</td>\n",
              "      <td>NaN</td>\n",
              "    </tr>\n",
              "    <tr>\n",
              "      <th>2</th>\n",
              "      <td>1</td>\n",
              "      <td>https://nayoo.co/khonkaen/posts/33</td>\n",
              "      <td>บ้านเดี่ยว</td>\n",
              "      <td>มั่นใจ</td>\n",
              "      <td>2600000.0</td>\n",
              "      <td>2200000.0</td>\n",
              "      <td>5,000-15,000</td>\n",
              "      <td>NaN</td>\n",
              "      <td>2 ขายได้ยาก ใช้ระยะเวลามากว่า 1 ปี</td>\n",
              "      <td>NaN</td>\n",
              "      <td>NaN</td>\n",
              "      <td>NaN</td>\n",
              "      <td>NaN</td>\n",
              "      <td>NaN</td>\n",
              "    </tr>\n",
              "    <tr>\n",
              "      <th>3</th>\n",
              "      <td>2</td>\n",
              "      <td>https://nayoo.co/khonkaen/posts/33</td>\n",
              "      <td>บ้านเดี่ยว</td>\n",
              "      <td>มั่นใจ</td>\n",
              "      <td>2600000.0</td>\n",
              "      <td>2400000.0</td>\n",
              "      <td>ราคาเสนอขายประมาณ 2,200,000 - 2,500,000 บาท/หลัง</td>\n",
              "      <td>NaN</td>\n",
              "      <td>3 ขายได้ ใช้ระยะเวลา 7 - 12 เดือน</td>\n",
              "      <td>NaN</td>\n",
              "      <td>NaN</td>\n",
              "      <td>NaN</td>\n",
              "      <td>NaN</td>\n",
              "      <td>NaN</td>\n",
              "    </tr>\n",
              "    <tr>\n",
              "      <th>4</th>\n",
              "      <td>1</td>\n",
              "      <td>https://nayoo.co/khonkaen/posts/495</td>\n",
              "      <td>บ้านเดี่ยว</td>\n",
              "      <td>มั่นใจ</td>\n",
              "      <td>5900000.0</td>\n",
              "      <td>5000000.0</td>\n",
              "      <td>5,000-15,000</td>\n",
              "      <td>NaN</td>\n",
              "      <td>3 ขายได้ ใช้ระยะเวลา 7 - 12 เดือน</td>\n",
              "      <td>NaN</td>\n",
              "      <td>NaN</td>\n",
              "      <td>NaN</td>\n",
              "      <td>NaN</td>\n",
              "      <td>NaN</td>\n",
              "    </tr>\n",
              "  </tbody>\n",
              "</table>\n",
              "</div>\n",
              "      <button class=\"colab-df-convert\" onclick=\"convertToInteractive('df-f4fec6d3-c8e7-44e7-8800-03ce8478b762')\"\n",
              "              title=\"Convert this dataframe to an interactive table.\"\n",
              "              style=\"display:none;\">\n",
              "        \n",
              "  <svg xmlns=\"http://www.w3.org/2000/svg\" height=\"24px\"viewBox=\"0 0 24 24\"\n",
              "       width=\"24px\">\n",
              "    <path d=\"M0 0h24v24H0V0z\" fill=\"none\"/>\n",
              "    <path d=\"M18.56 5.44l.94 2.06.94-2.06 2.06-.94-2.06-.94-.94-2.06-.94 2.06-2.06.94zm-11 1L8.5 8.5l.94-2.06 2.06-.94-2.06-.94L8.5 2.5l-.94 2.06-2.06.94zm10 10l.94 2.06.94-2.06 2.06-.94-2.06-.94-.94-2.06-.94 2.06-2.06.94z\"/><path d=\"M17.41 7.96l-1.37-1.37c-.4-.4-.92-.59-1.43-.59-.52 0-1.04.2-1.43.59L10.3 9.45l-7.72 7.72c-.78.78-.78 2.05 0 2.83L4 21.41c.39.39.9.59 1.41.59.51 0 1.02-.2 1.41-.59l7.78-7.78 2.81-2.81c.8-.78.8-2.07 0-2.86zM5.41 20L4 18.59l7.72-7.72 1.47 1.35L5.41 20z\"/>\n",
              "  </svg>\n",
              "      </button>\n",
              "      \n",
              "  <style>\n",
              "    .colab-df-container {\n",
              "      display:flex;\n",
              "      flex-wrap:wrap;\n",
              "      gap: 12px;\n",
              "    }\n",
              "\n",
              "    .colab-df-convert {\n",
              "      background-color: #E8F0FE;\n",
              "      border: none;\n",
              "      border-radius: 50%;\n",
              "      cursor: pointer;\n",
              "      display: none;\n",
              "      fill: #1967D2;\n",
              "      height: 32px;\n",
              "      padding: 0 0 0 0;\n",
              "      width: 32px;\n",
              "    }\n",
              "\n",
              "    .colab-df-convert:hover {\n",
              "      background-color: #E2EBFA;\n",
              "      box-shadow: 0px 1px 2px rgba(60, 64, 67, 0.3), 0px 1px 3px 1px rgba(60, 64, 67, 0.15);\n",
              "      fill: #174EA6;\n",
              "    }\n",
              "\n",
              "    [theme=dark] .colab-df-convert {\n",
              "      background-color: #3B4455;\n",
              "      fill: #D2E3FC;\n",
              "    }\n",
              "\n",
              "    [theme=dark] .colab-df-convert:hover {\n",
              "      background-color: #434B5C;\n",
              "      box-shadow: 0px 1px 3px 1px rgba(0, 0, 0, 0.15);\n",
              "      filter: drop-shadow(0px 1px 2px rgba(0, 0, 0, 0.3));\n",
              "      fill: #FFFFFF;\n",
              "    }\n",
              "  </style>\n",
              "\n",
              "      <script>\n",
              "        const buttonEl =\n",
              "          document.querySelector('#df-f4fec6d3-c8e7-44e7-8800-03ce8478b762 button.colab-df-convert');\n",
              "        buttonEl.style.display =\n",
              "          google.colab.kernel.accessAllowed ? 'block' : 'none';\n",
              "\n",
              "        async function convertToInteractive(key) {\n",
              "          const element = document.querySelector('#df-f4fec6d3-c8e7-44e7-8800-03ce8478b762');\n",
              "          const dataTable =\n",
              "            await google.colab.kernel.invokeFunction('convertToInteractive',\n",
              "                                                     [key], {});\n",
              "          if (!dataTable) return;\n",
              "\n",
              "          const docLinkHtml = 'Like what you see? Visit the ' +\n",
              "            '<a target=\"_blank\" href=https://colab.research.google.com/notebooks/data_table.ipynb>data table notebook</a>'\n",
              "            + ' to learn more about interactive tables.';\n",
              "          element.innerHTML = '';\n",
              "          dataTable['output_type'] = 'display_data';\n",
              "          await google.colab.output.renderOutput(dataTable, element);\n",
              "          const docLink = document.createElement('div');\n",
              "          docLink.innerHTML = docLinkHtml;\n",
              "          element.appendChild(docLink);\n",
              "        }\n",
              "      </script>\n",
              "    </div>\n",
              "  </div>\n",
              "  "
            ]
          },
          "metadata": {},
          "execution_count": 74
        }
      ]
    },
    {
      "cell_type": "markdown",
      "source": [
        "##ผู้ประเมินคนที่ 1"
      ],
      "metadata": {
        "id": "Ex087wwvgOSM"
      }
    },
    {
      "cell_type": "code",
      "source": [
        "ass1 = df1[df1['ID ผู้ประเมิน']==1]\n",
        "ass1.count()"
      ],
      "metadata": {
        "colab": {
          "base_uri": "https://localhost:8080/"
        },
        "id": "Czt4iEhgW6Zx",
        "outputId": "bae48ad4-8238-44b4-9321-3808abab02ec"
      },
      "execution_count": 75,
      "outputs": [
        {
          "output_type": "execute_result",
          "data": {
            "text/plain": [
              "ID ผู้ประเมิน                     100\n",
              "post id                           100\n",
              "property_type                     100\n",
              "ความมั่นใจในการเมินราคาทรัพย์     100\n",
              "ราคาทรัพย์                        100\n",
              "ประเมินราคาซื้อ-ขาย               100\n",
              "ปัจจัยในการประเมินราคาซื้อ-ขาย    100\n",
              "เหตุผลไม่มั่นใจราคาประเมิน          0\n",
              "ให้คะแนนทรัพย์                    100\n",
              "Unnamed: 9                          0\n",
              "Unnamed: 10                         0\n",
              "Unnamed: 11                         0\n",
              "Unnamed: 12                         0\n",
              "Unnamed: 13                         1\n",
              "dtype: int64"
            ]
          },
          "metadata": {},
          "execution_count": 75
        }
      ]
    },
    {
      "cell_type": "code",
      "source": [
        "ass1.describe()"
      ],
      "metadata": {
        "colab": {
          "base_uri": "https://localhost:8080/",
          "height": 361
        },
        "id": "5vycaJTdc19P",
        "outputId": "e336fc70-5805-4120-9cd2-9d1d73fec4f1"
      },
      "execution_count": 76,
      "outputs": [
        {
          "output_type": "execute_result",
          "data": {
            "text/plain": [
              "       ID ผู้ประเมิน    ราคาทรัพย์  ประเมินราคาซื้อ-ขาย  Unnamed: 9  \\\n",
              "count          100.0  1.000000e+02         1.000000e+02         0.0   \n",
              "mean             1.0  4.316360e+06         3.938500e+06         NaN   \n",
              "std              0.0  2.865391e+06         2.368553e+06         NaN   \n",
              "min              1.0  3.900000e+05         6.000000e+05         NaN   \n",
              "25%              1.0  2.892750e+06         2.775000e+06         NaN   \n",
              "50%              1.0  3.962000e+06         3.600000e+06         NaN   \n",
              "75%              1.0  5.000000e+06         4.500000e+06         NaN   \n",
              "max              1.0  2.094900e+07         1.600000e+07         NaN   \n",
              "\n",
              "       Unnamed: 10  Unnamed: 11  Unnamed: 12  Unnamed: 13  \n",
              "count          0.0          0.0          0.0          1.0  \n",
              "mean           NaN          NaN          NaN        100.0  \n",
              "std            NaN          NaN          NaN          NaN  \n",
              "min            NaN          NaN          NaN        100.0  \n",
              "25%            NaN          NaN          NaN        100.0  \n",
              "50%            NaN          NaN          NaN        100.0  \n",
              "75%            NaN          NaN          NaN        100.0  \n",
              "max            NaN          NaN          NaN        100.0  "
            ],
            "text/html": [
              "\n",
              "  <div id=\"df-d41e26a6-9388-4180-8932-b4563ef9515e\">\n",
              "    <div class=\"colab-df-container\">\n",
              "      <div>\n",
              "<style scoped>\n",
              "    .dataframe tbody tr th:only-of-type {\n",
              "        vertical-align: middle;\n",
              "    }\n",
              "\n",
              "    .dataframe tbody tr th {\n",
              "        vertical-align: top;\n",
              "    }\n",
              "\n",
              "    .dataframe thead th {\n",
              "        text-align: right;\n",
              "    }\n",
              "</style>\n",
              "<table border=\"1\" class=\"dataframe\">\n",
              "  <thead>\n",
              "    <tr style=\"text-align: right;\">\n",
              "      <th></th>\n",
              "      <th>ID ผู้ประเมิน</th>\n",
              "      <th>ราคาทรัพย์</th>\n",
              "      <th>ประเมินราคาซื้อ-ขาย</th>\n",
              "      <th>Unnamed: 9</th>\n",
              "      <th>Unnamed: 10</th>\n",
              "      <th>Unnamed: 11</th>\n",
              "      <th>Unnamed: 12</th>\n",
              "      <th>Unnamed: 13</th>\n",
              "    </tr>\n",
              "  </thead>\n",
              "  <tbody>\n",
              "    <tr>\n",
              "      <th>count</th>\n",
              "      <td>100.0</td>\n",
              "      <td>1.000000e+02</td>\n",
              "      <td>1.000000e+02</td>\n",
              "      <td>0.0</td>\n",
              "      <td>0.0</td>\n",
              "      <td>0.0</td>\n",
              "      <td>0.0</td>\n",
              "      <td>1.0</td>\n",
              "    </tr>\n",
              "    <tr>\n",
              "      <th>mean</th>\n",
              "      <td>1.0</td>\n",
              "      <td>4.316360e+06</td>\n",
              "      <td>3.938500e+06</td>\n",
              "      <td>NaN</td>\n",
              "      <td>NaN</td>\n",
              "      <td>NaN</td>\n",
              "      <td>NaN</td>\n",
              "      <td>100.0</td>\n",
              "    </tr>\n",
              "    <tr>\n",
              "      <th>std</th>\n",
              "      <td>0.0</td>\n",
              "      <td>2.865391e+06</td>\n",
              "      <td>2.368553e+06</td>\n",
              "      <td>NaN</td>\n",
              "      <td>NaN</td>\n",
              "      <td>NaN</td>\n",
              "      <td>NaN</td>\n",
              "      <td>NaN</td>\n",
              "    </tr>\n",
              "    <tr>\n",
              "      <th>min</th>\n",
              "      <td>1.0</td>\n",
              "      <td>3.900000e+05</td>\n",
              "      <td>6.000000e+05</td>\n",
              "      <td>NaN</td>\n",
              "      <td>NaN</td>\n",
              "      <td>NaN</td>\n",
              "      <td>NaN</td>\n",
              "      <td>100.0</td>\n",
              "    </tr>\n",
              "    <tr>\n",
              "      <th>25%</th>\n",
              "      <td>1.0</td>\n",
              "      <td>2.892750e+06</td>\n",
              "      <td>2.775000e+06</td>\n",
              "      <td>NaN</td>\n",
              "      <td>NaN</td>\n",
              "      <td>NaN</td>\n",
              "      <td>NaN</td>\n",
              "      <td>100.0</td>\n",
              "    </tr>\n",
              "    <tr>\n",
              "      <th>50%</th>\n",
              "      <td>1.0</td>\n",
              "      <td>3.962000e+06</td>\n",
              "      <td>3.600000e+06</td>\n",
              "      <td>NaN</td>\n",
              "      <td>NaN</td>\n",
              "      <td>NaN</td>\n",
              "      <td>NaN</td>\n",
              "      <td>100.0</td>\n",
              "    </tr>\n",
              "    <tr>\n",
              "      <th>75%</th>\n",
              "      <td>1.0</td>\n",
              "      <td>5.000000e+06</td>\n",
              "      <td>4.500000e+06</td>\n",
              "      <td>NaN</td>\n",
              "      <td>NaN</td>\n",
              "      <td>NaN</td>\n",
              "      <td>NaN</td>\n",
              "      <td>100.0</td>\n",
              "    </tr>\n",
              "    <tr>\n",
              "      <th>max</th>\n",
              "      <td>1.0</td>\n",
              "      <td>2.094900e+07</td>\n",
              "      <td>1.600000e+07</td>\n",
              "      <td>NaN</td>\n",
              "      <td>NaN</td>\n",
              "      <td>NaN</td>\n",
              "      <td>NaN</td>\n",
              "      <td>100.0</td>\n",
              "    </tr>\n",
              "  </tbody>\n",
              "</table>\n",
              "</div>\n",
              "      <button class=\"colab-df-convert\" onclick=\"convertToInteractive('df-d41e26a6-9388-4180-8932-b4563ef9515e')\"\n",
              "              title=\"Convert this dataframe to an interactive table.\"\n",
              "              style=\"display:none;\">\n",
              "        \n",
              "  <svg xmlns=\"http://www.w3.org/2000/svg\" height=\"24px\"viewBox=\"0 0 24 24\"\n",
              "       width=\"24px\">\n",
              "    <path d=\"M0 0h24v24H0V0z\" fill=\"none\"/>\n",
              "    <path d=\"M18.56 5.44l.94 2.06.94-2.06 2.06-.94-2.06-.94-.94-2.06-.94 2.06-2.06.94zm-11 1L8.5 8.5l.94-2.06 2.06-.94-2.06-.94L8.5 2.5l-.94 2.06-2.06.94zm10 10l.94 2.06.94-2.06 2.06-.94-2.06-.94-.94-2.06-.94 2.06-2.06.94z\"/><path d=\"M17.41 7.96l-1.37-1.37c-.4-.4-.92-.59-1.43-.59-.52 0-1.04.2-1.43.59L10.3 9.45l-7.72 7.72c-.78.78-.78 2.05 0 2.83L4 21.41c.39.39.9.59 1.41.59.51 0 1.02-.2 1.41-.59l7.78-7.78 2.81-2.81c.8-.78.8-2.07 0-2.86zM5.41 20L4 18.59l7.72-7.72 1.47 1.35L5.41 20z\"/>\n",
              "  </svg>\n",
              "      </button>\n",
              "      \n",
              "  <style>\n",
              "    .colab-df-container {\n",
              "      display:flex;\n",
              "      flex-wrap:wrap;\n",
              "      gap: 12px;\n",
              "    }\n",
              "\n",
              "    .colab-df-convert {\n",
              "      background-color: #E8F0FE;\n",
              "      border: none;\n",
              "      border-radius: 50%;\n",
              "      cursor: pointer;\n",
              "      display: none;\n",
              "      fill: #1967D2;\n",
              "      height: 32px;\n",
              "      padding: 0 0 0 0;\n",
              "      width: 32px;\n",
              "    }\n",
              "\n",
              "    .colab-df-convert:hover {\n",
              "      background-color: #E2EBFA;\n",
              "      box-shadow: 0px 1px 2px rgba(60, 64, 67, 0.3), 0px 1px 3px 1px rgba(60, 64, 67, 0.15);\n",
              "      fill: #174EA6;\n",
              "    }\n",
              "\n",
              "    [theme=dark] .colab-df-convert {\n",
              "      background-color: #3B4455;\n",
              "      fill: #D2E3FC;\n",
              "    }\n",
              "\n",
              "    [theme=dark] .colab-df-convert:hover {\n",
              "      background-color: #434B5C;\n",
              "      box-shadow: 0px 1px 3px 1px rgba(0, 0, 0, 0.15);\n",
              "      filter: drop-shadow(0px 1px 2px rgba(0, 0, 0, 0.3));\n",
              "      fill: #FFFFFF;\n",
              "    }\n",
              "  </style>\n",
              "\n",
              "      <script>\n",
              "        const buttonEl =\n",
              "          document.querySelector('#df-d41e26a6-9388-4180-8932-b4563ef9515e button.colab-df-convert');\n",
              "        buttonEl.style.display =\n",
              "          google.colab.kernel.accessAllowed ? 'block' : 'none';\n",
              "\n",
              "        async function convertToInteractive(key) {\n",
              "          const element = document.querySelector('#df-d41e26a6-9388-4180-8932-b4563ef9515e');\n",
              "          const dataTable =\n",
              "            await google.colab.kernel.invokeFunction('convertToInteractive',\n",
              "                                                     [key], {});\n",
              "          if (!dataTable) return;\n",
              "\n",
              "          const docLinkHtml = 'Like what you see? Visit the ' +\n",
              "            '<a target=\"_blank\" href=https://colab.research.google.com/notebooks/data_table.ipynb>data table notebook</a>'\n",
              "            + ' to learn more about interactive tables.';\n",
              "          element.innerHTML = '';\n",
              "          dataTable['output_type'] = 'display_data';\n",
              "          await google.colab.output.renderOutput(dataTable, element);\n",
              "          const docLink = document.createElement('div');\n",
              "          docLink.innerHTML = docLinkHtml;\n",
              "          element.appendChild(docLink);\n",
              "        }\n",
              "      </script>\n",
              "    </div>\n",
              "  </div>\n",
              "  "
            ]
          },
          "metadata": {},
          "execution_count": 76
        }
      ]
    },
    {
      "cell_type": "code",
      "source": [
        "ass1['ความมั่นใจในการเมินราคาทรัพย์'].value_counts()"
      ],
      "metadata": {
        "colab": {
          "base_uri": "https://localhost:8080/"
        },
        "id": "Pf5nRFf7bGeG",
        "outputId": "fc6dd1e6-b22b-4af7-d755-891411df9c60"
      },
      "execution_count": 77,
      "outputs": [
        {
          "output_type": "execute_result",
          "data": {
            "text/plain": [
              "มั่นใจ    100\n",
              "Name: ความมั่นใจในการเมินราคาทรัพย์, dtype: int64"
            ]
          },
          "metadata": {},
          "execution_count": 77
        }
      ]
    },
    {
      "cell_type": "code",
      "source": [
        "ass1['ให้คะแนนทรัพย์'].value_counts()"
      ],
      "metadata": {
        "colab": {
          "base_uri": "https://localhost:8080/"
        },
        "id": "GwTr2I4Lg1zY",
        "outputId": "e18bd672-976f-4519-e690-f2f5412ddb14"
      },
      "execution_count": 78,
      "outputs": [
        {
          "output_type": "execute_result",
          "data": {
            "text/plain": [
              "2 ขายได้ยาก ใช้ระยะเวลามากว่า 1 ปี    54\n",
              "3 ขายได้ ใช้ระยะเวลา 7 - 12 เดือน     43\n",
              "4 ขายได้ ใช้ระยะเวลา 4 - 6 เดือน       2\n",
              "1 ขายไม่ได้แน่นอน                      1\n",
              "Name: ให้คะแนนทรัพย์, dtype: int64"
            ]
          },
          "metadata": {},
          "execution_count": 78
        }
      ]
    },
    {
      "cell_type": "markdown",
      "source": [
        "##ผู้ประเมินคนที่ 2"
      ],
      "metadata": {
        "id": "1Mu2cH41MN9z"
      }
    },
    {
      "cell_type": "code",
      "source": [
        "ass2 = df1[df1['ID ผู้ประเมิน']==2]\n",
        "ass2.count()"
      ],
      "metadata": {
        "colab": {
          "base_uri": "https://localhost:8080/"
        },
        "outputId": "0b7d186b-1148-4b49-e97d-32debf2e4374",
        "id": "Ti8jVe9oMN90"
      },
      "execution_count": 79,
      "outputs": [
        {
          "output_type": "execute_result",
          "data": {
            "text/plain": [
              "ID ผู้ประเมิน                     90\n",
              "post id                           90\n",
              "property_type                     90\n",
              "ความมั่นใจในการเมินราคาทรัพย์     90\n",
              "ราคาทรัพย์                        90\n",
              "ประเมินราคาซื้อ-ขาย               89\n",
              "ปัจจัยในการประเมินราคาซื้อ-ขาย    89\n",
              "เหตุผลไม่มั่นใจราคาประเมิน         1\n",
              "ให้คะแนนทรัพย์                    89\n",
              "Unnamed: 9                         0\n",
              "Unnamed: 10                        0\n",
              "Unnamed: 11                        0\n",
              "Unnamed: 12                        0\n",
              "Unnamed: 13                        0\n",
              "dtype: int64"
            ]
          },
          "metadata": {},
          "execution_count": 79
        }
      ]
    },
    {
      "cell_type": "code",
      "source": [
        "ass2.describe()"
      ],
      "metadata": {
        "colab": {
          "base_uri": "https://localhost:8080/",
          "height": 361
        },
        "outputId": "29ae6f15-41d2-407f-c677-bc2c95365f06",
        "id": "hJRBIa_mMN92"
      },
      "execution_count": 80,
      "outputs": [
        {
          "output_type": "execute_result",
          "data": {
            "text/plain": [
              "       ID ผู้ประเมิน    ราคาทรัพย์  ประเมินราคาซื้อ-ขาย  Unnamed: 9  \\\n",
              "count           90.0  9.000000e+01         8.900000e+01         0.0   \n",
              "mean             2.0  4.240733e+06         4.153258e+06         NaN   \n",
              "std              0.0  2.714815e+06         2.386901e+06         NaN   \n",
              "min              2.0  3.900000e+05         9.900000e+05         NaN   \n",
              "25%              2.0  2.860000e+06         2.600000e+06         NaN   \n",
              "50%              2.0  4.000000e+06         3.900000e+06         NaN   \n",
              "75%              2.0  5.000000e+06         4.900000e+06         NaN   \n",
              "max              2.0  2.094900e+07         1.700000e+07         NaN   \n",
              "\n",
              "       Unnamed: 10  Unnamed: 11  Unnamed: 12  Unnamed: 13  \n",
              "count          0.0          0.0          0.0          0.0  \n",
              "mean           NaN          NaN          NaN          NaN  \n",
              "std            NaN          NaN          NaN          NaN  \n",
              "min            NaN          NaN          NaN          NaN  \n",
              "25%            NaN          NaN          NaN          NaN  \n",
              "50%            NaN          NaN          NaN          NaN  \n",
              "75%            NaN          NaN          NaN          NaN  \n",
              "max            NaN          NaN          NaN          NaN  "
            ],
            "text/html": [
              "\n",
              "  <div id=\"df-1607a485-e6fb-4517-8e91-64c393de525c\">\n",
              "    <div class=\"colab-df-container\">\n",
              "      <div>\n",
              "<style scoped>\n",
              "    .dataframe tbody tr th:only-of-type {\n",
              "        vertical-align: middle;\n",
              "    }\n",
              "\n",
              "    .dataframe tbody tr th {\n",
              "        vertical-align: top;\n",
              "    }\n",
              "\n",
              "    .dataframe thead th {\n",
              "        text-align: right;\n",
              "    }\n",
              "</style>\n",
              "<table border=\"1\" class=\"dataframe\">\n",
              "  <thead>\n",
              "    <tr style=\"text-align: right;\">\n",
              "      <th></th>\n",
              "      <th>ID ผู้ประเมิน</th>\n",
              "      <th>ราคาทรัพย์</th>\n",
              "      <th>ประเมินราคาซื้อ-ขาย</th>\n",
              "      <th>Unnamed: 9</th>\n",
              "      <th>Unnamed: 10</th>\n",
              "      <th>Unnamed: 11</th>\n",
              "      <th>Unnamed: 12</th>\n",
              "      <th>Unnamed: 13</th>\n",
              "    </tr>\n",
              "  </thead>\n",
              "  <tbody>\n",
              "    <tr>\n",
              "      <th>count</th>\n",
              "      <td>90.0</td>\n",
              "      <td>9.000000e+01</td>\n",
              "      <td>8.900000e+01</td>\n",
              "      <td>0.0</td>\n",
              "      <td>0.0</td>\n",
              "      <td>0.0</td>\n",
              "      <td>0.0</td>\n",
              "      <td>0.0</td>\n",
              "    </tr>\n",
              "    <tr>\n",
              "      <th>mean</th>\n",
              "      <td>2.0</td>\n",
              "      <td>4.240733e+06</td>\n",
              "      <td>4.153258e+06</td>\n",
              "      <td>NaN</td>\n",
              "      <td>NaN</td>\n",
              "      <td>NaN</td>\n",
              "      <td>NaN</td>\n",
              "      <td>NaN</td>\n",
              "    </tr>\n",
              "    <tr>\n",
              "      <th>std</th>\n",
              "      <td>0.0</td>\n",
              "      <td>2.714815e+06</td>\n",
              "      <td>2.386901e+06</td>\n",
              "      <td>NaN</td>\n",
              "      <td>NaN</td>\n",
              "      <td>NaN</td>\n",
              "      <td>NaN</td>\n",
              "      <td>NaN</td>\n",
              "    </tr>\n",
              "    <tr>\n",
              "      <th>min</th>\n",
              "      <td>2.0</td>\n",
              "      <td>3.900000e+05</td>\n",
              "      <td>9.900000e+05</td>\n",
              "      <td>NaN</td>\n",
              "      <td>NaN</td>\n",
              "      <td>NaN</td>\n",
              "      <td>NaN</td>\n",
              "      <td>NaN</td>\n",
              "    </tr>\n",
              "    <tr>\n",
              "      <th>25%</th>\n",
              "      <td>2.0</td>\n",
              "      <td>2.860000e+06</td>\n",
              "      <td>2.600000e+06</td>\n",
              "      <td>NaN</td>\n",
              "      <td>NaN</td>\n",
              "      <td>NaN</td>\n",
              "      <td>NaN</td>\n",
              "      <td>NaN</td>\n",
              "    </tr>\n",
              "    <tr>\n",
              "      <th>50%</th>\n",
              "      <td>2.0</td>\n",
              "      <td>4.000000e+06</td>\n",
              "      <td>3.900000e+06</td>\n",
              "      <td>NaN</td>\n",
              "      <td>NaN</td>\n",
              "      <td>NaN</td>\n",
              "      <td>NaN</td>\n",
              "      <td>NaN</td>\n",
              "    </tr>\n",
              "    <tr>\n",
              "      <th>75%</th>\n",
              "      <td>2.0</td>\n",
              "      <td>5.000000e+06</td>\n",
              "      <td>4.900000e+06</td>\n",
              "      <td>NaN</td>\n",
              "      <td>NaN</td>\n",
              "      <td>NaN</td>\n",
              "      <td>NaN</td>\n",
              "      <td>NaN</td>\n",
              "    </tr>\n",
              "    <tr>\n",
              "      <th>max</th>\n",
              "      <td>2.0</td>\n",
              "      <td>2.094900e+07</td>\n",
              "      <td>1.700000e+07</td>\n",
              "      <td>NaN</td>\n",
              "      <td>NaN</td>\n",
              "      <td>NaN</td>\n",
              "      <td>NaN</td>\n",
              "      <td>NaN</td>\n",
              "    </tr>\n",
              "  </tbody>\n",
              "</table>\n",
              "</div>\n",
              "      <button class=\"colab-df-convert\" onclick=\"convertToInteractive('df-1607a485-e6fb-4517-8e91-64c393de525c')\"\n",
              "              title=\"Convert this dataframe to an interactive table.\"\n",
              "              style=\"display:none;\">\n",
              "        \n",
              "  <svg xmlns=\"http://www.w3.org/2000/svg\" height=\"24px\"viewBox=\"0 0 24 24\"\n",
              "       width=\"24px\">\n",
              "    <path d=\"M0 0h24v24H0V0z\" fill=\"none\"/>\n",
              "    <path d=\"M18.56 5.44l.94 2.06.94-2.06 2.06-.94-2.06-.94-.94-2.06-.94 2.06-2.06.94zm-11 1L8.5 8.5l.94-2.06 2.06-.94-2.06-.94L8.5 2.5l-.94 2.06-2.06.94zm10 10l.94 2.06.94-2.06 2.06-.94-2.06-.94-.94-2.06-.94 2.06-2.06.94z\"/><path d=\"M17.41 7.96l-1.37-1.37c-.4-.4-.92-.59-1.43-.59-.52 0-1.04.2-1.43.59L10.3 9.45l-7.72 7.72c-.78.78-.78 2.05 0 2.83L4 21.41c.39.39.9.59 1.41.59.51 0 1.02-.2 1.41-.59l7.78-7.78 2.81-2.81c.8-.78.8-2.07 0-2.86zM5.41 20L4 18.59l7.72-7.72 1.47 1.35L5.41 20z\"/>\n",
              "  </svg>\n",
              "      </button>\n",
              "      \n",
              "  <style>\n",
              "    .colab-df-container {\n",
              "      display:flex;\n",
              "      flex-wrap:wrap;\n",
              "      gap: 12px;\n",
              "    }\n",
              "\n",
              "    .colab-df-convert {\n",
              "      background-color: #E8F0FE;\n",
              "      border: none;\n",
              "      border-radius: 50%;\n",
              "      cursor: pointer;\n",
              "      display: none;\n",
              "      fill: #1967D2;\n",
              "      height: 32px;\n",
              "      padding: 0 0 0 0;\n",
              "      width: 32px;\n",
              "    }\n",
              "\n",
              "    .colab-df-convert:hover {\n",
              "      background-color: #E2EBFA;\n",
              "      box-shadow: 0px 1px 2px rgba(60, 64, 67, 0.3), 0px 1px 3px 1px rgba(60, 64, 67, 0.15);\n",
              "      fill: #174EA6;\n",
              "    }\n",
              "\n",
              "    [theme=dark] .colab-df-convert {\n",
              "      background-color: #3B4455;\n",
              "      fill: #D2E3FC;\n",
              "    }\n",
              "\n",
              "    [theme=dark] .colab-df-convert:hover {\n",
              "      background-color: #434B5C;\n",
              "      box-shadow: 0px 1px 3px 1px rgba(0, 0, 0, 0.15);\n",
              "      filter: drop-shadow(0px 1px 2px rgba(0, 0, 0, 0.3));\n",
              "      fill: #FFFFFF;\n",
              "    }\n",
              "  </style>\n",
              "\n",
              "      <script>\n",
              "        const buttonEl =\n",
              "          document.querySelector('#df-1607a485-e6fb-4517-8e91-64c393de525c button.colab-df-convert');\n",
              "        buttonEl.style.display =\n",
              "          google.colab.kernel.accessAllowed ? 'block' : 'none';\n",
              "\n",
              "        async function convertToInteractive(key) {\n",
              "          const element = document.querySelector('#df-1607a485-e6fb-4517-8e91-64c393de525c');\n",
              "          const dataTable =\n",
              "            await google.colab.kernel.invokeFunction('convertToInteractive',\n",
              "                                                     [key], {});\n",
              "          if (!dataTable) return;\n",
              "\n",
              "          const docLinkHtml = 'Like what you see? Visit the ' +\n",
              "            '<a target=\"_blank\" href=https://colab.research.google.com/notebooks/data_table.ipynb>data table notebook</a>'\n",
              "            + ' to learn more about interactive tables.';\n",
              "          element.innerHTML = '';\n",
              "          dataTable['output_type'] = 'display_data';\n",
              "          await google.colab.output.renderOutput(dataTable, element);\n",
              "          const docLink = document.createElement('div');\n",
              "          docLink.innerHTML = docLinkHtml;\n",
              "          element.appendChild(docLink);\n",
              "        }\n",
              "      </script>\n",
              "    </div>\n",
              "  </div>\n",
              "  "
            ]
          },
          "metadata": {},
          "execution_count": 80
        }
      ]
    },
    {
      "cell_type": "code",
      "source": [
        "ass2['ความมั่นใจในการเมินราคาทรัพย์'].value_counts()"
      ],
      "metadata": {
        "colab": {
          "base_uri": "https://localhost:8080/"
        },
        "outputId": "d16ecb7c-00b7-49b9-dcb2-2e8cfe805490",
        "id": "Skd6XgHpMN94"
      },
      "execution_count": 81,
      "outputs": [
        {
          "output_type": "execute_result",
          "data": {
            "text/plain": [
              "มั่นใจ       89\n",
              "ไม่มั่นใจ     1\n",
              "Name: ความมั่นใจในการเมินราคาทรัพย์, dtype: int64"
            ]
          },
          "metadata": {},
          "execution_count": 81
        }
      ]
    },
    {
      "cell_type": "code",
      "source": [
        "ass2['ให้คะแนนทรัพย์'].value_counts()"
      ],
      "metadata": {
        "colab": {
          "base_uri": "https://localhost:8080/"
        },
        "outputId": "81586aec-f6f3-4a5e-abe5-85504d268c27",
        "id": "Uyh6MpQhMN96"
      },
      "execution_count": 82,
      "outputs": [
        {
          "output_type": "execute_result",
          "data": {
            "text/plain": [
              "3 ขายได้ ใช้ระยะเวลา 7 - 12 เดือน     64\n",
              "4 ขายได้ ใช้ระยะเวลา 4 - 6 เดือน      23\n",
              "5 ขายง่าย ใช้ระยะเวลา 1 - 3 เดือน      1\n",
              "2 ขายได้ยาก ใช้ระยะเวลามากว่า 1 ปี     1\n",
              "Name: ให้คะแนนทรัพย์, dtype: int64"
            ]
          },
          "metadata": {},
          "execution_count": 82
        }
      ]
    },
    {
      "cell_type": "markdown",
      "source": [
        "# เปรียบเทียบความแตกต่างในการประเมินราคาทรัพย์แต่ละทรัพย์ของนักประเมินแต่ละคนและของราคาตั้งขายใช้ MAPE เป็นเกณฑ์ในการเปรียบเทียบ"
      ],
      "metadata": {
        "id": "Q7Fuwq_BJAJ1"
      }
    },
    {
      "cell_type": "markdown",
      "source": [
        "##บ้าน\n"
      ],
      "metadata": {
        "id": "e6jEAGTPjxxL"
      }
    },
    {
      "cell_type": "code",
      "source": [
        "ass2['ประเมิน1'] = ass2['post id'].map(ass1.set_index('post id')['ประเมินราคาซื้อ-ขาย']);\n",
        "ass2.head()"
      ],
      "metadata": {
        "colab": {
          "base_uri": "https://localhost:8080/",
          "height": 930
        },
        "id": "MZ0HNiiKpsDx",
        "outputId": "ccdf38ed-1a3d-4565-f55e-097fe0356257"
      },
      "execution_count": 83,
      "outputs": [
        {
          "output_type": "stream",
          "name": "stderr",
          "text": [
            "<ipython-input-83-eec33b5e30d2>:1: SettingWithCopyWarning: \n",
            "A value is trying to be set on a copy of a slice from a DataFrame.\n",
            "Try using .loc[row_indexer,col_indexer] = value instead\n",
            "\n",
            "See the caveats in the documentation: https://pandas.pydata.org/pandas-docs/stable/user_guide/indexing.html#returning-a-view-versus-a-copy\n",
            "  ass2['ประเมิน1'] = ass2['post id'].map(ass1.set_index('post id')['ประเมินราคาซื้อ-ขาย']);\n"
          ]
        },
        {
          "output_type": "execute_result",
          "data": {
            "text/plain": [
              "   ID ผู้ประเมิน                              post id property_type  \\\n",
              "1              2   https://nayoo.co/khonkaen/posts/25    บ้านเดี่ยว   \n",
              "3              2   https://nayoo.co/khonkaen/posts/33    บ้านเดี่ยว   \n",
              "5              2  https://nayoo.co/khonkaen/posts/495    บ้านเดี่ยว   \n",
              "7              2  https://nayoo.co/khonkaen/posts/564    บ้านเดี่ยว   \n",
              "9              2  https://nayoo.co/khonkaen/posts/566    บ้านเดี่ยว   \n",
              "\n",
              "  ความมั่นใจในการเมินราคาทรัพย์  ราคาทรัพย์  ประเมินราคาซื้อ-ขาย  \\\n",
              "1                        มั่นใจ   2700000.0            2700000.0   \n",
              "3                        มั่นใจ   2600000.0            2400000.0   \n",
              "5                        มั่นใจ   5900000.0            9000000.0   \n",
              "7                        มั่นใจ   4400000.0            3700000.0   \n",
              "9                        มั่นใจ   2750000.0            2500000.0   \n",
              "\n",
              "                      ปัจจัยในการประเมินราคาซื้อ-ขาย  \\\n",
              "1  โครงการนี้ราคาเสนอขาย 2,500,000-3,000,000 บาท/...   \n",
              "3   ราคาเสนอขายประมาณ 2,200,000 - 2,500,000 บาท/หลัง   \n",
              "5  โซนนี้ราคาซื้อขาย ประมาณ 10,000-20,000 บาท/ตาร...   \n",
              "7             เสนอขาย 3,500,000 - 4,200,000 บาท/หลัง   \n",
              "9        ราคาเสนอขาย 2,000,0000 - 2,800,000 บาท/หลัง   \n",
              "\n",
              "  เหตุผลไม่มั่นใจราคาประเมิน                     ให้คะแนนทรัพย์  Unnamed: 9  \\\n",
              "1                        NaN   4 ขายได้ ใช้ระยะเวลา 4 - 6 เดือน         NaN   \n",
              "3                        NaN  3 ขายได้ ใช้ระยะเวลา 7 - 12 เดือน         NaN   \n",
              "5                        NaN  5 ขายง่าย ใช้ระยะเวลา 1 - 3 เดือน         NaN   \n",
              "7                        NaN  3 ขายได้ ใช้ระยะเวลา 7 - 12 เดือน         NaN   \n",
              "9                        NaN  3 ขายได้ ใช้ระยะเวลา 7 - 12 เดือน         NaN   \n",
              "\n",
              "   Unnamed: 10  Unnamed: 11  Unnamed: 12  Unnamed: 13   ประเมิน1  \n",
              "1          NaN          NaN          NaN          NaN  2500000.0  \n",
              "3          NaN          NaN          NaN          NaN  2200000.0  \n",
              "5          NaN          NaN          NaN          NaN  5000000.0  \n",
              "7          NaN          NaN          NaN          NaN  3500000.0  \n",
              "9          NaN          NaN          NaN          NaN  2500000.0  "
            ],
            "text/html": [
              "\n",
              "  <div id=\"df-22ca37df-8310-4104-aea8-94b0f46820e6\">\n",
              "    <div class=\"colab-df-container\">\n",
              "      <div>\n",
              "<style scoped>\n",
              "    .dataframe tbody tr th:only-of-type {\n",
              "        vertical-align: middle;\n",
              "    }\n",
              "\n",
              "    .dataframe tbody tr th {\n",
              "        vertical-align: top;\n",
              "    }\n",
              "\n",
              "    .dataframe thead th {\n",
              "        text-align: right;\n",
              "    }\n",
              "</style>\n",
              "<table border=\"1\" class=\"dataframe\">\n",
              "  <thead>\n",
              "    <tr style=\"text-align: right;\">\n",
              "      <th></th>\n",
              "      <th>ID ผู้ประเมิน</th>\n",
              "      <th>post id</th>\n",
              "      <th>property_type</th>\n",
              "      <th>ความมั่นใจในการเมินราคาทรัพย์</th>\n",
              "      <th>ราคาทรัพย์</th>\n",
              "      <th>ประเมินราคาซื้อ-ขาย</th>\n",
              "      <th>ปัจจัยในการประเมินราคาซื้อ-ขาย</th>\n",
              "      <th>เหตุผลไม่มั่นใจราคาประเมิน</th>\n",
              "      <th>ให้คะแนนทรัพย์</th>\n",
              "      <th>Unnamed: 9</th>\n",
              "      <th>Unnamed: 10</th>\n",
              "      <th>Unnamed: 11</th>\n",
              "      <th>Unnamed: 12</th>\n",
              "      <th>Unnamed: 13</th>\n",
              "      <th>ประเมิน1</th>\n",
              "    </tr>\n",
              "  </thead>\n",
              "  <tbody>\n",
              "    <tr>\n",
              "      <th>1</th>\n",
              "      <td>2</td>\n",
              "      <td>https://nayoo.co/khonkaen/posts/25</td>\n",
              "      <td>บ้านเดี่ยว</td>\n",
              "      <td>มั่นใจ</td>\n",
              "      <td>2700000.0</td>\n",
              "      <td>2700000.0</td>\n",
              "      <td>โครงการนี้ราคาเสนอขาย 2,500,000-3,000,000 บาท/...</td>\n",
              "      <td>NaN</td>\n",
              "      <td>4 ขายได้ ใช้ระยะเวลา 4 - 6 เดือน</td>\n",
              "      <td>NaN</td>\n",
              "      <td>NaN</td>\n",
              "      <td>NaN</td>\n",
              "      <td>NaN</td>\n",
              "      <td>NaN</td>\n",
              "      <td>2500000.0</td>\n",
              "    </tr>\n",
              "    <tr>\n",
              "      <th>3</th>\n",
              "      <td>2</td>\n",
              "      <td>https://nayoo.co/khonkaen/posts/33</td>\n",
              "      <td>บ้านเดี่ยว</td>\n",
              "      <td>มั่นใจ</td>\n",
              "      <td>2600000.0</td>\n",
              "      <td>2400000.0</td>\n",
              "      <td>ราคาเสนอขายประมาณ 2,200,000 - 2,500,000 บาท/หลัง</td>\n",
              "      <td>NaN</td>\n",
              "      <td>3 ขายได้ ใช้ระยะเวลา 7 - 12 เดือน</td>\n",
              "      <td>NaN</td>\n",
              "      <td>NaN</td>\n",
              "      <td>NaN</td>\n",
              "      <td>NaN</td>\n",
              "      <td>NaN</td>\n",
              "      <td>2200000.0</td>\n",
              "    </tr>\n",
              "    <tr>\n",
              "      <th>5</th>\n",
              "      <td>2</td>\n",
              "      <td>https://nayoo.co/khonkaen/posts/495</td>\n",
              "      <td>บ้านเดี่ยว</td>\n",
              "      <td>มั่นใจ</td>\n",
              "      <td>5900000.0</td>\n",
              "      <td>9000000.0</td>\n",
              "      <td>โซนนี้ราคาซื้อขาย ประมาณ 10,000-20,000 บาท/ตาร...</td>\n",
              "      <td>NaN</td>\n",
              "      <td>5 ขายง่าย ใช้ระยะเวลา 1 - 3 เดือน</td>\n",
              "      <td>NaN</td>\n",
              "      <td>NaN</td>\n",
              "      <td>NaN</td>\n",
              "      <td>NaN</td>\n",
              "      <td>NaN</td>\n",
              "      <td>5000000.0</td>\n",
              "    </tr>\n",
              "    <tr>\n",
              "      <th>7</th>\n",
              "      <td>2</td>\n",
              "      <td>https://nayoo.co/khonkaen/posts/564</td>\n",
              "      <td>บ้านเดี่ยว</td>\n",
              "      <td>มั่นใจ</td>\n",
              "      <td>4400000.0</td>\n",
              "      <td>3700000.0</td>\n",
              "      <td>เสนอขาย 3,500,000 - 4,200,000 บาท/หลัง</td>\n",
              "      <td>NaN</td>\n",
              "      <td>3 ขายได้ ใช้ระยะเวลา 7 - 12 เดือน</td>\n",
              "      <td>NaN</td>\n",
              "      <td>NaN</td>\n",
              "      <td>NaN</td>\n",
              "      <td>NaN</td>\n",
              "      <td>NaN</td>\n",
              "      <td>3500000.0</td>\n",
              "    </tr>\n",
              "    <tr>\n",
              "      <th>9</th>\n",
              "      <td>2</td>\n",
              "      <td>https://nayoo.co/khonkaen/posts/566</td>\n",
              "      <td>บ้านเดี่ยว</td>\n",
              "      <td>มั่นใจ</td>\n",
              "      <td>2750000.0</td>\n",
              "      <td>2500000.0</td>\n",
              "      <td>ราคาเสนอขาย 2,000,0000 - 2,800,000 บาท/หลัง</td>\n",
              "      <td>NaN</td>\n",
              "      <td>3 ขายได้ ใช้ระยะเวลา 7 - 12 เดือน</td>\n",
              "      <td>NaN</td>\n",
              "      <td>NaN</td>\n",
              "      <td>NaN</td>\n",
              "      <td>NaN</td>\n",
              "      <td>NaN</td>\n",
              "      <td>2500000.0</td>\n",
              "    </tr>\n",
              "  </tbody>\n",
              "</table>\n",
              "</div>\n",
              "      <button class=\"colab-df-convert\" onclick=\"convertToInteractive('df-22ca37df-8310-4104-aea8-94b0f46820e6')\"\n",
              "              title=\"Convert this dataframe to an interactive table.\"\n",
              "              style=\"display:none;\">\n",
              "        \n",
              "  <svg xmlns=\"http://www.w3.org/2000/svg\" height=\"24px\"viewBox=\"0 0 24 24\"\n",
              "       width=\"24px\">\n",
              "    <path d=\"M0 0h24v24H0V0z\" fill=\"none\"/>\n",
              "    <path d=\"M18.56 5.44l.94 2.06.94-2.06 2.06-.94-2.06-.94-.94-2.06-.94 2.06-2.06.94zm-11 1L8.5 8.5l.94-2.06 2.06-.94-2.06-.94L8.5 2.5l-.94 2.06-2.06.94zm10 10l.94 2.06.94-2.06 2.06-.94-2.06-.94-.94-2.06-.94 2.06-2.06.94z\"/><path d=\"M17.41 7.96l-1.37-1.37c-.4-.4-.92-.59-1.43-.59-.52 0-1.04.2-1.43.59L10.3 9.45l-7.72 7.72c-.78.78-.78 2.05 0 2.83L4 21.41c.39.39.9.59 1.41.59.51 0 1.02-.2 1.41-.59l7.78-7.78 2.81-2.81c.8-.78.8-2.07 0-2.86zM5.41 20L4 18.59l7.72-7.72 1.47 1.35L5.41 20z\"/>\n",
              "  </svg>\n",
              "      </button>\n",
              "      \n",
              "  <style>\n",
              "    .colab-df-container {\n",
              "      display:flex;\n",
              "      flex-wrap:wrap;\n",
              "      gap: 12px;\n",
              "    }\n",
              "\n",
              "    .colab-df-convert {\n",
              "      background-color: #E8F0FE;\n",
              "      border: none;\n",
              "      border-radius: 50%;\n",
              "      cursor: pointer;\n",
              "      display: none;\n",
              "      fill: #1967D2;\n",
              "      height: 32px;\n",
              "      padding: 0 0 0 0;\n",
              "      width: 32px;\n",
              "    }\n",
              "\n",
              "    .colab-df-convert:hover {\n",
              "      background-color: #E2EBFA;\n",
              "      box-shadow: 0px 1px 2px rgba(60, 64, 67, 0.3), 0px 1px 3px 1px rgba(60, 64, 67, 0.15);\n",
              "      fill: #174EA6;\n",
              "    }\n",
              "\n",
              "    [theme=dark] .colab-df-convert {\n",
              "      background-color: #3B4455;\n",
              "      fill: #D2E3FC;\n",
              "    }\n",
              "\n",
              "    [theme=dark] .colab-df-convert:hover {\n",
              "      background-color: #434B5C;\n",
              "      box-shadow: 0px 1px 3px 1px rgba(0, 0, 0, 0.15);\n",
              "      filter: drop-shadow(0px 1px 2px rgba(0, 0, 0, 0.3));\n",
              "      fill: #FFFFFF;\n",
              "    }\n",
              "  </style>\n",
              "\n",
              "      <script>\n",
              "        const buttonEl =\n",
              "          document.querySelector('#df-22ca37df-8310-4104-aea8-94b0f46820e6 button.colab-df-convert');\n",
              "        buttonEl.style.display =\n",
              "          google.colab.kernel.accessAllowed ? 'block' : 'none';\n",
              "\n",
              "        async function convertToInteractive(key) {\n",
              "          const element = document.querySelector('#df-22ca37df-8310-4104-aea8-94b0f46820e6');\n",
              "          const dataTable =\n",
              "            await google.colab.kernel.invokeFunction('convertToInteractive',\n",
              "                                                     [key], {});\n",
              "          if (!dataTable) return;\n",
              "\n",
              "          const docLinkHtml = 'Like what you see? Visit the ' +\n",
              "            '<a target=\"_blank\" href=https://colab.research.google.com/notebooks/data_table.ipynb>data table notebook</a>'\n",
              "            + ' to learn more about interactive tables.';\n",
              "          element.innerHTML = '';\n",
              "          dataTable['output_type'] = 'display_data';\n",
              "          await google.colab.output.renderOutput(dataTable, element);\n",
              "          const docLink = document.createElement('div');\n",
              "          docLink.innerHTML = docLinkHtml;\n",
              "          element.appendChild(docLink);\n",
              "        }\n",
              "      </script>\n",
              "    </div>\n",
              "  </div>\n",
              "  "
            ]
          },
          "metadata": {},
          "execution_count": 83
        }
      ]
    },
    {
      "cell_type": "code",
      "source": [
        "ass2.rename(columns = {'ประเมินราคาซื้อ-ขาย' : 'ประเมิน2'}, inplace = True) #เปลี่ยนชื่อ"
      ],
      "metadata": {
        "colab": {
          "base_uri": "https://localhost:8080/"
        },
        "id": "S8gECzeGBwl_",
        "outputId": "ca4debf0-a408-4cd0-96ee-9272c93a4488"
      },
      "execution_count": 84,
      "outputs": [
        {
          "output_type": "stream",
          "name": "stderr",
          "text": [
            "/usr/local/lib/python3.8/dist-packages/pandas/core/frame.py:5039: SettingWithCopyWarning: \n",
            "A value is trying to be set on a copy of a slice from a DataFrame\n",
            "\n",
            "See the caveats in the documentation: https://pandas.pydata.org/pandas-docs/stable/user_guide/indexing.html#returning-a-view-versus-a-copy\n",
            "  return super().rename(\n"
          ]
        }
      ]
    },
    {
      "cell_type": "code",
      "source": [
        "all1 = ass2[['post id', 'ราคาทรัพย์', 'ประเมิน1', 'ประเมิน2']]\n",
        "all1"
      ],
      "metadata": {
        "id": "tafFhYUtoRtQ",
        "colab": {
          "base_uri": "https://localhost:8080/",
          "height": 423
        },
        "outputId": "5d624c57-0c8e-4843-e64b-61e38df8c002"
      },
      "execution_count": 85,
      "outputs": [
        {
          "output_type": "execute_result",
          "data": {
            "text/plain": [
              "                                   post id  ราคาทรัพย์   ประเมิน1   ประเมิน2\n",
              "1       https://nayoo.co/khonkaen/posts/25   2700000.0  2500000.0  2700000.0\n",
              "3       https://nayoo.co/khonkaen/posts/33   2600000.0  2200000.0  2400000.0\n",
              "5      https://nayoo.co/khonkaen/posts/495   5900000.0  5000000.0  9000000.0\n",
              "7      https://nayoo.co/khonkaen/posts/564   4400000.0  3500000.0  3700000.0\n",
              "9      https://nayoo.co/khonkaen/posts/566   2750000.0  2500000.0  2500000.0\n",
              "..                                     ...         ...        ...        ...\n",
              "185  https://nayoo.co/khonkaen/posts/19495   5500000.0  4500000.0  5000000.0\n",
              "186  https://nayoo.co/khonkaen/posts/19496   7911000.0  5200000.0  7400000.0\n",
              "187     https://nayoo.co/khonkaen/posts/20   2000000.0  3600000.0  2500000.0\n",
              "188     https://nayoo.co/khonkaen/posts/31   4000000.0  4000000.0  3900000.0\n",
              "189    https://nayoo.co/khonkaen/posts/570   1375000.0  1200000.0  1400000.0\n",
              "\n",
              "[90 rows x 4 columns]"
            ],
            "text/html": [
              "\n",
              "  <div id=\"df-c40d0805-de29-47c7-855d-083bc2db9015\">\n",
              "    <div class=\"colab-df-container\">\n",
              "      <div>\n",
              "<style scoped>\n",
              "    .dataframe tbody tr th:only-of-type {\n",
              "        vertical-align: middle;\n",
              "    }\n",
              "\n",
              "    .dataframe tbody tr th {\n",
              "        vertical-align: top;\n",
              "    }\n",
              "\n",
              "    .dataframe thead th {\n",
              "        text-align: right;\n",
              "    }\n",
              "</style>\n",
              "<table border=\"1\" class=\"dataframe\">\n",
              "  <thead>\n",
              "    <tr style=\"text-align: right;\">\n",
              "      <th></th>\n",
              "      <th>post id</th>\n",
              "      <th>ราคาทรัพย์</th>\n",
              "      <th>ประเมิน1</th>\n",
              "      <th>ประเมิน2</th>\n",
              "    </tr>\n",
              "  </thead>\n",
              "  <tbody>\n",
              "    <tr>\n",
              "      <th>1</th>\n",
              "      <td>https://nayoo.co/khonkaen/posts/25</td>\n",
              "      <td>2700000.0</td>\n",
              "      <td>2500000.0</td>\n",
              "      <td>2700000.0</td>\n",
              "    </tr>\n",
              "    <tr>\n",
              "      <th>3</th>\n",
              "      <td>https://nayoo.co/khonkaen/posts/33</td>\n",
              "      <td>2600000.0</td>\n",
              "      <td>2200000.0</td>\n",
              "      <td>2400000.0</td>\n",
              "    </tr>\n",
              "    <tr>\n",
              "      <th>5</th>\n",
              "      <td>https://nayoo.co/khonkaen/posts/495</td>\n",
              "      <td>5900000.0</td>\n",
              "      <td>5000000.0</td>\n",
              "      <td>9000000.0</td>\n",
              "    </tr>\n",
              "    <tr>\n",
              "      <th>7</th>\n",
              "      <td>https://nayoo.co/khonkaen/posts/564</td>\n",
              "      <td>4400000.0</td>\n",
              "      <td>3500000.0</td>\n",
              "      <td>3700000.0</td>\n",
              "    </tr>\n",
              "    <tr>\n",
              "      <th>9</th>\n",
              "      <td>https://nayoo.co/khonkaen/posts/566</td>\n",
              "      <td>2750000.0</td>\n",
              "      <td>2500000.0</td>\n",
              "      <td>2500000.0</td>\n",
              "    </tr>\n",
              "    <tr>\n",
              "      <th>...</th>\n",
              "      <td>...</td>\n",
              "      <td>...</td>\n",
              "      <td>...</td>\n",
              "      <td>...</td>\n",
              "    </tr>\n",
              "    <tr>\n",
              "      <th>185</th>\n",
              "      <td>https://nayoo.co/khonkaen/posts/19495</td>\n",
              "      <td>5500000.0</td>\n",
              "      <td>4500000.0</td>\n",
              "      <td>5000000.0</td>\n",
              "    </tr>\n",
              "    <tr>\n",
              "      <th>186</th>\n",
              "      <td>https://nayoo.co/khonkaen/posts/19496</td>\n",
              "      <td>7911000.0</td>\n",
              "      <td>5200000.0</td>\n",
              "      <td>7400000.0</td>\n",
              "    </tr>\n",
              "    <tr>\n",
              "      <th>187</th>\n",
              "      <td>https://nayoo.co/khonkaen/posts/20</td>\n",
              "      <td>2000000.0</td>\n",
              "      <td>3600000.0</td>\n",
              "      <td>2500000.0</td>\n",
              "    </tr>\n",
              "    <tr>\n",
              "      <th>188</th>\n",
              "      <td>https://nayoo.co/khonkaen/posts/31</td>\n",
              "      <td>4000000.0</td>\n",
              "      <td>4000000.0</td>\n",
              "      <td>3900000.0</td>\n",
              "    </tr>\n",
              "    <tr>\n",
              "      <th>189</th>\n",
              "      <td>https://nayoo.co/khonkaen/posts/570</td>\n",
              "      <td>1375000.0</td>\n",
              "      <td>1200000.0</td>\n",
              "      <td>1400000.0</td>\n",
              "    </tr>\n",
              "  </tbody>\n",
              "</table>\n",
              "<p>90 rows × 4 columns</p>\n",
              "</div>\n",
              "      <button class=\"colab-df-convert\" onclick=\"convertToInteractive('df-c40d0805-de29-47c7-855d-083bc2db9015')\"\n",
              "              title=\"Convert this dataframe to an interactive table.\"\n",
              "              style=\"display:none;\">\n",
              "        \n",
              "  <svg xmlns=\"http://www.w3.org/2000/svg\" height=\"24px\"viewBox=\"0 0 24 24\"\n",
              "       width=\"24px\">\n",
              "    <path d=\"M0 0h24v24H0V0z\" fill=\"none\"/>\n",
              "    <path d=\"M18.56 5.44l.94 2.06.94-2.06 2.06-.94-2.06-.94-.94-2.06-.94 2.06-2.06.94zm-11 1L8.5 8.5l.94-2.06 2.06-.94-2.06-.94L8.5 2.5l-.94 2.06-2.06.94zm10 10l.94 2.06.94-2.06 2.06-.94-2.06-.94-.94-2.06-.94 2.06-2.06.94z\"/><path d=\"M17.41 7.96l-1.37-1.37c-.4-.4-.92-.59-1.43-.59-.52 0-1.04.2-1.43.59L10.3 9.45l-7.72 7.72c-.78.78-.78 2.05 0 2.83L4 21.41c.39.39.9.59 1.41.59.51 0 1.02-.2 1.41-.59l7.78-7.78 2.81-2.81c.8-.78.8-2.07 0-2.86zM5.41 20L4 18.59l7.72-7.72 1.47 1.35L5.41 20z\"/>\n",
              "  </svg>\n",
              "      </button>\n",
              "      \n",
              "  <style>\n",
              "    .colab-df-container {\n",
              "      display:flex;\n",
              "      flex-wrap:wrap;\n",
              "      gap: 12px;\n",
              "    }\n",
              "\n",
              "    .colab-df-convert {\n",
              "      background-color: #E8F0FE;\n",
              "      border: none;\n",
              "      border-radius: 50%;\n",
              "      cursor: pointer;\n",
              "      display: none;\n",
              "      fill: #1967D2;\n",
              "      height: 32px;\n",
              "      padding: 0 0 0 0;\n",
              "      width: 32px;\n",
              "    }\n",
              "\n",
              "    .colab-df-convert:hover {\n",
              "      background-color: #E2EBFA;\n",
              "      box-shadow: 0px 1px 2px rgba(60, 64, 67, 0.3), 0px 1px 3px 1px rgba(60, 64, 67, 0.15);\n",
              "      fill: #174EA6;\n",
              "    }\n",
              "\n",
              "    [theme=dark] .colab-df-convert {\n",
              "      background-color: #3B4455;\n",
              "      fill: #D2E3FC;\n",
              "    }\n",
              "\n",
              "    [theme=dark] .colab-df-convert:hover {\n",
              "      background-color: #434B5C;\n",
              "      box-shadow: 0px 1px 3px 1px rgba(0, 0, 0, 0.15);\n",
              "      filter: drop-shadow(0px 1px 2px rgba(0, 0, 0, 0.3));\n",
              "      fill: #FFFFFF;\n",
              "    }\n",
              "  </style>\n",
              "\n",
              "      <script>\n",
              "        const buttonEl =\n",
              "          document.querySelector('#df-c40d0805-de29-47c7-855d-083bc2db9015 button.colab-df-convert');\n",
              "        buttonEl.style.display =\n",
              "          google.colab.kernel.accessAllowed ? 'block' : 'none';\n",
              "\n",
              "        async function convertToInteractive(key) {\n",
              "          const element = document.querySelector('#df-c40d0805-de29-47c7-855d-083bc2db9015');\n",
              "          const dataTable =\n",
              "            await google.colab.kernel.invokeFunction('convertToInteractive',\n",
              "                                                     [key], {});\n",
              "          if (!dataTable) return;\n",
              "\n",
              "          const docLinkHtml = 'Like what you see? Visit the ' +\n",
              "            '<a target=\"_blank\" href=https://colab.research.google.com/notebooks/data_table.ipynb>data table notebook</a>'\n",
              "            + ' to learn more about interactive tables.';\n",
              "          element.innerHTML = '';\n",
              "          dataTable['output_type'] = 'display_data';\n",
              "          await google.colab.output.renderOutput(dataTable, element);\n",
              "          const docLink = document.createElement('div');\n",
              "          docLink.innerHTML = docLinkHtml;\n",
              "          element.appendChild(docLink);\n",
              "        }\n",
              "      </script>\n",
              "    </div>\n",
              "  </div>\n",
              "  "
            ]
          },
          "metadata": {},
          "execution_count": 85
        }
      ]
    },
    {
      "cell_type": "code",
      "source": [
        "all1.isnull().any()"
      ],
      "metadata": {
        "colab": {
          "base_uri": "https://localhost:8080/"
        },
        "id": "mnP4uDNiKEcg",
        "outputId": "06ebfab6-5098-4c28-b0bd-cfbf195d446c"
      },
      "execution_count": 86,
      "outputs": [
        {
          "output_type": "execute_result",
          "data": {
            "text/plain": [
              "post id       False\n",
              "ราคาทรัพย์    False\n",
              "ประเมิน1      False\n",
              "ประเมิน2       True\n",
              "dtype: bool"
            ]
          },
          "metadata": {},
          "execution_count": 86
        }
      ]
    },
    {
      "cell_type": "code",
      "source": [
        "all1 = all1.dropna(subset=['ราคาทรัพย์','ประเมิน2'])\n",
        "all1"
      ],
      "metadata": {
        "colab": {
          "base_uri": "https://localhost:8080/",
          "height": 423
        },
        "id": "ONa_iAtVFVGw",
        "outputId": "637bf0e7-1573-4423-9cf6-499bf3163b0e"
      },
      "execution_count": 87,
      "outputs": [
        {
          "output_type": "execute_result",
          "data": {
            "text/plain": [
              "                                   post id  ราคาทรัพย์   ประเมิน1   ประเมิน2\n",
              "1       https://nayoo.co/khonkaen/posts/25   2700000.0  2500000.0  2700000.0\n",
              "3       https://nayoo.co/khonkaen/posts/33   2600000.0  2200000.0  2400000.0\n",
              "5      https://nayoo.co/khonkaen/posts/495   5900000.0  5000000.0  9000000.0\n",
              "7      https://nayoo.co/khonkaen/posts/564   4400000.0  3500000.0  3700000.0\n",
              "9      https://nayoo.co/khonkaen/posts/566   2750000.0  2500000.0  2500000.0\n",
              "..                                     ...         ...        ...        ...\n",
              "185  https://nayoo.co/khonkaen/posts/19495   5500000.0  4500000.0  5000000.0\n",
              "186  https://nayoo.co/khonkaen/posts/19496   7911000.0  5200000.0  7400000.0\n",
              "187     https://nayoo.co/khonkaen/posts/20   2000000.0  3600000.0  2500000.0\n",
              "188     https://nayoo.co/khonkaen/posts/31   4000000.0  4000000.0  3900000.0\n",
              "189    https://nayoo.co/khonkaen/posts/570   1375000.0  1200000.0  1400000.0\n",
              "\n",
              "[89 rows x 4 columns]"
            ],
            "text/html": [
              "\n",
              "  <div id=\"df-7055f767-35b5-4c40-a83f-777ae489ab67\">\n",
              "    <div class=\"colab-df-container\">\n",
              "      <div>\n",
              "<style scoped>\n",
              "    .dataframe tbody tr th:only-of-type {\n",
              "        vertical-align: middle;\n",
              "    }\n",
              "\n",
              "    .dataframe tbody tr th {\n",
              "        vertical-align: top;\n",
              "    }\n",
              "\n",
              "    .dataframe thead th {\n",
              "        text-align: right;\n",
              "    }\n",
              "</style>\n",
              "<table border=\"1\" class=\"dataframe\">\n",
              "  <thead>\n",
              "    <tr style=\"text-align: right;\">\n",
              "      <th></th>\n",
              "      <th>post id</th>\n",
              "      <th>ราคาทรัพย์</th>\n",
              "      <th>ประเมิน1</th>\n",
              "      <th>ประเมิน2</th>\n",
              "    </tr>\n",
              "  </thead>\n",
              "  <tbody>\n",
              "    <tr>\n",
              "      <th>1</th>\n",
              "      <td>https://nayoo.co/khonkaen/posts/25</td>\n",
              "      <td>2700000.0</td>\n",
              "      <td>2500000.0</td>\n",
              "      <td>2700000.0</td>\n",
              "    </tr>\n",
              "    <tr>\n",
              "      <th>3</th>\n",
              "      <td>https://nayoo.co/khonkaen/posts/33</td>\n",
              "      <td>2600000.0</td>\n",
              "      <td>2200000.0</td>\n",
              "      <td>2400000.0</td>\n",
              "    </tr>\n",
              "    <tr>\n",
              "      <th>5</th>\n",
              "      <td>https://nayoo.co/khonkaen/posts/495</td>\n",
              "      <td>5900000.0</td>\n",
              "      <td>5000000.0</td>\n",
              "      <td>9000000.0</td>\n",
              "    </tr>\n",
              "    <tr>\n",
              "      <th>7</th>\n",
              "      <td>https://nayoo.co/khonkaen/posts/564</td>\n",
              "      <td>4400000.0</td>\n",
              "      <td>3500000.0</td>\n",
              "      <td>3700000.0</td>\n",
              "    </tr>\n",
              "    <tr>\n",
              "      <th>9</th>\n",
              "      <td>https://nayoo.co/khonkaen/posts/566</td>\n",
              "      <td>2750000.0</td>\n",
              "      <td>2500000.0</td>\n",
              "      <td>2500000.0</td>\n",
              "    </tr>\n",
              "    <tr>\n",
              "      <th>...</th>\n",
              "      <td>...</td>\n",
              "      <td>...</td>\n",
              "      <td>...</td>\n",
              "      <td>...</td>\n",
              "    </tr>\n",
              "    <tr>\n",
              "      <th>185</th>\n",
              "      <td>https://nayoo.co/khonkaen/posts/19495</td>\n",
              "      <td>5500000.0</td>\n",
              "      <td>4500000.0</td>\n",
              "      <td>5000000.0</td>\n",
              "    </tr>\n",
              "    <tr>\n",
              "      <th>186</th>\n",
              "      <td>https://nayoo.co/khonkaen/posts/19496</td>\n",
              "      <td>7911000.0</td>\n",
              "      <td>5200000.0</td>\n",
              "      <td>7400000.0</td>\n",
              "    </tr>\n",
              "    <tr>\n",
              "      <th>187</th>\n",
              "      <td>https://nayoo.co/khonkaen/posts/20</td>\n",
              "      <td>2000000.0</td>\n",
              "      <td>3600000.0</td>\n",
              "      <td>2500000.0</td>\n",
              "    </tr>\n",
              "    <tr>\n",
              "      <th>188</th>\n",
              "      <td>https://nayoo.co/khonkaen/posts/31</td>\n",
              "      <td>4000000.0</td>\n",
              "      <td>4000000.0</td>\n",
              "      <td>3900000.0</td>\n",
              "    </tr>\n",
              "    <tr>\n",
              "      <th>189</th>\n",
              "      <td>https://nayoo.co/khonkaen/posts/570</td>\n",
              "      <td>1375000.0</td>\n",
              "      <td>1200000.0</td>\n",
              "      <td>1400000.0</td>\n",
              "    </tr>\n",
              "  </tbody>\n",
              "</table>\n",
              "<p>89 rows × 4 columns</p>\n",
              "</div>\n",
              "      <button class=\"colab-df-convert\" onclick=\"convertToInteractive('df-7055f767-35b5-4c40-a83f-777ae489ab67')\"\n",
              "              title=\"Convert this dataframe to an interactive table.\"\n",
              "              style=\"display:none;\">\n",
              "        \n",
              "  <svg xmlns=\"http://www.w3.org/2000/svg\" height=\"24px\"viewBox=\"0 0 24 24\"\n",
              "       width=\"24px\">\n",
              "    <path d=\"M0 0h24v24H0V0z\" fill=\"none\"/>\n",
              "    <path d=\"M18.56 5.44l.94 2.06.94-2.06 2.06-.94-2.06-.94-.94-2.06-.94 2.06-2.06.94zm-11 1L8.5 8.5l.94-2.06 2.06-.94-2.06-.94L8.5 2.5l-.94 2.06-2.06.94zm10 10l.94 2.06.94-2.06 2.06-.94-2.06-.94-.94-2.06-.94 2.06-2.06.94z\"/><path d=\"M17.41 7.96l-1.37-1.37c-.4-.4-.92-.59-1.43-.59-.52 0-1.04.2-1.43.59L10.3 9.45l-7.72 7.72c-.78.78-.78 2.05 0 2.83L4 21.41c.39.39.9.59 1.41.59.51 0 1.02-.2 1.41-.59l7.78-7.78 2.81-2.81c.8-.78.8-2.07 0-2.86zM5.41 20L4 18.59l7.72-7.72 1.47 1.35L5.41 20z\"/>\n",
              "  </svg>\n",
              "      </button>\n",
              "      \n",
              "  <style>\n",
              "    .colab-df-container {\n",
              "      display:flex;\n",
              "      flex-wrap:wrap;\n",
              "      gap: 12px;\n",
              "    }\n",
              "\n",
              "    .colab-df-convert {\n",
              "      background-color: #E8F0FE;\n",
              "      border: none;\n",
              "      border-radius: 50%;\n",
              "      cursor: pointer;\n",
              "      display: none;\n",
              "      fill: #1967D2;\n",
              "      height: 32px;\n",
              "      padding: 0 0 0 0;\n",
              "      width: 32px;\n",
              "    }\n",
              "\n",
              "    .colab-df-convert:hover {\n",
              "      background-color: #E2EBFA;\n",
              "      box-shadow: 0px 1px 2px rgba(60, 64, 67, 0.3), 0px 1px 3px 1px rgba(60, 64, 67, 0.15);\n",
              "      fill: #174EA6;\n",
              "    }\n",
              "\n",
              "    [theme=dark] .colab-df-convert {\n",
              "      background-color: #3B4455;\n",
              "      fill: #D2E3FC;\n",
              "    }\n",
              "\n",
              "    [theme=dark] .colab-df-convert:hover {\n",
              "      background-color: #434B5C;\n",
              "      box-shadow: 0px 1px 3px 1px rgba(0, 0, 0, 0.15);\n",
              "      filter: drop-shadow(0px 1px 2px rgba(0, 0, 0, 0.3));\n",
              "      fill: #FFFFFF;\n",
              "    }\n",
              "  </style>\n",
              "\n",
              "      <script>\n",
              "        const buttonEl =\n",
              "          document.querySelector('#df-7055f767-35b5-4c40-a83f-777ae489ab67 button.colab-df-convert');\n",
              "        buttonEl.style.display =\n",
              "          google.colab.kernel.accessAllowed ? 'block' : 'none';\n",
              "\n",
              "        async function convertToInteractive(key) {\n",
              "          const element = document.querySelector('#df-7055f767-35b5-4c40-a83f-777ae489ab67');\n",
              "          const dataTable =\n",
              "            await google.colab.kernel.invokeFunction('convertToInteractive',\n",
              "                                                     [key], {});\n",
              "          if (!dataTable) return;\n",
              "\n",
              "          const docLinkHtml = 'Like what you see? Visit the ' +\n",
              "            '<a target=\"_blank\" href=https://colab.research.google.com/notebooks/data_table.ipynb>data table notebook</a>'\n",
              "            + ' to learn more about interactive tables.';\n",
              "          element.innerHTML = '';\n",
              "          dataTable['output_type'] = 'display_data';\n",
              "          await google.colab.output.renderOutput(dataTable, element);\n",
              "          const docLink = document.createElement('div');\n",
              "          docLink.innerHTML = docLinkHtml;\n",
              "          element.appendChild(docLink);\n",
              "        }\n",
              "      </script>\n",
              "    </div>\n",
              "  </div>\n",
              "  "
            ]
          },
          "metadata": {},
          "execution_count": 87
        }
      ]
    },
    {
      "cell_type": "code",
      "source": [
        "all1.isnull().any()"
      ],
      "metadata": {
        "colab": {
          "base_uri": "https://localhost:8080/"
        },
        "id": "7kLb0_SfF4xi",
        "outputId": "6bc5a252-faa3-4243-eda5-badfc92bb14c"
      },
      "execution_count": 88,
      "outputs": [
        {
          "output_type": "execute_result",
          "data": {
            "text/plain": [
              "post id       False\n",
              "ราคาทรัพย์    False\n",
              "ประเมิน1      False\n",
              "ประเมิน2      False\n",
              "dtype: bool"
            ]
          },
          "metadata": {},
          "execution_count": 88
        }
      ]
    },
    {
      "cell_type": "markdown",
      "source": [
        "### MAPE ของบ้าน"
      ],
      "metadata": {
        "id": "pFPLFkKVKzSD"
      }
    },
    {
      "cell_type": "code",
      "source": [
        "actual_h = all1['ราคาทรัพย์']\n",
        "pred1_h = all1['ประเมิน1']\n",
        "pred2_h = all1['ประเมิน2']"
      ],
      "metadata": {
        "id": "Aca3_BGRI6Jh"
      },
      "execution_count": 89,
      "outputs": []
    },
    {
      "cell_type": "code",
      "source": [
        "from sklearn.metrics import mean_absolute_percentage_error"
      ],
      "metadata": {
        "id": "mu0PHKy0R75Q"
      },
      "execution_count": 90,
      "outputs": []
    },
    {
      "cell_type": "code",
      "source": [
        "mh1 = mean_absolute_percentage_error(actual_h, pred1_h)\n",
        "print(f'ราคาทรัพย์เทียบกับผู้ประเมินคนที่ 1 มีค่า MAPE เท่ากับ {mh1*100} %')"
      ],
      "metadata": {
        "colab": {
          "base_uri": "https://localhost:8080/"
        },
        "id": "8cbimA_gM-pt",
        "outputId": "0479f882-c326-4719-beb1-02e910b09973"
      },
      "execution_count": 115,
      "outputs": [
        {
          "output_type": "stream",
          "name": "stdout",
          "text": [
            "ราคาทรัพย์เทียบกับผู้ประเมินคนที่ 1 มีค่า MAPE เท่ากับ 12.321512246130807 %\n"
          ]
        }
      ]
    },
    {
      "cell_type": "code",
      "source": [
        "mh2 = mean_absolute_percentage_error(actual_h, pred2_h)\n",
        "print(f'ราคาทรัพย์เทียบกับผู้ประเมินคนที่ 2 มีค่า MAPE เท่ากับ {mh2*100}%')"
      ],
      "metadata": {
        "colab": {
          "base_uri": "https://localhost:8080/"
        },
        "id": "oXxh9cl1NF15",
        "outputId": "14ae9ef5-96f9-417c-ed99-d024540f0998"
      },
      "execution_count": 116,
      "outputs": [
        {
          "output_type": "stream",
          "name": "stdout",
          "text": [
            "ราคาทรัพย์เทียบกับผู้ประเมินคนที่ 2 มีค่า MAPE เท่ากับ 10.417687099245775%\n"
          ]
        }
      ]
    },
    {
      "cell_type": "code",
      "source": [
        "mh3 = mean_absolute_percentage_error(pred1_h, pred2_h)\n",
        "print(f'ผู้ประเมินคนที่ 1 เทียบกับผู้ประเมินคนที่ 2 มีค่า MAPE เท่ากับ {mh3*100}%')"
      ],
      "metadata": {
        "colab": {
          "base_uri": "https://localhost:8080/"
        },
        "id": "0TTdLAk6PAS1",
        "outputId": "e3e78268-6aed-4e28-d2fe-a3c989a3f521"
      },
      "execution_count": 117,
      "outputs": [
        {
          "output_type": "stream",
          "name": "stdout",
          "text": [
            "ผู้ประเมินคนที่ 1 เทียบกับผู้ประเมินคนที่ 2 มีค่า MAPE เท่ากับ 13.626068116793128%\n"
          ]
        }
      ]
    },
    {
      "cell_type": "code",
      "source": [
        "mh4 = mean_absolute_percentage_error(pred2_h, pred1_h)\n",
        "print(f'ผู้ประเมินคนที่ 2 เทียบกับผู้ประเมินคนที่ 1 มีค่า MAPE เท่ากับ {mh4*100}%')"
      ],
      "metadata": {
        "colab": {
          "base_uri": "https://localhost:8080/"
        },
        "id": "2AbpavYfPiMJ",
        "outputId": "809f539c-d6f7-4d5f-c88f-941c96e66a28"
      },
      "execution_count": 118,
      "outputs": [
        {
          "output_type": "stream",
          "name": "stdout",
          "text": [
            "ผู้ประเมินคนที่ 2 เทียบกับผู้ประเมินคนที่ 1 มีค่า MAPE เท่ากับ 11.582834887783596%\n"
          ]
        }
      ]
    },
    {
      "cell_type": "code",
      "source": [
        "mh5 = mean_absolute_percentage_error(pred1_h, actual_h)\n",
        "print(f'ผู้ประเมินคนที่ 1 เทียบกับราคาทรัพย์ มีค่า MAPE เท่ากับ {mh5*100}%')"
      ],
      "metadata": {
        "colab": {
          "base_uri": "https://localhost:8080/"
        },
        "id": "gla1jlgIQZOq",
        "outputId": "f0e5fea1-cea4-43cc-f812-62d2c256b25f"
      },
      "execution_count": 119,
      "outputs": [
        {
          "output_type": "stream",
          "name": "stdout",
          "text": [
            "ผู้ประเมินคนที่ 1 เทียบกับราคาทรัพย์ มีค่า MAPE เท่ากับ 13.055527046371376%\n"
          ]
        }
      ]
    },
    {
      "cell_type": "code",
      "source": [
        "mh6 = mean_absolute_percentage_error(pred2_h, actual_h)\n",
        "print(f'ผู้ประเมินคนที่ 2 เทียบกับราคาทรัพย์ มีค่า MAPE เท่ากับ {mh6*100}%')"
      ],
      "metadata": {
        "colab": {
          "base_uri": "https://localhost:8080/"
        },
        "id": "cI1BVry5QYwC",
        "outputId": "3c5b3c17-ad3d-454b-d632-074d553afe48"
      },
      "execution_count": 120,
      "outputs": [
        {
          "output_type": "stream",
          "name": "stdout",
          "text": [
            "ผู้ประเมินคนที่ 2 เทียบกับราคาทรัพย์ มีค่า MAPE เท่ากับ 8.521474003880796%\n"
          ]
        }
      ]
    },
    {
      "cell_type": "markdown",
      "source": [
        "## ที่ดิน"
      ],
      "metadata": {
        "id": "kY3mYPD2UYy-"
      }
    },
    {
      "cell_type": "code",
      "source": [
        "df2"
      ],
      "metadata": {
        "id": "zHjeRbMJUbg_",
        "outputId": "56c064bb-36dd-488a-d661-b4c6de7dec76",
        "colab": {
          "base_uri": "https://localhost:8080/",
          "height": 1000
        }
      },
      "execution_count": 121,
      "outputs": [
        {
          "output_type": "execute_result",
          "data": {
            "text/plain": [
              "     ID ผู้ประเมิน                                post id property_type  \\\n",
              "0                1   https://nayoo.co/khonkaen/posts/1033        ที่ดิน   \n",
              "1                2   https://nayoo.co/khonkaen/posts/1033        ที่ดิน   \n",
              "2                4   https://nayoo.co/khonkaen/posts/1033        ที่ดิน   \n",
              "3                1   https://nayoo.co/khonkaen/posts/1711        ที่ดิน   \n",
              "4                2   https://nayoo.co/khonkaen/posts/1711        ที่ดิน   \n",
              "..             ...                                    ...           ...   \n",
              "205              1  https://nayoo.co/khonkaen/posts/17093        ที่ดิน   \n",
              "206              2  https://nayoo.co/khonkaen/posts/17112        ที่ดิน   \n",
              "207              1  https://nayoo.co/khonkaen/posts/17112        ที่ดิน   \n",
              "208              2  https://nayoo.co/khonkaen/posts/17145        ที่ดิน   \n",
              "209              1  https://nayoo.co/khonkaen/posts/17145        ที่ดิน   \n",
              "\n",
              "    ความมั่นใจในการเมินราคาทรัพย์  ราคาทรัพย์  ประเมินราคาซื้อ-ขาย  \\\n",
              "0                          มั่นใจ     2800000            1800000.0   \n",
              "1                          มั่นใจ     2800000            2000000.0   \n",
              "2                          มั่นใจ     2800000            3000000.0   \n",
              "3                          มั่นใจ    14900000            8000000.0   \n",
              "4                          มั่นใจ    14900000           12000000.0   \n",
              "..                            ...         ...                  ...   \n",
              "205                        มั่นใจ     2650000            2000000.0   \n",
              "206                        มั่นใจ     1300000            1500000.0   \n",
              "207                        มั่นใจ     1300000            1500000.0   \n",
              "208                        มั่นใจ     3000000            2800000.0   \n",
              "209                        มั่นใจ     3000000            2500000.0   \n",
              "\n",
              "              ปัจจัยในการประเมินราคาซื้อ-ขาย เหตุผลไม่มั่นใจราคาประเมิน  \\\n",
              "0                               8,000-25,000                        NaN   \n",
              "1      ราคาเสนอขาย 7,000-12,0000 บาท/ตารางวา                        NaN   \n",
              "2                                12000-18000                        NaN   \n",
              "3                              25,000-80,000                        NaN   \n",
              "4    ราคาเสนอขาย 100,000-150,000 บาท/ตารางวา                        NaN   \n",
              "..                                       ...                        ...   \n",
              "205                   500-15,000 บาท/ตารางวา                        NaN   \n",
              "206    ราคาเสนอขาย 3,000 - 5,000 บาท/ตารางวา                        NaN   \n",
              "207                   500-25,000 บาท/ตารางวา                        NaN   \n",
              "208  ราคาเสนอขาย 10,000 - 15,000 บาท/ตารางวา                        NaN   \n",
              "209                 1,000-25,000 บาท/ตารางวา                        NaN   \n",
              "\n",
              "                         ให้คะแนนทรัพย์  Unnamed: 9  \\\n",
              "0     3 ขายได้ ใช้ระยะเวลา 7 - 12 เดือน         3.0   \n",
              "1    2 ขายได้ยาก ใช้ระยะเวลามากว่า 1 ปี         2.0   \n",
              "2     3 ขายได้ ใช้ระยะเวลา 7 - 12 เดือน         3.0   \n",
              "3    2 ขายได้ยาก ใช้ระยะเวลามากว่า 1 ปี         2.0   \n",
              "4    2 ขายได้ยาก ใช้ระยะเวลามากว่า 1 ปี         2.0   \n",
              "..                                  ...         ...   \n",
              "205  2 ขายได้ยาก ใช้ระยะเวลามากว่า 1 ปี         NaN   \n",
              "206   3 ขายได้ ใช้ระยะเวลา 7 - 12 เดือน         NaN   \n",
              "207   3 ขายได้ ใช้ระยะเวลา 7 - 12 เดือน         NaN   \n",
              "208  2 ขายได้ยาก ใช้ระยะเวลามากว่า 1 ปี         NaN   \n",
              "209   3 ขายได้ ใช้ระยะเวลา 7 - 12 เดือน         NaN   \n",
              "\n",
              "                       Unnamed: 10  Unnamed: 11  Unnamed: 12  \n",
              "0    ขายได้ ใช้ระยะเวลา 7-12 เดือน          NaN        100.0  \n",
              "1     ขายได้ ใช้ระยะเวลา 4-6 เดือน          NaN          NaN  \n",
              "2    ขายได้ ใช้ระยะเวลา 7-12 เดือน          NaN          NaN  \n",
              "3     ขายได้ ใช้ระยะเวลา 4-6 เดือน          NaN          NaN  \n",
              "4     ขายได้ ใช้ระยะเวลา 4-6 เดือน          NaN          NaN  \n",
              "..                             ...          ...          ...  \n",
              "205                            NaN          NaN          NaN  \n",
              "206                            NaN          NaN          NaN  \n",
              "207                            NaN          NaN          NaN  \n",
              "208                            NaN          NaN          NaN  \n",
              "209                            NaN          NaN          NaN  \n",
              "\n",
              "[210 rows x 13 columns]"
            ],
            "text/html": [
              "\n",
              "  <div id=\"df-aeeda8cd-3bf0-42ec-980c-5cead5ae0944\">\n",
              "    <div class=\"colab-df-container\">\n",
              "      <div>\n",
              "<style scoped>\n",
              "    .dataframe tbody tr th:only-of-type {\n",
              "        vertical-align: middle;\n",
              "    }\n",
              "\n",
              "    .dataframe tbody tr th {\n",
              "        vertical-align: top;\n",
              "    }\n",
              "\n",
              "    .dataframe thead th {\n",
              "        text-align: right;\n",
              "    }\n",
              "</style>\n",
              "<table border=\"1\" class=\"dataframe\">\n",
              "  <thead>\n",
              "    <tr style=\"text-align: right;\">\n",
              "      <th></th>\n",
              "      <th>ID ผู้ประเมิน</th>\n",
              "      <th>post id</th>\n",
              "      <th>property_type</th>\n",
              "      <th>ความมั่นใจในการเมินราคาทรัพย์</th>\n",
              "      <th>ราคาทรัพย์</th>\n",
              "      <th>ประเมินราคาซื้อ-ขาย</th>\n",
              "      <th>ปัจจัยในการประเมินราคาซื้อ-ขาย</th>\n",
              "      <th>เหตุผลไม่มั่นใจราคาประเมิน</th>\n",
              "      <th>ให้คะแนนทรัพย์</th>\n",
              "      <th>Unnamed: 9</th>\n",
              "      <th>Unnamed: 10</th>\n",
              "      <th>Unnamed: 11</th>\n",
              "      <th>Unnamed: 12</th>\n",
              "    </tr>\n",
              "  </thead>\n",
              "  <tbody>\n",
              "    <tr>\n",
              "      <th>0</th>\n",
              "      <td>1</td>\n",
              "      <td>https://nayoo.co/khonkaen/posts/1033</td>\n",
              "      <td>ที่ดิน</td>\n",
              "      <td>มั่นใจ</td>\n",
              "      <td>2800000</td>\n",
              "      <td>1800000.0</td>\n",
              "      <td>8,000-25,000</td>\n",
              "      <td>NaN</td>\n",
              "      <td>3 ขายได้ ใช้ระยะเวลา 7 - 12 เดือน</td>\n",
              "      <td>3.0</td>\n",
              "      <td>ขายได้ ใช้ระยะเวลา 7-12 เดือน</td>\n",
              "      <td>NaN</td>\n",
              "      <td>100.0</td>\n",
              "    </tr>\n",
              "    <tr>\n",
              "      <th>1</th>\n",
              "      <td>2</td>\n",
              "      <td>https://nayoo.co/khonkaen/posts/1033</td>\n",
              "      <td>ที่ดิน</td>\n",
              "      <td>มั่นใจ</td>\n",
              "      <td>2800000</td>\n",
              "      <td>2000000.0</td>\n",
              "      <td>ราคาเสนอขาย 7,000-12,0000 บาท/ตารางวา</td>\n",
              "      <td>NaN</td>\n",
              "      <td>2 ขายได้ยาก ใช้ระยะเวลามากว่า 1 ปี</td>\n",
              "      <td>2.0</td>\n",
              "      <td>ขายได้ ใช้ระยะเวลา 4-6 เดือน</td>\n",
              "      <td>NaN</td>\n",
              "      <td>NaN</td>\n",
              "    </tr>\n",
              "    <tr>\n",
              "      <th>2</th>\n",
              "      <td>4</td>\n",
              "      <td>https://nayoo.co/khonkaen/posts/1033</td>\n",
              "      <td>ที่ดิน</td>\n",
              "      <td>มั่นใจ</td>\n",
              "      <td>2800000</td>\n",
              "      <td>3000000.0</td>\n",
              "      <td>12000-18000</td>\n",
              "      <td>NaN</td>\n",
              "      <td>3 ขายได้ ใช้ระยะเวลา 7 - 12 เดือน</td>\n",
              "      <td>3.0</td>\n",
              "      <td>ขายได้ ใช้ระยะเวลา 7-12 เดือน</td>\n",
              "      <td>NaN</td>\n",
              "      <td>NaN</td>\n",
              "    </tr>\n",
              "    <tr>\n",
              "      <th>3</th>\n",
              "      <td>1</td>\n",
              "      <td>https://nayoo.co/khonkaen/posts/1711</td>\n",
              "      <td>ที่ดิน</td>\n",
              "      <td>มั่นใจ</td>\n",
              "      <td>14900000</td>\n",
              "      <td>8000000.0</td>\n",
              "      <td>25,000-80,000</td>\n",
              "      <td>NaN</td>\n",
              "      <td>2 ขายได้ยาก ใช้ระยะเวลามากว่า 1 ปี</td>\n",
              "      <td>2.0</td>\n",
              "      <td>ขายได้ ใช้ระยะเวลา 4-6 เดือน</td>\n",
              "      <td>NaN</td>\n",
              "      <td>NaN</td>\n",
              "    </tr>\n",
              "    <tr>\n",
              "      <th>4</th>\n",
              "      <td>2</td>\n",
              "      <td>https://nayoo.co/khonkaen/posts/1711</td>\n",
              "      <td>ที่ดิน</td>\n",
              "      <td>มั่นใจ</td>\n",
              "      <td>14900000</td>\n",
              "      <td>12000000.0</td>\n",
              "      <td>ราคาเสนอขาย 100,000-150,000 บาท/ตารางวา</td>\n",
              "      <td>NaN</td>\n",
              "      <td>2 ขายได้ยาก ใช้ระยะเวลามากว่า 1 ปี</td>\n",
              "      <td>2.0</td>\n",
              "      <td>ขายได้ ใช้ระยะเวลา 4-6 เดือน</td>\n",
              "      <td>NaN</td>\n",
              "      <td>NaN</td>\n",
              "    </tr>\n",
              "    <tr>\n",
              "      <th>...</th>\n",
              "      <td>...</td>\n",
              "      <td>...</td>\n",
              "      <td>...</td>\n",
              "      <td>...</td>\n",
              "      <td>...</td>\n",
              "      <td>...</td>\n",
              "      <td>...</td>\n",
              "      <td>...</td>\n",
              "      <td>...</td>\n",
              "      <td>...</td>\n",
              "      <td>...</td>\n",
              "      <td>...</td>\n",
              "      <td>...</td>\n",
              "    </tr>\n",
              "    <tr>\n",
              "      <th>205</th>\n",
              "      <td>1</td>\n",
              "      <td>https://nayoo.co/khonkaen/posts/17093</td>\n",
              "      <td>ที่ดิน</td>\n",
              "      <td>มั่นใจ</td>\n",
              "      <td>2650000</td>\n",
              "      <td>2000000.0</td>\n",
              "      <td>500-15,000 บาท/ตารางวา</td>\n",
              "      <td>NaN</td>\n",
              "      <td>2 ขายได้ยาก ใช้ระยะเวลามากว่า 1 ปี</td>\n",
              "      <td>NaN</td>\n",
              "      <td>NaN</td>\n",
              "      <td>NaN</td>\n",
              "      <td>NaN</td>\n",
              "    </tr>\n",
              "    <tr>\n",
              "      <th>206</th>\n",
              "      <td>2</td>\n",
              "      <td>https://nayoo.co/khonkaen/posts/17112</td>\n",
              "      <td>ที่ดิน</td>\n",
              "      <td>มั่นใจ</td>\n",
              "      <td>1300000</td>\n",
              "      <td>1500000.0</td>\n",
              "      <td>ราคาเสนอขาย 3,000 - 5,000 บาท/ตารางวา</td>\n",
              "      <td>NaN</td>\n",
              "      <td>3 ขายได้ ใช้ระยะเวลา 7 - 12 เดือน</td>\n",
              "      <td>NaN</td>\n",
              "      <td>NaN</td>\n",
              "      <td>NaN</td>\n",
              "      <td>NaN</td>\n",
              "    </tr>\n",
              "    <tr>\n",
              "      <th>207</th>\n",
              "      <td>1</td>\n",
              "      <td>https://nayoo.co/khonkaen/posts/17112</td>\n",
              "      <td>ที่ดิน</td>\n",
              "      <td>มั่นใจ</td>\n",
              "      <td>1300000</td>\n",
              "      <td>1500000.0</td>\n",
              "      <td>500-25,000 บาท/ตารางวา</td>\n",
              "      <td>NaN</td>\n",
              "      <td>3 ขายได้ ใช้ระยะเวลา 7 - 12 เดือน</td>\n",
              "      <td>NaN</td>\n",
              "      <td>NaN</td>\n",
              "      <td>NaN</td>\n",
              "      <td>NaN</td>\n",
              "    </tr>\n",
              "    <tr>\n",
              "      <th>208</th>\n",
              "      <td>2</td>\n",
              "      <td>https://nayoo.co/khonkaen/posts/17145</td>\n",
              "      <td>ที่ดิน</td>\n",
              "      <td>มั่นใจ</td>\n",
              "      <td>3000000</td>\n",
              "      <td>2800000.0</td>\n",
              "      <td>ราคาเสนอขาย 10,000 - 15,000 บาท/ตารางวา</td>\n",
              "      <td>NaN</td>\n",
              "      <td>2 ขายได้ยาก ใช้ระยะเวลามากว่า 1 ปี</td>\n",
              "      <td>NaN</td>\n",
              "      <td>NaN</td>\n",
              "      <td>NaN</td>\n",
              "      <td>NaN</td>\n",
              "    </tr>\n",
              "    <tr>\n",
              "      <th>209</th>\n",
              "      <td>1</td>\n",
              "      <td>https://nayoo.co/khonkaen/posts/17145</td>\n",
              "      <td>ที่ดิน</td>\n",
              "      <td>มั่นใจ</td>\n",
              "      <td>3000000</td>\n",
              "      <td>2500000.0</td>\n",
              "      <td>1,000-25,000 บาท/ตารางวา</td>\n",
              "      <td>NaN</td>\n",
              "      <td>3 ขายได้ ใช้ระยะเวลา 7 - 12 เดือน</td>\n",
              "      <td>NaN</td>\n",
              "      <td>NaN</td>\n",
              "      <td>NaN</td>\n",
              "      <td>NaN</td>\n",
              "    </tr>\n",
              "  </tbody>\n",
              "</table>\n",
              "<p>210 rows × 13 columns</p>\n",
              "</div>\n",
              "      <button class=\"colab-df-convert\" onclick=\"convertToInteractive('df-aeeda8cd-3bf0-42ec-980c-5cead5ae0944')\"\n",
              "              title=\"Convert this dataframe to an interactive table.\"\n",
              "              style=\"display:none;\">\n",
              "        \n",
              "  <svg xmlns=\"http://www.w3.org/2000/svg\" height=\"24px\"viewBox=\"0 0 24 24\"\n",
              "       width=\"24px\">\n",
              "    <path d=\"M0 0h24v24H0V0z\" fill=\"none\"/>\n",
              "    <path d=\"M18.56 5.44l.94 2.06.94-2.06 2.06-.94-2.06-.94-.94-2.06-.94 2.06-2.06.94zm-11 1L8.5 8.5l.94-2.06 2.06-.94-2.06-.94L8.5 2.5l-.94 2.06-2.06.94zm10 10l.94 2.06.94-2.06 2.06-.94-2.06-.94-.94-2.06-.94 2.06-2.06.94z\"/><path d=\"M17.41 7.96l-1.37-1.37c-.4-.4-.92-.59-1.43-.59-.52 0-1.04.2-1.43.59L10.3 9.45l-7.72 7.72c-.78.78-.78 2.05 0 2.83L4 21.41c.39.39.9.59 1.41.59.51 0 1.02-.2 1.41-.59l7.78-7.78 2.81-2.81c.8-.78.8-2.07 0-2.86zM5.41 20L4 18.59l7.72-7.72 1.47 1.35L5.41 20z\"/>\n",
              "  </svg>\n",
              "      </button>\n",
              "      \n",
              "  <style>\n",
              "    .colab-df-container {\n",
              "      display:flex;\n",
              "      flex-wrap:wrap;\n",
              "      gap: 12px;\n",
              "    }\n",
              "\n",
              "    .colab-df-convert {\n",
              "      background-color: #E8F0FE;\n",
              "      border: none;\n",
              "      border-radius: 50%;\n",
              "      cursor: pointer;\n",
              "      display: none;\n",
              "      fill: #1967D2;\n",
              "      height: 32px;\n",
              "      padding: 0 0 0 0;\n",
              "      width: 32px;\n",
              "    }\n",
              "\n",
              "    .colab-df-convert:hover {\n",
              "      background-color: #E2EBFA;\n",
              "      box-shadow: 0px 1px 2px rgba(60, 64, 67, 0.3), 0px 1px 3px 1px rgba(60, 64, 67, 0.15);\n",
              "      fill: #174EA6;\n",
              "    }\n",
              "\n",
              "    [theme=dark] .colab-df-convert {\n",
              "      background-color: #3B4455;\n",
              "      fill: #D2E3FC;\n",
              "    }\n",
              "\n",
              "    [theme=dark] .colab-df-convert:hover {\n",
              "      background-color: #434B5C;\n",
              "      box-shadow: 0px 1px 3px 1px rgba(0, 0, 0, 0.15);\n",
              "      filter: drop-shadow(0px 1px 2px rgba(0, 0, 0, 0.3));\n",
              "      fill: #FFFFFF;\n",
              "    }\n",
              "  </style>\n",
              "\n",
              "      <script>\n",
              "        const buttonEl =\n",
              "          document.querySelector('#df-aeeda8cd-3bf0-42ec-980c-5cead5ae0944 button.colab-df-convert');\n",
              "        buttonEl.style.display =\n",
              "          google.colab.kernel.accessAllowed ? 'block' : 'none';\n",
              "\n",
              "        async function convertToInteractive(key) {\n",
              "          const element = document.querySelector('#df-aeeda8cd-3bf0-42ec-980c-5cead5ae0944');\n",
              "          const dataTable =\n",
              "            await google.colab.kernel.invokeFunction('convertToInteractive',\n",
              "                                                     [key], {});\n",
              "          if (!dataTable) return;\n",
              "\n",
              "          const docLinkHtml = 'Like what you see? Visit the ' +\n",
              "            '<a target=\"_blank\" href=https://colab.research.google.com/notebooks/data_table.ipynb>data table notebook</a>'\n",
              "            + ' to learn more about interactive tables.';\n",
              "          element.innerHTML = '';\n",
              "          dataTable['output_type'] = 'display_data';\n",
              "          await google.colab.output.renderOutput(dataTable, element);\n",
              "          const docLink = document.createElement('div');\n",
              "          docLink.innerHTML = docLinkHtml;\n",
              "          element.appendChild(docLink);\n",
              "        }\n",
              "      </script>\n",
              "    </div>\n",
              "  </div>\n",
              "  "
            ]
          },
          "metadata": {},
          "execution_count": 121
        }
      ]
    },
    {
      "cell_type": "code",
      "source": [
        "ld1 = df2[df2['ID ผู้ประเมิน']==1]\n",
        "ld1.count()"
      ],
      "metadata": {
        "colab": {
          "base_uri": "https://localhost:8080/"
        },
        "outputId": "4c1b245b-da36-46f4-8061-e3885532289c",
        "id": "MzlhTawxFQ1s"
      },
      "execution_count": 122,
      "outputs": [
        {
          "output_type": "execute_result",
          "data": {
            "text/plain": [
              "ID ผู้ประเมิน                     100\n",
              "post id                           100\n",
              "property_type                     100\n",
              "ความมั่นใจในการเมินราคาทรัพย์     100\n",
              "ราคาทรัพย์                        100\n",
              "ประเมินราคาซื้อ-ขาย               100\n",
              "ปัจจัยในการประเมินราคาซื้อ-ขาย    100\n",
              "เหตุผลไม่มั่นใจราคาประเมิน          0\n",
              "ให้คะแนนทรัพย์                    100\n",
              "Unnamed: 9                         10\n",
              "Unnamed: 10                        10\n",
              "Unnamed: 11                         0\n",
              "Unnamed: 12                         1\n",
              "dtype: int64"
            ]
          },
          "metadata": {},
          "execution_count": 122
        }
      ]
    },
    {
      "cell_type": "code",
      "source": [
        "ld2 = df2[df2['ID ผู้ประเมิน']==2]\n",
        "ld2.count()"
      ],
      "metadata": {
        "colab": {
          "base_uri": "https://localhost:8080/"
        },
        "outputId": "6b25104a-6d84-4545-a6b1-9a3e5d68b75f",
        "id": "5HSC5gT-GI3S"
      },
      "execution_count": 123,
      "outputs": [
        {
          "output_type": "execute_result",
          "data": {
            "text/plain": [
              "ID ผู้ประเมิน                     100\n",
              "post id                           100\n",
              "property_type                     100\n",
              "ความมั่นใจในการเมินราคาทรัพย์     100\n",
              "ราคาทรัพย์                        100\n",
              "ประเมินราคาซื้อ-ขาย               100\n",
              "ปัจจัยในการประเมินราคาซื้อ-ขาย    100\n",
              "เหตุผลไม่มั่นใจราคาประเมิน          0\n",
              "ให้คะแนนทรัพย์                    100\n",
              "Unnamed: 9                         10\n",
              "Unnamed: 10                        10\n",
              "Unnamed: 11                         0\n",
              "Unnamed: 12                         0\n",
              "dtype: int64"
            ]
          },
          "metadata": {},
          "execution_count": 123
        }
      ]
    },
    {
      "cell_type": "code",
      "source": [
        "ld2['ประเมิน1'] = ld2['post id'].map(ld1.set_index('post id')['ประเมินราคาซื้อ-ขาย']);\n",
        "ld2.head()"
      ],
      "metadata": {
        "colab": {
          "base_uri": "https://localhost:8080/",
          "height": 912
        },
        "outputId": "2cdd92ec-cc05-4b20-ea0d-d32351ab68ab",
        "id": "qfui2-QcNDWn"
      },
      "execution_count": 124,
      "outputs": [
        {
          "output_type": "stream",
          "name": "stderr",
          "text": [
            "<ipython-input-124-a0679e8eebb7>:1: SettingWithCopyWarning: \n",
            "A value is trying to be set on a copy of a slice from a DataFrame.\n",
            "Try using .loc[row_indexer,col_indexer] = value instead\n",
            "\n",
            "See the caveats in the documentation: https://pandas.pydata.org/pandas-docs/stable/user_guide/indexing.html#returning-a-view-versus-a-copy\n",
            "  ld2['ประเมิน1'] = ld2['post id'].map(ld1.set_index('post id')['ประเมินราคาซื้อ-ขาย']);\n"
          ]
        },
        {
          "output_type": "execute_result",
          "data": {
            "text/plain": [
              "    ID ผู้ประเมิน                               post id property_type  \\\n",
              "1               2  https://nayoo.co/khonkaen/posts/1033        ที่ดิน   \n",
              "4               2  https://nayoo.co/khonkaen/posts/1711        ที่ดิน   \n",
              "7               2  https://nayoo.co/khonkaen/posts/1726        ที่ดิน   \n",
              "10              2  https://nayoo.co/khonkaen/posts/1732        ที่ดิน   \n",
              "13              2  https://nayoo.co/khonkaen/posts/1866        ที่ดิน   \n",
              "\n",
              "   ความมั่นใจในการเมินราคาทรัพย์  ราคาทรัพย์  ประเมินราคาซื้อ-ขาย  \\\n",
              "1                         มั่นใจ     2800000            2000000.0   \n",
              "4                         มั่นใจ    14900000           12000000.0   \n",
              "7                         มั่นใจ    90000000           70000000.0   \n",
              "10                        มั่นใจ    65000000           60000000.0   \n",
              "13                        มั่นใจ     3000000            2500000.0   \n",
              "\n",
              "             ปัจจัยในการประเมินราคาซื้อ-ขาย เหตุผลไม่มั่นใจราคาประเมิน  \\\n",
              "1     ราคาเสนอขาย 7,000-12,0000 บาท/ตารางวา                        NaN   \n",
              "4   ราคาเสนอขาย 100,000-150,000 บาท/ตารางวา                        NaN   \n",
              "7                 30,000-40,000 บาท/ตารางวา                        NaN   \n",
              "10  ราคาเสนอขาย 12,000 - 15,000 บาท/ตารางวา                        NaN   \n",
              "13    ราคาเสนอขาย 2,000 - 4,000 บาท/ตารางวา                        NaN   \n",
              "\n",
              "                        ให้คะแนนทรัพย์  Unnamed: 9  \\\n",
              "1   2 ขายได้ยาก ใช้ระยะเวลามากว่า 1 ปี         2.0   \n",
              "4   2 ขายได้ยาก ใช้ระยะเวลามากว่า 1 ปี         2.0   \n",
              "7   2 ขายได้ยาก ใช้ระยะเวลามากว่า 1 ปี         2.0   \n",
              "10  2 ขายได้ยาก ใช้ระยะเวลามากว่า 1 ปี         2.0   \n",
              "13   3 ขายได้ ใช้ระยะเวลา 7 - 12 เดือน         3.0   \n",
              "\n",
              "                      Unnamed: 10  Unnamed: 11  Unnamed: 12    ประเมิน1  \n",
              "1    ขายได้ ใช้ระยะเวลา 4-6 เดือน          NaN          NaN   1800000.0  \n",
              "4    ขายได้ ใช้ระยะเวลา 4-6 เดือน          NaN          NaN   8000000.0  \n",
              "7    ขายได้ ใช้ระยะเวลา 4-6 เดือน          NaN          NaN  18000000.0  \n",
              "10   ขายได้ ใช้ระยะเวลา 4-6 เดือน          NaN          NaN  35000000.0  \n",
              "13  ขายได้ ใช้ระยะเวลา 7-12 เดือน          NaN          NaN   2200000.0  "
            ],
            "text/html": [
              "\n",
              "  <div id=\"df-d892082a-81f6-423e-9264-b9e49fd535e6\">\n",
              "    <div class=\"colab-df-container\">\n",
              "      <div>\n",
              "<style scoped>\n",
              "    .dataframe tbody tr th:only-of-type {\n",
              "        vertical-align: middle;\n",
              "    }\n",
              "\n",
              "    .dataframe tbody tr th {\n",
              "        vertical-align: top;\n",
              "    }\n",
              "\n",
              "    .dataframe thead th {\n",
              "        text-align: right;\n",
              "    }\n",
              "</style>\n",
              "<table border=\"1\" class=\"dataframe\">\n",
              "  <thead>\n",
              "    <tr style=\"text-align: right;\">\n",
              "      <th></th>\n",
              "      <th>ID ผู้ประเมิน</th>\n",
              "      <th>post id</th>\n",
              "      <th>property_type</th>\n",
              "      <th>ความมั่นใจในการเมินราคาทรัพย์</th>\n",
              "      <th>ราคาทรัพย์</th>\n",
              "      <th>ประเมินราคาซื้อ-ขาย</th>\n",
              "      <th>ปัจจัยในการประเมินราคาซื้อ-ขาย</th>\n",
              "      <th>เหตุผลไม่มั่นใจราคาประเมิน</th>\n",
              "      <th>ให้คะแนนทรัพย์</th>\n",
              "      <th>Unnamed: 9</th>\n",
              "      <th>Unnamed: 10</th>\n",
              "      <th>Unnamed: 11</th>\n",
              "      <th>Unnamed: 12</th>\n",
              "      <th>ประเมิน1</th>\n",
              "    </tr>\n",
              "  </thead>\n",
              "  <tbody>\n",
              "    <tr>\n",
              "      <th>1</th>\n",
              "      <td>2</td>\n",
              "      <td>https://nayoo.co/khonkaen/posts/1033</td>\n",
              "      <td>ที่ดิน</td>\n",
              "      <td>มั่นใจ</td>\n",
              "      <td>2800000</td>\n",
              "      <td>2000000.0</td>\n",
              "      <td>ราคาเสนอขาย 7,000-12,0000 บาท/ตารางวา</td>\n",
              "      <td>NaN</td>\n",
              "      <td>2 ขายได้ยาก ใช้ระยะเวลามากว่า 1 ปี</td>\n",
              "      <td>2.0</td>\n",
              "      <td>ขายได้ ใช้ระยะเวลา 4-6 เดือน</td>\n",
              "      <td>NaN</td>\n",
              "      <td>NaN</td>\n",
              "      <td>1800000.0</td>\n",
              "    </tr>\n",
              "    <tr>\n",
              "      <th>4</th>\n",
              "      <td>2</td>\n",
              "      <td>https://nayoo.co/khonkaen/posts/1711</td>\n",
              "      <td>ที่ดิน</td>\n",
              "      <td>มั่นใจ</td>\n",
              "      <td>14900000</td>\n",
              "      <td>12000000.0</td>\n",
              "      <td>ราคาเสนอขาย 100,000-150,000 บาท/ตารางวา</td>\n",
              "      <td>NaN</td>\n",
              "      <td>2 ขายได้ยาก ใช้ระยะเวลามากว่า 1 ปี</td>\n",
              "      <td>2.0</td>\n",
              "      <td>ขายได้ ใช้ระยะเวลา 4-6 เดือน</td>\n",
              "      <td>NaN</td>\n",
              "      <td>NaN</td>\n",
              "      <td>8000000.0</td>\n",
              "    </tr>\n",
              "    <tr>\n",
              "      <th>7</th>\n",
              "      <td>2</td>\n",
              "      <td>https://nayoo.co/khonkaen/posts/1726</td>\n",
              "      <td>ที่ดิน</td>\n",
              "      <td>มั่นใจ</td>\n",
              "      <td>90000000</td>\n",
              "      <td>70000000.0</td>\n",
              "      <td>30,000-40,000 บาท/ตารางวา</td>\n",
              "      <td>NaN</td>\n",
              "      <td>2 ขายได้ยาก ใช้ระยะเวลามากว่า 1 ปี</td>\n",
              "      <td>2.0</td>\n",
              "      <td>ขายได้ ใช้ระยะเวลา 4-6 เดือน</td>\n",
              "      <td>NaN</td>\n",
              "      <td>NaN</td>\n",
              "      <td>18000000.0</td>\n",
              "    </tr>\n",
              "    <tr>\n",
              "      <th>10</th>\n",
              "      <td>2</td>\n",
              "      <td>https://nayoo.co/khonkaen/posts/1732</td>\n",
              "      <td>ที่ดิน</td>\n",
              "      <td>มั่นใจ</td>\n",
              "      <td>65000000</td>\n",
              "      <td>60000000.0</td>\n",
              "      <td>ราคาเสนอขาย 12,000 - 15,000 บาท/ตารางวา</td>\n",
              "      <td>NaN</td>\n",
              "      <td>2 ขายได้ยาก ใช้ระยะเวลามากว่า 1 ปี</td>\n",
              "      <td>2.0</td>\n",
              "      <td>ขายได้ ใช้ระยะเวลา 4-6 เดือน</td>\n",
              "      <td>NaN</td>\n",
              "      <td>NaN</td>\n",
              "      <td>35000000.0</td>\n",
              "    </tr>\n",
              "    <tr>\n",
              "      <th>13</th>\n",
              "      <td>2</td>\n",
              "      <td>https://nayoo.co/khonkaen/posts/1866</td>\n",
              "      <td>ที่ดิน</td>\n",
              "      <td>มั่นใจ</td>\n",
              "      <td>3000000</td>\n",
              "      <td>2500000.0</td>\n",
              "      <td>ราคาเสนอขาย 2,000 - 4,000 บาท/ตารางวา</td>\n",
              "      <td>NaN</td>\n",
              "      <td>3 ขายได้ ใช้ระยะเวลา 7 - 12 เดือน</td>\n",
              "      <td>3.0</td>\n",
              "      <td>ขายได้ ใช้ระยะเวลา 7-12 เดือน</td>\n",
              "      <td>NaN</td>\n",
              "      <td>NaN</td>\n",
              "      <td>2200000.0</td>\n",
              "    </tr>\n",
              "  </tbody>\n",
              "</table>\n",
              "</div>\n",
              "      <button class=\"colab-df-convert\" onclick=\"convertToInteractive('df-d892082a-81f6-423e-9264-b9e49fd535e6')\"\n",
              "              title=\"Convert this dataframe to an interactive table.\"\n",
              "              style=\"display:none;\">\n",
              "        \n",
              "  <svg xmlns=\"http://www.w3.org/2000/svg\" height=\"24px\"viewBox=\"0 0 24 24\"\n",
              "       width=\"24px\">\n",
              "    <path d=\"M0 0h24v24H0V0z\" fill=\"none\"/>\n",
              "    <path d=\"M18.56 5.44l.94 2.06.94-2.06 2.06-.94-2.06-.94-.94-2.06-.94 2.06-2.06.94zm-11 1L8.5 8.5l.94-2.06 2.06-.94-2.06-.94L8.5 2.5l-.94 2.06-2.06.94zm10 10l.94 2.06.94-2.06 2.06-.94-2.06-.94-.94-2.06-.94 2.06-2.06.94z\"/><path d=\"M17.41 7.96l-1.37-1.37c-.4-.4-.92-.59-1.43-.59-.52 0-1.04.2-1.43.59L10.3 9.45l-7.72 7.72c-.78.78-.78 2.05 0 2.83L4 21.41c.39.39.9.59 1.41.59.51 0 1.02-.2 1.41-.59l7.78-7.78 2.81-2.81c.8-.78.8-2.07 0-2.86zM5.41 20L4 18.59l7.72-7.72 1.47 1.35L5.41 20z\"/>\n",
              "  </svg>\n",
              "      </button>\n",
              "      \n",
              "  <style>\n",
              "    .colab-df-container {\n",
              "      display:flex;\n",
              "      flex-wrap:wrap;\n",
              "      gap: 12px;\n",
              "    }\n",
              "\n",
              "    .colab-df-convert {\n",
              "      background-color: #E8F0FE;\n",
              "      border: none;\n",
              "      border-radius: 50%;\n",
              "      cursor: pointer;\n",
              "      display: none;\n",
              "      fill: #1967D2;\n",
              "      height: 32px;\n",
              "      padding: 0 0 0 0;\n",
              "      width: 32px;\n",
              "    }\n",
              "\n",
              "    .colab-df-convert:hover {\n",
              "      background-color: #E2EBFA;\n",
              "      box-shadow: 0px 1px 2px rgba(60, 64, 67, 0.3), 0px 1px 3px 1px rgba(60, 64, 67, 0.15);\n",
              "      fill: #174EA6;\n",
              "    }\n",
              "\n",
              "    [theme=dark] .colab-df-convert {\n",
              "      background-color: #3B4455;\n",
              "      fill: #D2E3FC;\n",
              "    }\n",
              "\n",
              "    [theme=dark] .colab-df-convert:hover {\n",
              "      background-color: #434B5C;\n",
              "      box-shadow: 0px 1px 3px 1px rgba(0, 0, 0, 0.15);\n",
              "      filter: drop-shadow(0px 1px 2px rgba(0, 0, 0, 0.3));\n",
              "      fill: #FFFFFF;\n",
              "    }\n",
              "  </style>\n",
              "\n",
              "      <script>\n",
              "        const buttonEl =\n",
              "          document.querySelector('#df-d892082a-81f6-423e-9264-b9e49fd535e6 button.colab-df-convert');\n",
              "        buttonEl.style.display =\n",
              "          google.colab.kernel.accessAllowed ? 'block' : 'none';\n",
              "\n",
              "        async function convertToInteractive(key) {\n",
              "          const element = document.querySelector('#df-d892082a-81f6-423e-9264-b9e49fd535e6');\n",
              "          const dataTable =\n",
              "            await google.colab.kernel.invokeFunction('convertToInteractive',\n",
              "                                                     [key], {});\n",
              "          if (!dataTable) return;\n",
              "\n",
              "          const docLinkHtml = 'Like what you see? Visit the ' +\n",
              "            '<a target=\"_blank\" href=https://colab.research.google.com/notebooks/data_table.ipynb>data table notebook</a>'\n",
              "            + ' to learn more about interactive tables.';\n",
              "          element.innerHTML = '';\n",
              "          dataTable['output_type'] = 'display_data';\n",
              "          await google.colab.output.renderOutput(dataTable, element);\n",
              "          const docLink = document.createElement('div');\n",
              "          docLink.innerHTML = docLinkHtml;\n",
              "          element.appendChild(docLink);\n",
              "        }\n",
              "      </script>\n",
              "    </div>\n",
              "  </div>\n",
              "  "
            ]
          },
          "metadata": {},
          "execution_count": 124
        }
      ]
    },
    {
      "cell_type": "code",
      "source": [
        "ld2.rename(columns = {'ประเมินราคาซื้อ-ขาย' : 'ประเมิน2'}, inplace = True) #เปลี่ยนชื่อ"
      ],
      "metadata": {
        "colab": {
          "base_uri": "https://localhost:8080/"
        },
        "outputId": "90ff7f57-b666-4778-8169-351adc7177a3",
        "id": "FLOWUQMENDWo"
      },
      "execution_count": 125,
      "outputs": [
        {
          "output_type": "stream",
          "name": "stderr",
          "text": [
            "/usr/local/lib/python3.8/dist-packages/pandas/core/frame.py:5039: SettingWithCopyWarning: \n",
            "A value is trying to be set on a copy of a slice from a DataFrame\n",
            "\n",
            "See the caveats in the documentation: https://pandas.pydata.org/pandas-docs/stable/user_guide/indexing.html#returning-a-view-versus-a-copy\n",
            "  return super().rename(\n"
          ]
        }
      ]
    },
    {
      "cell_type": "code",
      "source": [
        "all2 = ld2[['post id', 'ราคาทรัพย์', 'ประเมิน1', 'ประเมิน2']]\n",
        "all2"
      ],
      "metadata": {
        "colab": {
          "base_uri": "https://localhost:8080/",
          "height": 423
        },
        "outputId": "0ac48440-3aca-4029-82b2-1c6a079602e3",
        "id": "vHwwfL16NDWo"
      },
      "execution_count": 126,
      "outputs": [
        {
          "output_type": "execute_result",
          "data": {
            "text/plain": [
              "                                   post id  ราคาทรัพย์    ประเมิน1    ประเมิน2\n",
              "1     https://nayoo.co/khonkaen/posts/1033     2800000   1800000.0   2000000.0\n",
              "4     https://nayoo.co/khonkaen/posts/1711    14900000   8000000.0  12000000.0\n",
              "7     https://nayoo.co/khonkaen/posts/1726    90000000  18000000.0  70000000.0\n",
              "10    https://nayoo.co/khonkaen/posts/1732    65000000  35000000.0  60000000.0\n",
              "13    https://nayoo.co/khonkaen/posts/1866     3000000   2200000.0   2500000.0\n",
              "..                                     ...         ...         ...         ...\n",
              "200  https://nayoo.co/khonkaen/posts/14539     5000000   4000000.0   4000000.0\n",
              "202  https://nayoo.co/khonkaen/posts/16072      750000    500000.0    750000.0\n",
              "204  https://nayoo.co/khonkaen/posts/17093     2650000   2000000.0   2500000.0\n",
              "206  https://nayoo.co/khonkaen/posts/17112     1300000   1500000.0   1500000.0\n",
              "208  https://nayoo.co/khonkaen/posts/17145     3000000   2500000.0   2800000.0\n",
              "\n",
              "[100 rows x 4 columns]"
            ],
            "text/html": [
              "\n",
              "  <div id=\"df-37a64747-8740-4557-8739-292d426e1675\">\n",
              "    <div class=\"colab-df-container\">\n",
              "      <div>\n",
              "<style scoped>\n",
              "    .dataframe tbody tr th:only-of-type {\n",
              "        vertical-align: middle;\n",
              "    }\n",
              "\n",
              "    .dataframe tbody tr th {\n",
              "        vertical-align: top;\n",
              "    }\n",
              "\n",
              "    .dataframe thead th {\n",
              "        text-align: right;\n",
              "    }\n",
              "</style>\n",
              "<table border=\"1\" class=\"dataframe\">\n",
              "  <thead>\n",
              "    <tr style=\"text-align: right;\">\n",
              "      <th></th>\n",
              "      <th>post id</th>\n",
              "      <th>ราคาทรัพย์</th>\n",
              "      <th>ประเมิน1</th>\n",
              "      <th>ประเมิน2</th>\n",
              "    </tr>\n",
              "  </thead>\n",
              "  <tbody>\n",
              "    <tr>\n",
              "      <th>1</th>\n",
              "      <td>https://nayoo.co/khonkaen/posts/1033</td>\n",
              "      <td>2800000</td>\n",
              "      <td>1800000.0</td>\n",
              "      <td>2000000.0</td>\n",
              "    </tr>\n",
              "    <tr>\n",
              "      <th>4</th>\n",
              "      <td>https://nayoo.co/khonkaen/posts/1711</td>\n",
              "      <td>14900000</td>\n",
              "      <td>8000000.0</td>\n",
              "      <td>12000000.0</td>\n",
              "    </tr>\n",
              "    <tr>\n",
              "      <th>7</th>\n",
              "      <td>https://nayoo.co/khonkaen/posts/1726</td>\n",
              "      <td>90000000</td>\n",
              "      <td>18000000.0</td>\n",
              "      <td>70000000.0</td>\n",
              "    </tr>\n",
              "    <tr>\n",
              "      <th>10</th>\n",
              "      <td>https://nayoo.co/khonkaen/posts/1732</td>\n",
              "      <td>65000000</td>\n",
              "      <td>35000000.0</td>\n",
              "      <td>60000000.0</td>\n",
              "    </tr>\n",
              "    <tr>\n",
              "      <th>13</th>\n",
              "      <td>https://nayoo.co/khonkaen/posts/1866</td>\n",
              "      <td>3000000</td>\n",
              "      <td>2200000.0</td>\n",
              "      <td>2500000.0</td>\n",
              "    </tr>\n",
              "    <tr>\n",
              "      <th>...</th>\n",
              "      <td>...</td>\n",
              "      <td>...</td>\n",
              "      <td>...</td>\n",
              "      <td>...</td>\n",
              "    </tr>\n",
              "    <tr>\n",
              "      <th>200</th>\n",
              "      <td>https://nayoo.co/khonkaen/posts/14539</td>\n",
              "      <td>5000000</td>\n",
              "      <td>4000000.0</td>\n",
              "      <td>4000000.0</td>\n",
              "    </tr>\n",
              "    <tr>\n",
              "      <th>202</th>\n",
              "      <td>https://nayoo.co/khonkaen/posts/16072</td>\n",
              "      <td>750000</td>\n",
              "      <td>500000.0</td>\n",
              "      <td>750000.0</td>\n",
              "    </tr>\n",
              "    <tr>\n",
              "      <th>204</th>\n",
              "      <td>https://nayoo.co/khonkaen/posts/17093</td>\n",
              "      <td>2650000</td>\n",
              "      <td>2000000.0</td>\n",
              "      <td>2500000.0</td>\n",
              "    </tr>\n",
              "    <tr>\n",
              "      <th>206</th>\n",
              "      <td>https://nayoo.co/khonkaen/posts/17112</td>\n",
              "      <td>1300000</td>\n",
              "      <td>1500000.0</td>\n",
              "      <td>1500000.0</td>\n",
              "    </tr>\n",
              "    <tr>\n",
              "      <th>208</th>\n",
              "      <td>https://nayoo.co/khonkaen/posts/17145</td>\n",
              "      <td>3000000</td>\n",
              "      <td>2500000.0</td>\n",
              "      <td>2800000.0</td>\n",
              "    </tr>\n",
              "  </tbody>\n",
              "</table>\n",
              "<p>100 rows × 4 columns</p>\n",
              "</div>\n",
              "      <button class=\"colab-df-convert\" onclick=\"convertToInteractive('df-37a64747-8740-4557-8739-292d426e1675')\"\n",
              "              title=\"Convert this dataframe to an interactive table.\"\n",
              "              style=\"display:none;\">\n",
              "        \n",
              "  <svg xmlns=\"http://www.w3.org/2000/svg\" height=\"24px\"viewBox=\"0 0 24 24\"\n",
              "       width=\"24px\">\n",
              "    <path d=\"M0 0h24v24H0V0z\" fill=\"none\"/>\n",
              "    <path d=\"M18.56 5.44l.94 2.06.94-2.06 2.06-.94-2.06-.94-.94-2.06-.94 2.06-2.06.94zm-11 1L8.5 8.5l.94-2.06 2.06-.94-2.06-.94L8.5 2.5l-.94 2.06-2.06.94zm10 10l.94 2.06.94-2.06 2.06-.94-2.06-.94-.94-2.06-.94 2.06-2.06.94z\"/><path d=\"M17.41 7.96l-1.37-1.37c-.4-.4-.92-.59-1.43-.59-.52 0-1.04.2-1.43.59L10.3 9.45l-7.72 7.72c-.78.78-.78 2.05 0 2.83L4 21.41c.39.39.9.59 1.41.59.51 0 1.02-.2 1.41-.59l7.78-7.78 2.81-2.81c.8-.78.8-2.07 0-2.86zM5.41 20L4 18.59l7.72-7.72 1.47 1.35L5.41 20z\"/>\n",
              "  </svg>\n",
              "      </button>\n",
              "      \n",
              "  <style>\n",
              "    .colab-df-container {\n",
              "      display:flex;\n",
              "      flex-wrap:wrap;\n",
              "      gap: 12px;\n",
              "    }\n",
              "\n",
              "    .colab-df-convert {\n",
              "      background-color: #E8F0FE;\n",
              "      border: none;\n",
              "      border-radius: 50%;\n",
              "      cursor: pointer;\n",
              "      display: none;\n",
              "      fill: #1967D2;\n",
              "      height: 32px;\n",
              "      padding: 0 0 0 0;\n",
              "      width: 32px;\n",
              "    }\n",
              "\n",
              "    .colab-df-convert:hover {\n",
              "      background-color: #E2EBFA;\n",
              "      box-shadow: 0px 1px 2px rgba(60, 64, 67, 0.3), 0px 1px 3px 1px rgba(60, 64, 67, 0.15);\n",
              "      fill: #174EA6;\n",
              "    }\n",
              "\n",
              "    [theme=dark] .colab-df-convert {\n",
              "      background-color: #3B4455;\n",
              "      fill: #D2E3FC;\n",
              "    }\n",
              "\n",
              "    [theme=dark] .colab-df-convert:hover {\n",
              "      background-color: #434B5C;\n",
              "      box-shadow: 0px 1px 3px 1px rgba(0, 0, 0, 0.15);\n",
              "      filter: drop-shadow(0px 1px 2px rgba(0, 0, 0, 0.3));\n",
              "      fill: #FFFFFF;\n",
              "    }\n",
              "  </style>\n",
              "\n",
              "      <script>\n",
              "        const buttonEl =\n",
              "          document.querySelector('#df-37a64747-8740-4557-8739-292d426e1675 button.colab-df-convert');\n",
              "        buttonEl.style.display =\n",
              "          google.colab.kernel.accessAllowed ? 'block' : 'none';\n",
              "\n",
              "        async function convertToInteractive(key) {\n",
              "          const element = document.querySelector('#df-37a64747-8740-4557-8739-292d426e1675');\n",
              "          const dataTable =\n",
              "            await google.colab.kernel.invokeFunction('convertToInteractive',\n",
              "                                                     [key], {});\n",
              "          if (!dataTable) return;\n",
              "\n",
              "          const docLinkHtml = 'Like what you see? Visit the ' +\n",
              "            '<a target=\"_blank\" href=https://colab.research.google.com/notebooks/data_table.ipynb>data table notebook</a>'\n",
              "            + ' to learn more about interactive tables.';\n",
              "          element.innerHTML = '';\n",
              "          dataTable['output_type'] = 'display_data';\n",
              "          await google.colab.output.renderOutput(dataTable, element);\n",
              "          const docLink = document.createElement('div');\n",
              "          docLink.innerHTML = docLinkHtml;\n",
              "          element.appendChild(docLink);\n",
              "        }\n",
              "      </script>\n",
              "    </div>\n",
              "  </div>\n",
              "  "
            ]
          },
          "metadata": {},
          "execution_count": 126
        }
      ]
    },
    {
      "cell_type": "code",
      "source": [
        "all2.isnull().any()"
      ],
      "metadata": {
        "colab": {
          "base_uri": "https://localhost:8080/"
        },
        "outputId": "d7080989-58cc-4aa5-cf90-4f461fbab910",
        "id": "_L1wHWLuNDWo"
      },
      "execution_count": 127,
      "outputs": [
        {
          "output_type": "execute_result",
          "data": {
            "text/plain": [
              "post id       False\n",
              "ราคาทรัพย์    False\n",
              "ประเมิน1      False\n",
              "ประเมิน2      False\n",
              "dtype: bool"
            ]
          },
          "metadata": {},
          "execution_count": 127
        }
      ]
    },
    {
      "cell_type": "markdown",
      "source": [
        "### MAPE ของที่ดิน"
      ],
      "metadata": {
        "id": "E7C23agBNDWp"
      }
    },
    {
      "cell_type": "code",
      "source": [
        "actual_l = all2['ราคาทรัพย์']\n",
        "pred1_l = all2['ประเมิน1']\n",
        "pred2_l = all2['ประเมิน2']"
      ],
      "metadata": {
        "id": "xfdxBGGZQgk9"
      },
      "execution_count": 157,
      "outputs": []
    },
    {
      "cell_type": "code",
      "source": [
        "from sklearn.metrics import mean_absolute_percentage_error"
      ],
      "metadata": {
        "id": "iYK0E3B4Qgk9"
      },
      "execution_count": 158,
      "outputs": []
    },
    {
      "cell_type": "code",
      "source": [
        "ml1 = mean_absolute_percentage_error(actual_l, pred1_l)\n",
        "print(f'ราคาทรัพย์เทียบกับผู้ประเมินคนที่ 1 มีค่า MAPE เท่ากับ {ml1*100}%')"
      ],
      "metadata": {
        "colab": {
          "base_uri": "https://localhost:8080/"
        },
        "outputId": "c60f0b15-e38f-45f1-9a99-aca75ea37388",
        "id": "5JmPC_O0Qgk9"
      },
      "execution_count": 159,
      "outputs": [
        {
          "output_type": "stream",
          "name": "stdout",
          "text": [
            "ราคาทรัพย์เทียบกับผู้ประเมินคนที่ 1 มีค่า MAPE เท่ากับ 41.33784259452896%\n"
          ]
        }
      ]
    },
    {
      "cell_type": "code",
      "source": [
        "ml2 = mean_absolute_percentage_error(actual_l, pred2_l)\n",
        "print(f'ราคาทรัพย์เทียบกับผู้ประเมินคนที่ 2 มีค่า MAPE เท่ากับ {ml2*100}%')"
      ],
      "metadata": {
        "colab": {
          "base_uri": "https://localhost:8080/"
        },
        "outputId": "f3ce2640-b5b9-436e-85f9-18909eda644b",
        "id": "u9QqhAQOQgk-"
      },
      "execution_count": 160,
      "outputs": [
        {
          "output_type": "stream",
          "name": "stdout",
          "text": [
            "ราคาทรัพย์เทียบกับผู้ประเมินคนที่ 2 มีค่า MAPE เท่ากับ 40.11878038284342%\n"
          ]
        }
      ]
    },
    {
      "cell_type": "code",
      "source": [
        "ml3 = mean_absolute_percentage_error(pred1_l, pred2_l)\n",
        "print(f'ผู้ประเมินคนที่ 1 เทียบกับผู้ประเมินคนที่ 2 มีค่า MAPE เท่ากับ {ml3*100}%')"
      ],
      "metadata": {
        "colab": {
          "base_uri": "https://localhost:8080/"
        },
        "outputId": "1aa6de17-a699-4abd-cf3d-491b8cacc3ae",
        "id": "5vvK_eEEQgk-"
      },
      "execution_count": 161,
      "outputs": [
        {
          "output_type": "stream",
          "name": "stdout",
          "text": [
            "ผู้ประเมินคนที่ 1 เทียบกับผู้ประเมินคนที่ 2 มีค่า MAPE เท่ากับ 74.07933970315449%\n"
          ]
        }
      ]
    },
    {
      "cell_type": "code",
      "source": [
        "ml4 = mean_absolute_percentage_error(pred2_l, pred1_l)\n",
        "print(f'ผู้ประเมินคนที่ 2 เทียบกับผู้ประเมินคนที่ 1 มีค่า MAPE เท่ากับ {ml4*100}%')"
      ],
      "metadata": {
        "colab": {
          "base_uri": "https://localhost:8080/"
        },
        "outputId": "ab0440f9-2dd8-4ff9-a532-bc50b9262295",
        "id": "Do8rASkHQgk-"
      },
      "execution_count": 162,
      "outputs": [
        {
          "output_type": "stream",
          "name": "stdout",
          "text": [
            "ผู้ประเมินคนที่ 2 เทียบกับผู้ประเมินคนที่ 1 มีค่า MAPE เท่ากับ 42.74775082762699%\n"
          ]
        }
      ]
    },
    {
      "cell_type": "code",
      "source": [
        "ml5 = mean_absolute_percentage_error(pred1_l, actual_l)\n",
        "print(f'ผู้ประเมินคนที่ 1 เทียบกับราคาทรัพย์ มีค่า MAPE เท่ากับ {ml5*100}%')"
      ],
      "metadata": {
        "colab": {
          "base_uri": "https://localhost:8080/"
        },
        "outputId": "28e453d8-e725-4ed2-fadb-60808dc32901",
        "id": "Ltf9FYnUQgk-"
      },
      "execution_count": 163,
      "outputs": [
        {
          "output_type": "stream",
          "name": "stdout",
          "text": [
            "ผู้ประเมินคนที่ 1 เทียบกับราคาทรัพย์ มีค่า MAPE เท่ากับ 83.48110682471777%\n"
          ]
        }
      ]
    },
    {
      "cell_type": "code",
      "source": [
        "ml6 = mean_absolute_percentage_error(pred2_l, actual_l)\n",
        "print(f'ผู้ประเมินคนที่ 2 เทียบกับราคาทรัพย์ มีค่า MAPE เท่ากับ {ml6*100}%')"
      ],
      "metadata": {
        "colab": {
          "base_uri": "https://localhost:8080/"
        },
        "outputId": "a10fa593-90a6-4561-f83b-83c007319340",
        "id": "IUCy2BkBQgk_"
      },
      "execution_count": 164,
      "outputs": [
        {
          "output_type": "stream",
          "name": "stdout",
          "text": [
            "ผู้ประเมินคนที่ 2 เทียบกับราคาทรัพย์ มีค่า MAPE เท่ากับ 48.37938341613725%\n"
          ]
        }
      ]
    },
    {
      "cell_type": "markdown",
      "source": [
        "## ทาวน์โฮม"
      ],
      "metadata": {
        "id": "kEfkavkhzbtk"
      }
    },
    {
      "cell_type": "code",
      "source": [
        "df4"
      ],
      "metadata": {
        "id": "iSa8k4vpUyA_",
        "colab": {
          "base_uri": "https://localhost:8080/",
          "height": 1000
        },
        "outputId": "7a261cac-acce-4d6c-ac9e-692e552e3a3a"
      },
      "execution_count": 137,
      "outputs": [
        {
          "output_type": "execute_result",
          "data": {
            "text/plain": [
              "     ID ผู้ประเมิน                                post id property_type  \\\n",
              "0                1    https://nayoo.co/khonkaen/posts/548      ทาวน์โฮม   \n",
              "1                2    https://nayoo.co/khonkaen/posts/548      ทาวน์โฮม   \n",
              "2                1    https://nayoo.co/khonkaen/posts/549      ทาวน์โฮม   \n",
              "3                2    https://nayoo.co/khonkaen/posts/549      ทาวน์โฮม   \n",
              "4                1    https://nayoo.co/khonkaen/posts/579      ทาวน์โฮม   \n",
              "..             ...                                    ...           ...   \n",
              "235              2  https://nayoo.co/khonkaen/posts/18547      ทาวน์โฮม   \n",
              "236              2  https://nayoo.co/khonkaen/posts/18551      ทาวน์โฮม   \n",
              "237              2  https://nayoo.co/khonkaen/posts/19434      ทาวน์โฮม   \n",
              "238              2  https://nayoo.co/khonkaen/posts/19501      ทาวน์โฮม   \n",
              "239              2  https://nayoo.co/khonkaen/posts/20367      ทาวน์โฮม   \n",
              "\n",
              "    ความมั่นใจในการเมินราคาทรัพย์  ราคาทรัพย์  ประเมินราคาซื้อ-ขาย  \\\n",
              "0                          มั่นใจ   1045000.0             700000.0   \n",
              "1                          มั่นใจ   1045000.0            1500000.0   \n",
              "2                          มั่นใจ    935000.0             700000.0   \n",
              "3                          มั่นใจ    935000.0            1500000.0   \n",
              "4                          มั่นใจ   3520000.0            3500000.0   \n",
              "..                            ...         ...                  ...   \n",
              "235                        มั่นใจ   1430000.0            1200000.0   \n",
              "236                        มั่นใจ   1980000.0            1700000.0   \n",
              "237                        มั่นใจ   2000000.0            1900000.0   \n",
              "238                        มั่นใจ   1790000.0            1700000.0   \n",
              "239                        มั่นใจ   1590000.0            1700000.0   \n",
              "\n",
              "       ปัจจัยในการประเมินราคาซื้อ-ขาย  เหตุผลไม่มั่นใจราคาประเมิน  \\\n",
              "0                        5,000-15,000                         NaN   \n",
              "1           ราคาซื้อขาย 1-2 ล้าน/คูหา                         NaN   \n",
              "2                        5,000-15,000                         NaN   \n",
              "3           ราคาเสนอขาย 1-2 ล้าน/คูหา                         NaN   \n",
              "4                        8,000-80,000                         NaN   \n",
              "..                                ...                         ...   \n",
              "235    ราคาเสนอขาย1.2-1.5ล้านบาท/คูหา                         NaN   \n",
              "236   ราคาเสนอขาย 1.7-2.0ล้านบาท/คูหา                         NaN   \n",
              "237  ราคาเสนอขาย 1.8-2.0 ล้านบาท/คูหา                         NaN   \n",
              "238  ราคาเสนอขาย 1.7-1.9 ล้านบาท/คูหา                         NaN   \n",
              "239  ราคาเสนอขาย 1.7-2.0 ล้านบาท/คูหา                         NaN   \n",
              "\n",
              "                         ให้คะแนนทรัพย์  Unnamed: 9  Unnamed: 10  Unnamed: 11  \\\n",
              "0    2 ขายได้ยาก ใช้ระยะเวลามากว่า 1 ปี         NaN          NaN          NaN   \n",
              "1                     1 ขายไม่ได้แน่นอน         NaN          NaN          NaN   \n",
              "2    2 ขายได้ยาก ใช้ระยะเวลามากว่า 1 ปี         NaN          NaN          NaN   \n",
              "3                     1 ขายไม่ได้แน่นอน         NaN          NaN          NaN   \n",
              "4      4 ขายได้ ใช้ระยะเวลา 4 - 6 เดือน         NaN          NaN          NaN   \n",
              "..                                  ...         ...          ...          ...   \n",
              "235   3 ขายได้ ใช้ระยะเวลา 7 - 12 เดือน         NaN          NaN          NaN   \n",
              "236   3 ขายได้ ใช้ระยะเวลา 7 - 12 เดือน         NaN          NaN          NaN   \n",
              "237   3 ขายได้ ใช้ระยะเวลา 7 - 12 เดือน         NaN          NaN          NaN   \n",
              "238   3 ขายได้ ใช้ระยะเวลา 7 - 12 เดือน         NaN          NaN          NaN   \n",
              "239   3 ขายได้ ใช้ระยะเวลา 7 - 12 เดือน         NaN          NaN          NaN   \n",
              "\n",
              "     Unnamed: 12  \n",
              "0          120.0  \n",
              "1            NaN  \n",
              "2            NaN  \n",
              "3            NaN  \n",
              "4            NaN  \n",
              "..           ...  \n",
              "235          NaN  \n",
              "236          NaN  \n",
              "237          NaN  \n",
              "238          NaN  \n",
              "239          NaN  \n",
              "\n",
              "[240 rows x 13 columns]"
            ],
            "text/html": [
              "\n",
              "  <div id=\"df-606b20e2-4f25-4740-a57b-cc05648b6497\">\n",
              "    <div class=\"colab-df-container\">\n",
              "      <div>\n",
              "<style scoped>\n",
              "    .dataframe tbody tr th:only-of-type {\n",
              "        vertical-align: middle;\n",
              "    }\n",
              "\n",
              "    .dataframe tbody tr th {\n",
              "        vertical-align: top;\n",
              "    }\n",
              "\n",
              "    .dataframe thead th {\n",
              "        text-align: right;\n",
              "    }\n",
              "</style>\n",
              "<table border=\"1\" class=\"dataframe\">\n",
              "  <thead>\n",
              "    <tr style=\"text-align: right;\">\n",
              "      <th></th>\n",
              "      <th>ID ผู้ประเมิน</th>\n",
              "      <th>post id</th>\n",
              "      <th>property_type</th>\n",
              "      <th>ความมั่นใจในการเมินราคาทรัพย์</th>\n",
              "      <th>ราคาทรัพย์</th>\n",
              "      <th>ประเมินราคาซื้อ-ขาย</th>\n",
              "      <th>ปัจจัยในการประเมินราคาซื้อ-ขาย</th>\n",
              "      <th>เหตุผลไม่มั่นใจราคาประเมิน</th>\n",
              "      <th>ให้คะแนนทรัพย์</th>\n",
              "      <th>Unnamed: 9</th>\n",
              "      <th>Unnamed: 10</th>\n",
              "      <th>Unnamed: 11</th>\n",
              "      <th>Unnamed: 12</th>\n",
              "    </tr>\n",
              "  </thead>\n",
              "  <tbody>\n",
              "    <tr>\n",
              "      <th>0</th>\n",
              "      <td>1</td>\n",
              "      <td>https://nayoo.co/khonkaen/posts/548</td>\n",
              "      <td>ทาวน์โฮม</td>\n",
              "      <td>มั่นใจ</td>\n",
              "      <td>1045000.0</td>\n",
              "      <td>700000.0</td>\n",
              "      <td>5,000-15,000</td>\n",
              "      <td>NaN</td>\n",
              "      <td>2 ขายได้ยาก ใช้ระยะเวลามากว่า 1 ปี</td>\n",
              "      <td>NaN</td>\n",
              "      <td>NaN</td>\n",
              "      <td>NaN</td>\n",
              "      <td>120.0</td>\n",
              "    </tr>\n",
              "    <tr>\n",
              "      <th>1</th>\n",
              "      <td>2</td>\n",
              "      <td>https://nayoo.co/khonkaen/posts/548</td>\n",
              "      <td>ทาวน์โฮม</td>\n",
              "      <td>มั่นใจ</td>\n",
              "      <td>1045000.0</td>\n",
              "      <td>1500000.0</td>\n",
              "      <td>ราคาซื้อขาย 1-2 ล้าน/คูหา</td>\n",
              "      <td>NaN</td>\n",
              "      <td>1 ขายไม่ได้แน่นอน</td>\n",
              "      <td>NaN</td>\n",
              "      <td>NaN</td>\n",
              "      <td>NaN</td>\n",
              "      <td>NaN</td>\n",
              "    </tr>\n",
              "    <tr>\n",
              "      <th>2</th>\n",
              "      <td>1</td>\n",
              "      <td>https://nayoo.co/khonkaen/posts/549</td>\n",
              "      <td>ทาวน์โฮม</td>\n",
              "      <td>มั่นใจ</td>\n",
              "      <td>935000.0</td>\n",
              "      <td>700000.0</td>\n",
              "      <td>5,000-15,000</td>\n",
              "      <td>NaN</td>\n",
              "      <td>2 ขายได้ยาก ใช้ระยะเวลามากว่า 1 ปี</td>\n",
              "      <td>NaN</td>\n",
              "      <td>NaN</td>\n",
              "      <td>NaN</td>\n",
              "      <td>NaN</td>\n",
              "    </tr>\n",
              "    <tr>\n",
              "      <th>3</th>\n",
              "      <td>2</td>\n",
              "      <td>https://nayoo.co/khonkaen/posts/549</td>\n",
              "      <td>ทาวน์โฮม</td>\n",
              "      <td>มั่นใจ</td>\n",
              "      <td>935000.0</td>\n",
              "      <td>1500000.0</td>\n",
              "      <td>ราคาเสนอขาย 1-2 ล้าน/คูหา</td>\n",
              "      <td>NaN</td>\n",
              "      <td>1 ขายไม่ได้แน่นอน</td>\n",
              "      <td>NaN</td>\n",
              "      <td>NaN</td>\n",
              "      <td>NaN</td>\n",
              "      <td>NaN</td>\n",
              "    </tr>\n",
              "    <tr>\n",
              "      <th>4</th>\n",
              "      <td>1</td>\n",
              "      <td>https://nayoo.co/khonkaen/posts/579</td>\n",
              "      <td>ทาวน์โฮม</td>\n",
              "      <td>มั่นใจ</td>\n",
              "      <td>3520000.0</td>\n",
              "      <td>3500000.0</td>\n",
              "      <td>8,000-80,000</td>\n",
              "      <td>NaN</td>\n",
              "      <td>4 ขายได้ ใช้ระยะเวลา 4 - 6 เดือน</td>\n",
              "      <td>NaN</td>\n",
              "      <td>NaN</td>\n",
              "      <td>NaN</td>\n",
              "      <td>NaN</td>\n",
              "    </tr>\n",
              "    <tr>\n",
              "      <th>...</th>\n",
              "      <td>...</td>\n",
              "      <td>...</td>\n",
              "      <td>...</td>\n",
              "      <td>...</td>\n",
              "      <td>...</td>\n",
              "      <td>...</td>\n",
              "      <td>...</td>\n",
              "      <td>...</td>\n",
              "      <td>...</td>\n",
              "      <td>...</td>\n",
              "      <td>...</td>\n",
              "      <td>...</td>\n",
              "      <td>...</td>\n",
              "    </tr>\n",
              "    <tr>\n",
              "      <th>235</th>\n",
              "      <td>2</td>\n",
              "      <td>https://nayoo.co/khonkaen/posts/18547</td>\n",
              "      <td>ทาวน์โฮม</td>\n",
              "      <td>มั่นใจ</td>\n",
              "      <td>1430000.0</td>\n",
              "      <td>1200000.0</td>\n",
              "      <td>ราคาเสนอขาย1.2-1.5ล้านบาท/คูหา</td>\n",
              "      <td>NaN</td>\n",
              "      <td>3 ขายได้ ใช้ระยะเวลา 7 - 12 เดือน</td>\n",
              "      <td>NaN</td>\n",
              "      <td>NaN</td>\n",
              "      <td>NaN</td>\n",
              "      <td>NaN</td>\n",
              "    </tr>\n",
              "    <tr>\n",
              "      <th>236</th>\n",
              "      <td>2</td>\n",
              "      <td>https://nayoo.co/khonkaen/posts/18551</td>\n",
              "      <td>ทาวน์โฮม</td>\n",
              "      <td>มั่นใจ</td>\n",
              "      <td>1980000.0</td>\n",
              "      <td>1700000.0</td>\n",
              "      <td>ราคาเสนอขาย 1.7-2.0ล้านบาท/คูหา</td>\n",
              "      <td>NaN</td>\n",
              "      <td>3 ขายได้ ใช้ระยะเวลา 7 - 12 เดือน</td>\n",
              "      <td>NaN</td>\n",
              "      <td>NaN</td>\n",
              "      <td>NaN</td>\n",
              "      <td>NaN</td>\n",
              "    </tr>\n",
              "    <tr>\n",
              "      <th>237</th>\n",
              "      <td>2</td>\n",
              "      <td>https://nayoo.co/khonkaen/posts/19434</td>\n",
              "      <td>ทาวน์โฮม</td>\n",
              "      <td>มั่นใจ</td>\n",
              "      <td>2000000.0</td>\n",
              "      <td>1900000.0</td>\n",
              "      <td>ราคาเสนอขาย 1.8-2.0 ล้านบาท/คูหา</td>\n",
              "      <td>NaN</td>\n",
              "      <td>3 ขายได้ ใช้ระยะเวลา 7 - 12 เดือน</td>\n",
              "      <td>NaN</td>\n",
              "      <td>NaN</td>\n",
              "      <td>NaN</td>\n",
              "      <td>NaN</td>\n",
              "    </tr>\n",
              "    <tr>\n",
              "      <th>238</th>\n",
              "      <td>2</td>\n",
              "      <td>https://nayoo.co/khonkaen/posts/19501</td>\n",
              "      <td>ทาวน์โฮม</td>\n",
              "      <td>มั่นใจ</td>\n",
              "      <td>1790000.0</td>\n",
              "      <td>1700000.0</td>\n",
              "      <td>ราคาเสนอขาย 1.7-1.9 ล้านบาท/คูหา</td>\n",
              "      <td>NaN</td>\n",
              "      <td>3 ขายได้ ใช้ระยะเวลา 7 - 12 เดือน</td>\n",
              "      <td>NaN</td>\n",
              "      <td>NaN</td>\n",
              "      <td>NaN</td>\n",
              "      <td>NaN</td>\n",
              "    </tr>\n",
              "    <tr>\n",
              "      <th>239</th>\n",
              "      <td>2</td>\n",
              "      <td>https://nayoo.co/khonkaen/posts/20367</td>\n",
              "      <td>ทาวน์โฮม</td>\n",
              "      <td>มั่นใจ</td>\n",
              "      <td>1590000.0</td>\n",
              "      <td>1700000.0</td>\n",
              "      <td>ราคาเสนอขาย 1.7-2.0 ล้านบาท/คูหา</td>\n",
              "      <td>NaN</td>\n",
              "      <td>3 ขายได้ ใช้ระยะเวลา 7 - 12 เดือน</td>\n",
              "      <td>NaN</td>\n",
              "      <td>NaN</td>\n",
              "      <td>NaN</td>\n",
              "      <td>NaN</td>\n",
              "    </tr>\n",
              "  </tbody>\n",
              "</table>\n",
              "<p>240 rows × 13 columns</p>\n",
              "</div>\n",
              "      <button class=\"colab-df-convert\" onclick=\"convertToInteractive('df-606b20e2-4f25-4740-a57b-cc05648b6497')\"\n",
              "              title=\"Convert this dataframe to an interactive table.\"\n",
              "              style=\"display:none;\">\n",
              "        \n",
              "  <svg xmlns=\"http://www.w3.org/2000/svg\" height=\"24px\"viewBox=\"0 0 24 24\"\n",
              "       width=\"24px\">\n",
              "    <path d=\"M0 0h24v24H0V0z\" fill=\"none\"/>\n",
              "    <path d=\"M18.56 5.44l.94 2.06.94-2.06 2.06-.94-2.06-.94-.94-2.06-.94 2.06-2.06.94zm-11 1L8.5 8.5l.94-2.06 2.06-.94-2.06-.94L8.5 2.5l-.94 2.06-2.06.94zm10 10l.94 2.06.94-2.06 2.06-.94-2.06-.94-.94-2.06-.94 2.06-2.06.94z\"/><path d=\"M17.41 7.96l-1.37-1.37c-.4-.4-.92-.59-1.43-.59-.52 0-1.04.2-1.43.59L10.3 9.45l-7.72 7.72c-.78.78-.78 2.05 0 2.83L4 21.41c.39.39.9.59 1.41.59.51 0 1.02-.2 1.41-.59l7.78-7.78 2.81-2.81c.8-.78.8-2.07 0-2.86zM5.41 20L4 18.59l7.72-7.72 1.47 1.35L5.41 20z\"/>\n",
              "  </svg>\n",
              "      </button>\n",
              "      \n",
              "  <style>\n",
              "    .colab-df-container {\n",
              "      display:flex;\n",
              "      flex-wrap:wrap;\n",
              "      gap: 12px;\n",
              "    }\n",
              "\n",
              "    .colab-df-convert {\n",
              "      background-color: #E8F0FE;\n",
              "      border: none;\n",
              "      border-radius: 50%;\n",
              "      cursor: pointer;\n",
              "      display: none;\n",
              "      fill: #1967D2;\n",
              "      height: 32px;\n",
              "      padding: 0 0 0 0;\n",
              "      width: 32px;\n",
              "    }\n",
              "\n",
              "    .colab-df-convert:hover {\n",
              "      background-color: #E2EBFA;\n",
              "      box-shadow: 0px 1px 2px rgba(60, 64, 67, 0.3), 0px 1px 3px 1px rgba(60, 64, 67, 0.15);\n",
              "      fill: #174EA6;\n",
              "    }\n",
              "\n",
              "    [theme=dark] .colab-df-convert {\n",
              "      background-color: #3B4455;\n",
              "      fill: #D2E3FC;\n",
              "    }\n",
              "\n",
              "    [theme=dark] .colab-df-convert:hover {\n",
              "      background-color: #434B5C;\n",
              "      box-shadow: 0px 1px 3px 1px rgba(0, 0, 0, 0.15);\n",
              "      filter: drop-shadow(0px 1px 2px rgba(0, 0, 0, 0.3));\n",
              "      fill: #FFFFFF;\n",
              "    }\n",
              "  </style>\n",
              "\n",
              "      <script>\n",
              "        const buttonEl =\n",
              "          document.querySelector('#df-606b20e2-4f25-4740-a57b-cc05648b6497 button.colab-df-convert');\n",
              "        buttonEl.style.display =\n",
              "          google.colab.kernel.accessAllowed ? 'block' : 'none';\n",
              "\n",
              "        async function convertToInteractive(key) {\n",
              "          const element = document.querySelector('#df-606b20e2-4f25-4740-a57b-cc05648b6497');\n",
              "          const dataTable =\n",
              "            await google.colab.kernel.invokeFunction('convertToInteractive',\n",
              "                                                     [key], {});\n",
              "          if (!dataTable) return;\n",
              "\n",
              "          const docLinkHtml = 'Like what you see? Visit the ' +\n",
              "            '<a target=\"_blank\" href=https://colab.research.google.com/notebooks/data_table.ipynb>data table notebook</a>'\n",
              "            + ' to learn more about interactive tables.';\n",
              "          element.innerHTML = '';\n",
              "          dataTable['output_type'] = 'display_data';\n",
              "          await google.colab.output.renderOutput(dataTable, element);\n",
              "          const docLink = document.createElement('div');\n",
              "          docLink.innerHTML = docLinkHtml;\n",
              "          element.appendChild(docLink);\n",
              "        }\n",
              "      </script>\n",
              "    </div>\n",
              "  </div>\n",
              "  "
            ]
          },
          "metadata": {},
          "execution_count": 137
        }
      ]
    },
    {
      "cell_type": "code",
      "source": [
        "th1 = df4[df4['ID ผู้ประเมิน']==1]\n",
        "th1.count()"
      ],
      "metadata": {
        "id": "vGGBF39nUyBA",
        "colab": {
          "base_uri": "https://localhost:8080/"
        },
        "outputId": "054c3a18-8a9b-4d0d-c0e6-eda1b5623b0c"
      },
      "execution_count": 138,
      "outputs": [
        {
          "output_type": "execute_result",
          "data": {
            "text/plain": [
              "ID ผู้ประเมิน                     120\n",
              "post id                           120\n",
              "property_type                     120\n",
              "ความมั่นใจในการเมินราคาทรัพย์     120\n",
              "ราคาทรัพย์                        120\n",
              "ประเมินราคาซื้อ-ขาย               120\n",
              "ปัจจัยในการประเมินราคาซื้อ-ขาย    120\n",
              "เหตุผลไม่มั่นใจราคาประเมิน          0\n",
              "ให้คะแนนทรัพย์                    120\n",
              "Unnamed: 9                          0\n",
              "Unnamed: 10                         0\n",
              "Unnamed: 11                         0\n",
              "Unnamed: 12                         1\n",
              "dtype: int64"
            ]
          },
          "metadata": {},
          "execution_count": 138
        }
      ]
    },
    {
      "cell_type": "code",
      "source": [
        "th2 = df4[df4['ID ผู้ประเมิน']==2]\n",
        "th2.count()"
      ],
      "metadata": {
        "id": "gq8QsF9UxFk3",
        "colab": {
          "base_uri": "https://localhost:8080/"
        },
        "outputId": "ad9d418c-bf31-4b20-ae71-a21d67b152c7"
      },
      "execution_count": 139,
      "outputs": [
        {
          "output_type": "execute_result",
          "data": {
            "text/plain": [
              "ID ผู้ประเมิน                     120\n",
              "post id                           120\n",
              "property_type                     120\n",
              "ความมั่นใจในการเมินราคาทรัพย์     120\n",
              "ราคาทรัพย์                        120\n",
              "ประเมินราคาซื้อ-ขาย               120\n",
              "ปัจจัยในการประเมินราคาซื้อ-ขาย    120\n",
              "เหตุผลไม่มั่นใจราคาประเมิน          0\n",
              "ให้คะแนนทรัพย์                    120\n",
              "Unnamed: 9                          0\n",
              "Unnamed: 10                         0\n",
              "Unnamed: 11                         0\n",
              "Unnamed: 12                         0\n",
              "dtype: int64"
            ]
          },
          "metadata": {},
          "execution_count": 139
        }
      ]
    },
    {
      "cell_type": "code",
      "source": [
        "th2['ประเมิน1'] = th2['post id'].map(th1.set_index('post id')['ประเมินราคาซื้อ-ขาย']);\n",
        "th2.head()"
      ],
      "metadata": {
        "id": "NrHkw49zxykp",
        "colab": {
          "base_uri": "https://localhost:8080/",
          "height": 808
        },
        "outputId": "5a4b0c82-5c15-4291-abee-c29d26e4a662"
      },
      "execution_count": 140,
      "outputs": [
        {
          "output_type": "stream",
          "name": "stderr",
          "text": [
            "<ipython-input-140-e1980f55f3c3>:1: SettingWithCopyWarning: \n",
            "A value is trying to be set on a copy of a slice from a DataFrame.\n",
            "Try using .loc[row_indexer,col_indexer] = value instead\n",
            "\n",
            "See the caveats in the documentation: https://pandas.pydata.org/pandas-docs/stable/user_guide/indexing.html#returning-a-view-versus-a-copy\n",
            "  th2['ประเมิน1'] = th2['post id'].map(th1.set_index('post id')['ประเมินราคาซื้อ-ขาย']);\n"
          ]
        },
        {
          "output_type": "execute_result",
          "data": {
            "text/plain": [
              "   ID ผู้ประเมิน                              post id property_type  \\\n",
              "1              2  https://nayoo.co/khonkaen/posts/548      ทาวน์โฮม   \n",
              "3              2  https://nayoo.co/khonkaen/posts/549      ทาวน์โฮม   \n",
              "5              2  https://nayoo.co/khonkaen/posts/579      ทาวน์โฮม   \n",
              "7              2  https://nayoo.co/khonkaen/posts/580      ทาวน์โฮม   \n",
              "9              2  https://nayoo.co/khonkaen/posts/582      ทาวน์โฮม   \n",
              "\n",
              "  ความมั่นใจในการเมินราคาทรัพย์  ราคาทรัพย์  ประเมินราคาซื้อ-ขาย  \\\n",
              "1                        มั่นใจ   1045000.0            1500000.0   \n",
              "3                        มั่นใจ    935000.0            1500000.0   \n",
              "5                        มั่นใจ   3520000.0            4000000.0   \n",
              "7                        มั่นใจ   3850000.0            3200000.0   \n",
              "9                        มั่นใจ    990000.0             800000.0   \n",
              "\n",
              "               ปัจจัยในการประเมินราคาซื้อ-ขาย  เหตุผลไม่มั่นใจราคาประเมิน  \\\n",
              "1                   ราคาซื้อขาย 1-2 ล้าน/คูหา                         NaN   \n",
              "3                   ราคาเสนอขาย 1-2 ล้าน/คูหา                         NaN   \n",
              "5                ราคาเสนอขาย 3-5 ล้านบาท/คูหา                         NaN   \n",
              "7            ราคาเสนอขาย 3 - 5 ล้านบาท / คูหา                         NaN   \n",
              "9  ราคาเสนอขาย 700,000 - 1,000,000 บาท / คูหา                         NaN   \n",
              "\n",
              "                      ให้คะแนนทรัพย์  Unnamed: 9  Unnamed: 10  Unnamed: 11  \\\n",
              "1                  1 ขายไม่ได้แน่นอน         NaN          NaN          NaN   \n",
              "3                  1 ขายไม่ได้แน่นอน         NaN          NaN          NaN   \n",
              "5  3 ขายได้ ใช้ระยะเวลา 7 - 12 เดือน         NaN          NaN          NaN   \n",
              "7  3 ขายได้ ใช้ระยะเวลา 7 - 12 เดือน         NaN          NaN          NaN   \n",
              "9  3 ขายได้ ใช้ระยะเวลา 7 - 12 เดือน         NaN          NaN          NaN   \n",
              "\n",
              "   Unnamed: 12   ประเมิน1  \n",
              "1          NaN   700000.0  \n",
              "3          NaN   700000.0  \n",
              "5          NaN  3500000.0  \n",
              "7          NaN  3500000.0  \n",
              "9          NaN  1000000.0  "
            ],
            "text/html": [
              "\n",
              "  <div id=\"df-176c2fb2-2d3b-4521-bf34-3a8f1990e2c5\">\n",
              "    <div class=\"colab-df-container\">\n",
              "      <div>\n",
              "<style scoped>\n",
              "    .dataframe tbody tr th:only-of-type {\n",
              "        vertical-align: middle;\n",
              "    }\n",
              "\n",
              "    .dataframe tbody tr th {\n",
              "        vertical-align: top;\n",
              "    }\n",
              "\n",
              "    .dataframe thead th {\n",
              "        text-align: right;\n",
              "    }\n",
              "</style>\n",
              "<table border=\"1\" class=\"dataframe\">\n",
              "  <thead>\n",
              "    <tr style=\"text-align: right;\">\n",
              "      <th></th>\n",
              "      <th>ID ผู้ประเมิน</th>\n",
              "      <th>post id</th>\n",
              "      <th>property_type</th>\n",
              "      <th>ความมั่นใจในการเมินราคาทรัพย์</th>\n",
              "      <th>ราคาทรัพย์</th>\n",
              "      <th>ประเมินราคาซื้อ-ขาย</th>\n",
              "      <th>ปัจจัยในการประเมินราคาซื้อ-ขาย</th>\n",
              "      <th>เหตุผลไม่มั่นใจราคาประเมิน</th>\n",
              "      <th>ให้คะแนนทรัพย์</th>\n",
              "      <th>Unnamed: 9</th>\n",
              "      <th>Unnamed: 10</th>\n",
              "      <th>Unnamed: 11</th>\n",
              "      <th>Unnamed: 12</th>\n",
              "      <th>ประเมิน1</th>\n",
              "    </tr>\n",
              "  </thead>\n",
              "  <tbody>\n",
              "    <tr>\n",
              "      <th>1</th>\n",
              "      <td>2</td>\n",
              "      <td>https://nayoo.co/khonkaen/posts/548</td>\n",
              "      <td>ทาวน์โฮม</td>\n",
              "      <td>มั่นใจ</td>\n",
              "      <td>1045000.0</td>\n",
              "      <td>1500000.0</td>\n",
              "      <td>ราคาซื้อขาย 1-2 ล้าน/คูหา</td>\n",
              "      <td>NaN</td>\n",
              "      <td>1 ขายไม่ได้แน่นอน</td>\n",
              "      <td>NaN</td>\n",
              "      <td>NaN</td>\n",
              "      <td>NaN</td>\n",
              "      <td>NaN</td>\n",
              "      <td>700000.0</td>\n",
              "    </tr>\n",
              "    <tr>\n",
              "      <th>3</th>\n",
              "      <td>2</td>\n",
              "      <td>https://nayoo.co/khonkaen/posts/549</td>\n",
              "      <td>ทาวน์โฮม</td>\n",
              "      <td>มั่นใจ</td>\n",
              "      <td>935000.0</td>\n",
              "      <td>1500000.0</td>\n",
              "      <td>ราคาเสนอขาย 1-2 ล้าน/คูหา</td>\n",
              "      <td>NaN</td>\n",
              "      <td>1 ขายไม่ได้แน่นอน</td>\n",
              "      <td>NaN</td>\n",
              "      <td>NaN</td>\n",
              "      <td>NaN</td>\n",
              "      <td>NaN</td>\n",
              "      <td>700000.0</td>\n",
              "    </tr>\n",
              "    <tr>\n",
              "      <th>5</th>\n",
              "      <td>2</td>\n",
              "      <td>https://nayoo.co/khonkaen/posts/579</td>\n",
              "      <td>ทาวน์โฮม</td>\n",
              "      <td>มั่นใจ</td>\n",
              "      <td>3520000.0</td>\n",
              "      <td>4000000.0</td>\n",
              "      <td>ราคาเสนอขาย 3-5 ล้านบาท/คูหา</td>\n",
              "      <td>NaN</td>\n",
              "      <td>3 ขายได้ ใช้ระยะเวลา 7 - 12 เดือน</td>\n",
              "      <td>NaN</td>\n",
              "      <td>NaN</td>\n",
              "      <td>NaN</td>\n",
              "      <td>NaN</td>\n",
              "      <td>3500000.0</td>\n",
              "    </tr>\n",
              "    <tr>\n",
              "      <th>7</th>\n",
              "      <td>2</td>\n",
              "      <td>https://nayoo.co/khonkaen/posts/580</td>\n",
              "      <td>ทาวน์โฮม</td>\n",
              "      <td>มั่นใจ</td>\n",
              "      <td>3850000.0</td>\n",
              "      <td>3200000.0</td>\n",
              "      <td>ราคาเสนอขาย 3 - 5 ล้านบาท / คูหา</td>\n",
              "      <td>NaN</td>\n",
              "      <td>3 ขายได้ ใช้ระยะเวลา 7 - 12 เดือน</td>\n",
              "      <td>NaN</td>\n",
              "      <td>NaN</td>\n",
              "      <td>NaN</td>\n",
              "      <td>NaN</td>\n",
              "      <td>3500000.0</td>\n",
              "    </tr>\n",
              "    <tr>\n",
              "      <th>9</th>\n",
              "      <td>2</td>\n",
              "      <td>https://nayoo.co/khonkaen/posts/582</td>\n",
              "      <td>ทาวน์โฮม</td>\n",
              "      <td>มั่นใจ</td>\n",
              "      <td>990000.0</td>\n",
              "      <td>800000.0</td>\n",
              "      <td>ราคาเสนอขาย 700,000 - 1,000,000 บาท / คูหา</td>\n",
              "      <td>NaN</td>\n",
              "      <td>3 ขายได้ ใช้ระยะเวลา 7 - 12 เดือน</td>\n",
              "      <td>NaN</td>\n",
              "      <td>NaN</td>\n",
              "      <td>NaN</td>\n",
              "      <td>NaN</td>\n",
              "      <td>1000000.0</td>\n",
              "    </tr>\n",
              "  </tbody>\n",
              "</table>\n",
              "</div>\n",
              "      <button class=\"colab-df-convert\" onclick=\"convertToInteractive('df-176c2fb2-2d3b-4521-bf34-3a8f1990e2c5')\"\n",
              "              title=\"Convert this dataframe to an interactive table.\"\n",
              "              style=\"display:none;\">\n",
              "        \n",
              "  <svg xmlns=\"http://www.w3.org/2000/svg\" height=\"24px\"viewBox=\"0 0 24 24\"\n",
              "       width=\"24px\">\n",
              "    <path d=\"M0 0h24v24H0V0z\" fill=\"none\"/>\n",
              "    <path d=\"M18.56 5.44l.94 2.06.94-2.06 2.06-.94-2.06-.94-.94-2.06-.94 2.06-2.06.94zm-11 1L8.5 8.5l.94-2.06 2.06-.94-2.06-.94L8.5 2.5l-.94 2.06-2.06.94zm10 10l.94 2.06.94-2.06 2.06-.94-2.06-.94-.94-2.06-.94 2.06-2.06.94z\"/><path d=\"M17.41 7.96l-1.37-1.37c-.4-.4-.92-.59-1.43-.59-.52 0-1.04.2-1.43.59L10.3 9.45l-7.72 7.72c-.78.78-.78 2.05 0 2.83L4 21.41c.39.39.9.59 1.41.59.51 0 1.02-.2 1.41-.59l7.78-7.78 2.81-2.81c.8-.78.8-2.07 0-2.86zM5.41 20L4 18.59l7.72-7.72 1.47 1.35L5.41 20z\"/>\n",
              "  </svg>\n",
              "      </button>\n",
              "      \n",
              "  <style>\n",
              "    .colab-df-container {\n",
              "      display:flex;\n",
              "      flex-wrap:wrap;\n",
              "      gap: 12px;\n",
              "    }\n",
              "\n",
              "    .colab-df-convert {\n",
              "      background-color: #E8F0FE;\n",
              "      border: none;\n",
              "      border-radius: 50%;\n",
              "      cursor: pointer;\n",
              "      display: none;\n",
              "      fill: #1967D2;\n",
              "      height: 32px;\n",
              "      padding: 0 0 0 0;\n",
              "      width: 32px;\n",
              "    }\n",
              "\n",
              "    .colab-df-convert:hover {\n",
              "      background-color: #E2EBFA;\n",
              "      box-shadow: 0px 1px 2px rgba(60, 64, 67, 0.3), 0px 1px 3px 1px rgba(60, 64, 67, 0.15);\n",
              "      fill: #174EA6;\n",
              "    }\n",
              "\n",
              "    [theme=dark] .colab-df-convert {\n",
              "      background-color: #3B4455;\n",
              "      fill: #D2E3FC;\n",
              "    }\n",
              "\n",
              "    [theme=dark] .colab-df-convert:hover {\n",
              "      background-color: #434B5C;\n",
              "      box-shadow: 0px 1px 3px 1px rgba(0, 0, 0, 0.15);\n",
              "      filter: drop-shadow(0px 1px 2px rgba(0, 0, 0, 0.3));\n",
              "      fill: #FFFFFF;\n",
              "    }\n",
              "  </style>\n",
              "\n",
              "      <script>\n",
              "        const buttonEl =\n",
              "          document.querySelector('#df-176c2fb2-2d3b-4521-bf34-3a8f1990e2c5 button.colab-df-convert');\n",
              "        buttonEl.style.display =\n",
              "          google.colab.kernel.accessAllowed ? 'block' : 'none';\n",
              "\n",
              "        async function convertToInteractive(key) {\n",
              "          const element = document.querySelector('#df-176c2fb2-2d3b-4521-bf34-3a8f1990e2c5');\n",
              "          const dataTable =\n",
              "            await google.colab.kernel.invokeFunction('convertToInteractive',\n",
              "                                                     [key], {});\n",
              "          if (!dataTable) return;\n",
              "\n",
              "          const docLinkHtml = 'Like what you see? Visit the ' +\n",
              "            '<a target=\"_blank\" href=https://colab.research.google.com/notebooks/data_table.ipynb>data table notebook</a>'\n",
              "            + ' to learn more about interactive tables.';\n",
              "          element.innerHTML = '';\n",
              "          dataTable['output_type'] = 'display_data';\n",
              "          await google.colab.output.renderOutput(dataTable, element);\n",
              "          const docLink = document.createElement('div');\n",
              "          docLink.innerHTML = docLinkHtml;\n",
              "          element.appendChild(docLink);\n",
              "        }\n",
              "      </script>\n",
              "    </div>\n",
              "  </div>\n",
              "  "
            ]
          },
          "metadata": {},
          "execution_count": 140
        }
      ]
    },
    {
      "cell_type": "code",
      "source": [
        "th2.rename(columns = {'ประเมินราคาซื้อ-ขาย' : 'ประเมิน2'}, inplace = True)"
      ],
      "metadata": {
        "id": "pe2YmdlgUyBJ",
        "colab": {
          "base_uri": "https://localhost:8080/"
        },
        "outputId": "5033f83f-5cfd-4097-e289-9bd2dbfde6f9"
      },
      "execution_count": 141,
      "outputs": [
        {
          "output_type": "stream",
          "name": "stderr",
          "text": [
            "/usr/local/lib/python3.8/dist-packages/pandas/core/frame.py:5039: SettingWithCopyWarning: \n",
            "A value is trying to be set on a copy of a slice from a DataFrame\n",
            "\n",
            "See the caveats in the documentation: https://pandas.pydata.org/pandas-docs/stable/user_guide/indexing.html#returning-a-view-versus-a-copy\n",
            "  return super().rename(\n"
          ]
        }
      ]
    },
    {
      "cell_type": "code",
      "source": [
        "all3 = th2[['post id', 'ราคาทรัพย์', 'ประเมิน1', 'ประเมิน2']]\n",
        "all3"
      ],
      "metadata": {
        "id": "0BHH9NyvUyBK",
        "colab": {
          "base_uri": "https://localhost:8080/",
          "height": 423
        },
        "outputId": "94e55a5b-8fb9-4d83-83c1-9673cbeb59e7"
      },
      "execution_count": 142,
      "outputs": [
        {
          "output_type": "execute_result",
          "data": {
            "text/plain": [
              "                                   post id  ราคาทรัพย์   ประเมิน1   ประเมิน2\n",
              "1      https://nayoo.co/khonkaen/posts/548   1045000.0   700000.0  1500000.0\n",
              "3      https://nayoo.co/khonkaen/posts/549    935000.0   700000.0  1500000.0\n",
              "5      https://nayoo.co/khonkaen/posts/579   3520000.0  3500000.0  4000000.0\n",
              "7      https://nayoo.co/khonkaen/posts/580   3850000.0  3500000.0  3200000.0\n",
              "9      https://nayoo.co/khonkaen/posts/582    990000.0  1000000.0   800000.0\n",
              "..                                     ...         ...        ...        ...\n",
              "235  https://nayoo.co/khonkaen/posts/18547   1430000.0  1000000.0  1200000.0\n",
              "236  https://nayoo.co/khonkaen/posts/18551   1980000.0  1500000.0  1700000.0\n",
              "237  https://nayoo.co/khonkaen/posts/19434   2000000.0  1600000.0  1900000.0\n",
              "238  https://nayoo.co/khonkaen/posts/19501   1790000.0  1600000.0  1700000.0\n",
              "239  https://nayoo.co/khonkaen/posts/20367   1590000.0  1700000.0  1700000.0\n",
              "\n",
              "[120 rows x 4 columns]"
            ],
            "text/html": [
              "\n",
              "  <div id=\"df-27f58af4-c720-472d-a66a-10ab35b75d03\">\n",
              "    <div class=\"colab-df-container\">\n",
              "      <div>\n",
              "<style scoped>\n",
              "    .dataframe tbody tr th:only-of-type {\n",
              "        vertical-align: middle;\n",
              "    }\n",
              "\n",
              "    .dataframe tbody tr th {\n",
              "        vertical-align: top;\n",
              "    }\n",
              "\n",
              "    .dataframe thead th {\n",
              "        text-align: right;\n",
              "    }\n",
              "</style>\n",
              "<table border=\"1\" class=\"dataframe\">\n",
              "  <thead>\n",
              "    <tr style=\"text-align: right;\">\n",
              "      <th></th>\n",
              "      <th>post id</th>\n",
              "      <th>ราคาทรัพย์</th>\n",
              "      <th>ประเมิน1</th>\n",
              "      <th>ประเมิน2</th>\n",
              "    </tr>\n",
              "  </thead>\n",
              "  <tbody>\n",
              "    <tr>\n",
              "      <th>1</th>\n",
              "      <td>https://nayoo.co/khonkaen/posts/548</td>\n",
              "      <td>1045000.0</td>\n",
              "      <td>700000.0</td>\n",
              "      <td>1500000.0</td>\n",
              "    </tr>\n",
              "    <tr>\n",
              "      <th>3</th>\n",
              "      <td>https://nayoo.co/khonkaen/posts/549</td>\n",
              "      <td>935000.0</td>\n",
              "      <td>700000.0</td>\n",
              "      <td>1500000.0</td>\n",
              "    </tr>\n",
              "    <tr>\n",
              "      <th>5</th>\n",
              "      <td>https://nayoo.co/khonkaen/posts/579</td>\n",
              "      <td>3520000.0</td>\n",
              "      <td>3500000.0</td>\n",
              "      <td>4000000.0</td>\n",
              "    </tr>\n",
              "    <tr>\n",
              "      <th>7</th>\n",
              "      <td>https://nayoo.co/khonkaen/posts/580</td>\n",
              "      <td>3850000.0</td>\n",
              "      <td>3500000.0</td>\n",
              "      <td>3200000.0</td>\n",
              "    </tr>\n",
              "    <tr>\n",
              "      <th>9</th>\n",
              "      <td>https://nayoo.co/khonkaen/posts/582</td>\n",
              "      <td>990000.0</td>\n",
              "      <td>1000000.0</td>\n",
              "      <td>800000.0</td>\n",
              "    </tr>\n",
              "    <tr>\n",
              "      <th>...</th>\n",
              "      <td>...</td>\n",
              "      <td>...</td>\n",
              "      <td>...</td>\n",
              "      <td>...</td>\n",
              "    </tr>\n",
              "    <tr>\n",
              "      <th>235</th>\n",
              "      <td>https://nayoo.co/khonkaen/posts/18547</td>\n",
              "      <td>1430000.0</td>\n",
              "      <td>1000000.0</td>\n",
              "      <td>1200000.0</td>\n",
              "    </tr>\n",
              "    <tr>\n",
              "      <th>236</th>\n",
              "      <td>https://nayoo.co/khonkaen/posts/18551</td>\n",
              "      <td>1980000.0</td>\n",
              "      <td>1500000.0</td>\n",
              "      <td>1700000.0</td>\n",
              "    </tr>\n",
              "    <tr>\n",
              "      <th>237</th>\n",
              "      <td>https://nayoo.co/khonkaen/posts/19434</td>\n",
              "      <td>2000000.0</td>\n",
              "      <td>1600000.0</td>\n",
              "      <td>1900000.0</td>\n",
              "    </tr>\n",
              "    <tr>\n",
              "      <th>238</th>\n",
              "      <td>https://nayoo.co/khonkaen/posts/19501</td>\n",
              "      <td>1790000.0</td>\n",
              "      <td>1600000.0</td>\n",
              "      <td>1700000.0</td>\n",
              "    </tr>\n",
              "    <tr>\n",
              "      <th>239</th>\n",
              "      <td>https://nayoo.co/khonkaen/posts/20367</td>\n",
              "      <td>1590000.0</td>\n",
              "      <td>1700000.0</td>\n",
              "      <td>1700000.0</td>\n",
              "    </tr>\n",
              "  </tbody>\n",
              "</table>\n",
              "<p>120 rows × 4 columns</p>\n",
              "</div>\n",
              "      <button class=\"colab-df-convert\" onclick=\"convertToInteractive('df-27f58af4-c720-472d-a66a-10ab35b75d03')\"\n",
              "              title=\"Convert this dataframe to an interactive table.\"\n",
              "              style=\"display:none;\">\n",
              "        \n",
              "  <svg xmlns=\"http://www.w3.org/2000/svg\" height=\"24px\"viewBox=\"0 0 24 24\"\n",
              "       width=\"24px\">\n",
              "    <path d=\"M0 0h24v24H0V0z\" fill=\"none\"/>\n",
              "    <path d=\"M18.56 5.44l.94 2.06.94-2.06 2.06-.94-2.06-.94-.94-2.06-.94 2.06-2.06.94zm-11 1L8.5 8.5l.94-2.06 2.06-.94-2.06-.94L8.5 2.5l-.94 2.06-2.06.94zm10 10l.94 2.06.94-2.06 2.06-.94-2.06-.94-.94-2.06-.94 2.06-2.06.94z\"/><path d=\"M17.41 7.96l-1.37-1.37c-.4-.4-.92-.59-1.43-.59-.52 0-1.04.2-1.43.59L10.3 9.45l-7.72 7.72c-.78.78-.78 2.05 0 2.83L4 21.41c.39.39.9.59 1.41.59.51 0 1.02-.2 1.41-.59l7.78-7.78 2.81-2.81c.8-.78.8-2.07 0-2.86zM5.41 20L4 18.59l7.72-7.72 1.47 1.35L5.41 20z\"/>\n",
              "  </svg>\n",
              "      </button>\n",
              "      \n",
              "  <style>\n",
              "    .colab-df-container {\n",
              "      display:flex;\n",
              "      flex-wrap:wrap;\n",
              "      gap: 12px;\n",
              "    }\n",
              "\n",
              "    .colab-df-convert {\n",
              "      background-color: #E8F0FE;\n",
              "      border: none;\n",
              "      border-radius: 50%;\n",
              "      cursor: pointer;\n",
              "      display: none;\n",
              "      fill: #1967D2;\n",
              "      height: 32px;\n",
              "      padding: 0 0 0 0;\n",
              "      width: 32px;\n",
              "    }\n",
              "\n",
              "    .colab-df-convert:hover {\n",
              "      background-color: #E2EBFA;\n",
              "      box-shadow: 0px 1px 2px rgba(60, 64, 67, 0.3), 0px 1px 3px 1px rgba(60, 64, 67, 0.15);\n",
              "      fill: #174EA6;\n",
              "    }\n",
              "\n",
              "    [theme=dark] .colab-df-convert {\n",
              "      background-color: #3B4455;\n",
              "      fill: #D2E3FC;\n",
              "    }\n",
              "\n",
              "    [theme=dark] .colab-df-convert:hover {\n",
              "      background-color: #434B5C;\n",
              "      box-shadow: 0px 1px 3px 1px rgba(0, 0, 0, 0.15);\n",
              "      filter: drop-shadow(0px 1px 2px rgba(0, 0, 0, 0.3));\n",
              "      fill: #FFFFFF;\n",
              "    }\n",
              "  </style>\n",
              "\n",
              "      <script>\n",
              "        const buttonEl =\n",
              "          document.querySelector('#df-27f58af4-c720-472d-a66a-10ab35b75d03 button.colab-df-convert');\n",
              "        buttonEl.style.display =\n",
              "          google.colab.kernel.accessAllowed ? 'block' : 'none';\n",
              "\n",
              "        async function convertToInteractive(key) {\n",
              "          const element = document.querySelector('#df-27f58af4-c720-472d-a66a-10ab35b75d03');\n",
              "          const dataTable =\n",
              "            await google.colab.kernel.invokeFunction('convertToInteractive',\n",
              "                                                     [key], {});\n",
              "          if (!dataTable) return;\n",
              "\n",
              "          const docLinkHtml = 'Like what you see? Visit the ' +\n",
              "            '<a target=\"_blank\" href=https://colab.research.google.com/notebooks/data_table.ipynb>data table notebook</a>'\n",
              "            + ' to learn more about interactive tables.';\n",
              "          element.innerHTML = '';\n",
              "          dataTable['output_type'] = 'display_data';\n",
              "          await google.colab.output.renderOutput(dataTable, element);\n",
              "          const docLink = document.createElement('div');\n",
              "          docLink.innerHTML = docLinkHtml;\n",
              "          element.appendChild(docLink);\n",
              "        }\n",
              "      </script>\n",
              "    </div>\n",
              "  </div>\n",
              "  "
            ]
          },
          "metadata": {},
          "execution_count": 142
        }
      ]
    },
    {
      "cell_type": "code",
      "source": [
        "all3.isnull().any()"
      ],
      "metadata": {
        "id": "G-s01LIPynrM",
        "colab": {
          "base_uri": "https://localhost:8080/"
        },
        "outputId": "29c027fa-533e-4d6e-992b-a5056fb996bf"
      },
      "execution_count": 143,
      "outputs": [
        {
          "output_type": "execute_result",
          "data": {
            "text/plain": [
              "post id       False\n",
              "ราคาทรัพย์    False\n",
              "ประเมิน1      False\n",
              "ประเมิน2      False\n",
              "dtype: bool"
            ]
          },
          "metadata": {},
          "execution_count": 143
        }
      ]
    },
    {
      "cell_type": "markdown",
      "source": [
        "### MAPE ของทาวน์โฮม"
      ],
      "metadata": {
        "id": "fZSLWPF0UyBM"
      }
    },
    {
      "cell_type": "code",
      "source": [
        "actual_th = all3['ราคาทรัพย์']\n",
        "pred1_th = all3['ประเมิน1']\n",
        "pred2_th = all3['ประเมิน2']"
      ],
      "metadata": {
        "id": "0wumpZkgUyBN"
      },
      "execution_count": 147,
      "outputs": []
    },
    {
      "cell_type": "code",
      "source": [
        "from sklearn.metrics import mean_absolute_percentage_error"
      ],
      "metadata": {
        "id": "LGVdowbaPw_w"
      },
      "execution_count": 148,
      "outputs": []
    },
    {
      "cell_type": "code",
      "source": [
        "mth1 = mean_absolute_percentage_error(actual_th, pred1_th)\n",
        "print(f'ราคาทรัพย์เทียบกับผู้ประเมินคนที่ 1 มีค่า MAPE เท่ากับ {mth1*100}%')"
      ],
      "metadata": {
        "id": "cuFEaFx_UyBN",
        "colab": {
          "base_uri": "https://localhost:8080/"
        },
        "outputId": "5ed00b64-fb22-413f-8ea7-eb6f5cf5cdb5"
      },
      "execution_count": 149,
      "outputs": [
        {
          "output_type": "stream",
          "name": "stdout",
          "text": [
            "ราคาทรัพย์เทียบกับผู้ประเมินคนที่ 1 มีค่า MAPE เท่ากับ 11.373507980201532%\n"
          ]
        }
      ]
    },
    {
      "cell_type": "code",
      "source": [
        "mth2 = mean_absolute_percentage_error(actual_th, pred2_th)\n",
        "print(f'ราคาทรัพย์เทียบกับผู้ประเมินคนที่ 2 มีค่า MAPE เท่ากับ {mth2*100}%')"
      ],
      "metadata": {
        "id": "OPf1v17z0X6R",
        "colab": {
          "base_uri": "https://localhost:8080/"
        },
        "outputId": "9b19658d-7170-4779-8064-982036b00c87"
      },
      "execution_count": 150,
      "outputs": [
        {
          "output_type": "stream",
          "name": "stdout",
          "text": [
            "ราคาทรัพย์เทียบกับผู้ประเมินคนที่ 2 มีค่า MAPE เท่ากับ 8.766742521930592%\n"
          ]
        }
      ]
    },
    {
      "cell_type": "code",
      "source": [
        "mth3 = mean_absolute_percentage_error(pred1_th, pred2_th)\n",
        "print(f'ผู้ประเมินคนที่ 1 เทียบกับผู้ประเมินคนที่ 2 มีค่า MAPE เท่ากับ {mth3*100}%')"
      ],
      "metadata": {
        "id": "m0fpL-a80njJ",
        "colab": {
          "base_uri": "https://localhost:8080/"
        },
        "outputId": "44a95453-8888-40cf-8766-28b53b29a7da"
      },
      "execution_count": 151,
      "outputs": [
        {
          "output_type": "stream",
          "name": "stdout",
          "text": [
            "ผู้ประเมินคนที่ 1 เทียบกับผู้ประเมินคนที่ 2 มีค่า MAPE เท่ากับ 11.21168528826893%\n"
          ]
        }
      ]
    },
    {
      "cell_type": "code",
      "source": [
        "mth4 = mean_absolute_percentage_error(pred2_th, pred1_th)\n",
        "print(f'ผู้ประเมินคนที่ 2 เทียบกับผู้ประเมินคนที่ 1 มีค่า MAPE เท่ากับ {mth4*100}%')"
      ],
      "metadata": {
        "id": "4Dn9G1zW0ulO",
        "colab": {
          "base_uri": "https://localhost:8080/"
        },
        "outputId": "18750cf7-fd9c-46e6-a59e-1dc52b072f77"
      },
      "execution_count": 152,
      "outputs": [
        {
          "output_type": "stream",
          "name": "stdout",
          "text": [
            "ผู้ประเมินคนที่ 2 เทียบกับผู้ประเมินคนที่ 1 มีค่า MAPE เท่ากับ 10.619748830198178%\n"
          ]
        }
      ]
    },
    {
      "cell_type": "code",
      "source": [
        "mth5 = mean_absolute_percentage_error(pred1_th, actual_th)\n",
        "print(f'ผู้ประเมินคนที่ 1 เทียบกับราคาทรัพย์ มีค่า MAPE เท่ากับ {mth5*100}%')"
      ],
      "metadata": {
        "id": "qAsuJ-yc02XC",
        "colab": {
          "base_uri": "https://localhost:8080/"
        },
        "outputId": "4531e2ce-ad1d-48f7-ff20-9a65855b8c73"
      },
      "execution_count": 153,
      "outputs": [
        {
          "output_type": "stream",
          "name": "stdout",
          "text": [
            "ผู้ประเมินคนที่ 1 เทียบกับราคาทรัพย์ มีค่า MAPE เท่ากับ 16.209125736159383%\n"
          ]
        }
      ]
    },
    {
      "cell_type": "code",
      "source": [
        "mth6 = mean_absolute_percentage_error(pred2_th, actual_th)\n",
        "print(f'ผู้ประเมินคนที่ 2 เทียบกับราคาทรัพย์ มีค่า MAPE เท่ากับ {mth6*100}%')"
      ],
      "metadata": {
        "id": "drAFxMkZ07zB",
        "colab": {
          "base_uri": "https://localhost:8080/"
        },
        "outputId": "885fc488-5ce8-4f14-929a-7d3b95f27b23"
      },
      "execution_count": 154,
      "outputs": [
        {
          "output_type": "stream",
          "name": "stdout",
          "text": [
            "ผู้ประเมินคนที่ 2 เทียบกับราคาทรัพย์ มีค่า MAPE เท่ากับ 12.753580848193073%\n"
          ]
        }
      ]
    },
    {
      "cell_type": "markdown",
      "source": [
        "# hh"
      ],
      "metadata": {
        "id": "YgvaNsPFQb59"
      }
    },
    {
      "cell_type": "code",
      "source": [
        "actual_l = all2['ราคาทรัพย์']\n",
        "pred1_l = all2['ประเมิน1']\n",
        "pred2_l = all2['ประเมิน2']"
      ],
      "metadata": {
        "id": "el3HeeBUNDWq"
      },
      "execution_count": 128,
      "outputs": []
    },
    {
      "cell_type": "code",
      "source": [
        "from sklearn.metrics import mean_absolute_percentage_error"
      ],
      "metadata": {
        "id": "zhJsrD0pNDWq"
      },
      "execution_count": 129,
      "outputs": []
    },
    {
      "cell_type": "code",
      "source": [
        "ml1 = mean_absolute_percentage_error(actual_l, pred1_l)\n",
        "print(f'ราคาทรัพย์เทียบกับผู้ประเมินคนที่ 1 มีค่า MAPE เท่ากับ {ml1*100}%')"
      ],
      "metadata": {
        "colab": {
          "base_uri": "https://localhost:8080/"
        },
        "outputId": "53c9a277-f72a-4d07-fd1b-10d1ce8e1992",
        "id": "htgQZtYONDWr"
      },
      "execution_count": 130,
      "outputs": [
        {
          "output_type": "stream",
          "name": "stdout",
          "text": [
            "ราคาทรัพย์เทียบกับผู้ประเมินคนที่ 1 มีค่า MAPE เท่ากับ 41.33784259452896%\n"
          ]
        }
      ]
    },
    {
      "cell_type": "code",
      "source": [
        "ml2 = mean_absolute_percentage_error(actual_l, pred2_l)\n",
        "print(f'ราคาทรัพย์เทียบกับผู้ประเมินคนที่ 2 มีค่า MAPE เท่ากับ {ml2*100}%')"
      ],
      "metadata": {
        "colab": {
          "base_uri": "https://localhost:8080/"
        },
        "outputId": "6e2aba50-7910-4586-9304-4fe1d4323664",
        "id": "wLHGhhu9NDWr"
      },
      "execution_count": 131,
      "outputs": [
        {
          "output_type": "stream",
          "name": "stdout",
          "text": [
            "ราคาทรัพย์เทียบกับผู้ประเมินคนที่ 2 มีค่า MAPE เท่ากับ 40.11878038284342%\n"
          ]
        }
      ]
    },
    {
      "cell_type": "code",
      "source": [
        "ml3 = mean_absolute_percentage_error(pred1_l, pred2_l)\n",
        "print(f'ผู้ประเมินคนที่ 1 เทียบกับผู้ประเมินคนที่ 2 มีค่า MAPE เท่ากับ {ml3*100}%')"
      ],
      "metadata": {
        "colab": {
          "base_uri": "https://localhost:8080/"
        },
        "outputId": "d2d2e5d9-354d-4880-f9de-5dcb0f6b34d1",
        "id": "5CPdHFIcNDWs"
      },
      "execution_count": 133,
      "outputs": [
        {
          "output_type": "stream",
          "name": "stdout",
          "text": [
            "ผู้ประเมินคนที่ 1 เทียบกับผู้ประเมินคนที่ 2 มีค่า MAPE เท่ากับ 74.07933970315449%\n"
          ]
        }
      ]
    },
    {
      "cell_type": "code",
      "source": [
        "ml4 = mean_absolute_percentage_error(pred2_l, pred1_l)\n",
        "print(f'ผู้ประเมินคนที่ 2 เทียบกับผู้ประเมินคนที่ 1 มีค่า MAPE เท่ากับ {ml4*100}%')"
      ],
      "metadata": {
        "colab": {
          "base_uri": "https://localhost:8080/"
        },
        "outputId": "6235b0ac-1780-4517-8b3d-9e3124a07c90",
        "id": "GFR_eJ8yNDWs"
      },
      "execution_count": 134,
      "outputs": [
        {
          "output_type": "stream",
          "name": "stdout",
          "text": [
            "ผู้ประเมินคนที่ 2 เทียบกับผู้ประเมินคนที่ 1 มีค่า MAPE เท่ากับ 42.74775082762699%\n"
          ]
        }
      ]
    },
    {
      "cell_type": "code",
      "source": [
        "ml5 = mean_absolute_percentage_error(pred1_l, actual_l)\n",
        "print(f'ผู้ประเมินคนที่ 1 เทียบกับราคาทรัพย์ มีค่า MAPE เท่ากับ {ml5*100}%')"
      ],
      "metadata": {
        "colab": {
          "base_uri": "https://localhost:8080/"
        },
        "outputId": "b03dfc39-332f-4137-e1d1-97070a382d05",
        "id": "hMjKFU8XNDWs"
      },
      "execution_count": 135,
      "outputs": [
        {
          "output_type": "stream",
          "name": "stdout",
          "text": [
            "ผู้ประเมินคนที่ 1 เทียบกับราคาทรัพย์ มีค่า MAPE เท่ากับ 83.48110682471777%\n"
          ]
        }
      ]
    },
    {
      "cell_type": "code",
      "source": [
        "ml6 = mean_absolute_percentage_error(pred2_l, actual_l)\n",
        "print(f'ผู้ประเมินคนที่ 2 เทียบกับราคาทรัพย์ มีค่า MAPE เท่ากับ {ml6*100}%')"
      ],
      "metadata": {
        "colab": {
          "base_uri": "https://localhost:8080/"
        },
        "outputId": "499e9a39-506e-4dcb-b12f-a53bc8c475f6",
        "id": "OzqxMaqmNDWt"
      },
      "execution_count": 136,
      "outputs": [
        {
          "output_type": "stream",
          "name": "stdout",
          "text": [
            "ผู้ประเมินคนที่ 2 เทียบกับราคาทรัพย์ มีค่า MAPE เท่ากับ 48.37938341613725%\n"
          ]
        }
      ]
    }
  ]
}