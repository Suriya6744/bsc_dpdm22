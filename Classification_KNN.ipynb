{
  "nbformat": 4,
  "nbformat_minor": 0,
  "metadata": {
    "colab": {
      "private_outputs": true,
      "provenance": [],
      "toc_visible": true,
      "authorship_tag": "ABX9TyMxw5qRvosIKzJx4KMki1ha",
      "include_colab_link": true
    },
    "kernelspec": {
      "name": "python3",
      "display_name": "Python 3"
    },
    "language_info": {
      "name": "python"
    }
  },
  "cells": [
    {
      "cell_type": "markdown",
      "metadata": {
        "id": "view-in-github",
        "colab_type": "text"
      },
      "source": [
        "<a href=\"https://colab.research.google.com/github/Suriya6744/bsc_dpdm22/blob/main/Classification_KNN.ipynb\" target=\"_parent\"><img src=\"https://colab.research.google.com/assets/colab-badge.svg\" alt=\"Open In Colab\"/></a>"
      ]
    },
    {
      "cell_type": "code",
      "execution_count": null,
      "metadata": {
        "id": "aypAzSGqVUUN"
      },
      "outputs": [],
      "source": [
        "from sklearn.datasets import load_digits\n",
        "digits = load_digits()\n",
        "\n",
        "import matplotlib.pyplot as plt"
      ]
    },
    {
      "cell_type": "code",
      "source": [
        "digits "
      ],
      "metadata": {
        "id": "RF6B6WTTV5fs"
      },
      "execution_count": null,
      "outputs": []
    },
    {
      "cell_type": "code",
      "source": [
        "plt.gray()\n",
        "plt.matshow(digits.images[0]) #ของเลข 0"
      ],
      "metadata": {
        "id": "Fg4vtWDrWZNs"
      },
      "execution_count": null,
      "outputs": []
    },
    {
      "cell_type": "code",
      "source": [
        "ind=28\n",
        "plt.gray()\n",
        "plt.matshow(digits.images[ind]) #ของเลข 28\n",
        "print(digits.target[ind])"
      ],
      "metadata": {
        "id": "riB9ybK8W2Zp"
      },
      "execution_count": null,
      "outputs": []
    },
    {
      "cell_type": "markdown",
      "source": [
        " from sklearn.datasets import load_digits\n",
        "digits = load_digits()\n",
        "\n",
        "import matplotlib.pyplot as plt\n",
        "\n",
        "Divide Data into 80(train) 20(test) using random_state group number shuffle=True and find the best Parameters (K (1,3,5) Distance_weighted (yes/no)) with 10-fold cross-validation and\n",
        "best test parameters with test data"
      ],
      "metadata": {
        "id": "PoRVEd78arqv"
      }
    },
    {
      "cell_type": "markdown",
      "source": [
        "# Quiz 3 march\n",
        "- แบ่ง Data ออกเป็น 80(train) 20(test) โดยใช้ random_state เลขกลุ่ม shuffle=True\n",
        "- หา Parameters ที่ดีที่สุด (K (1,3,5) Distance_weighted (yes/no)) ด้วย 10-fold cross-validation\n",
        "- Test parameters ที่ดีที่สุด กับ test data"
      ],
      "metadata": {
        "id": "_PWOTGNyXMK2"
      }
    },
    {
      "cell_type": "code",
      "source": [
        "from sklearn.model_selection import train_test_split, cross_val_score"
      ],
      "metadata": {
        "id": "8c_Mf_HsfNQ_"
      },
      "execution_count": null,
      "outputs": []
    },
    {
      "cell_type": "code",
      "source": [
        "# Split the data into training and testing subsets\n",
        "X_train, X_test, y_train, y_test = train_test_split(digits.data, digits.target, test_size=0.2, random_state=7)"
      ],
      "metadata": {
        "id": "rhH3pG3hf6a3"
      },
      "execution_count": null,
      "outputs": []
    },
    {
      "cell_type": "code",
      "source": [
        "from sklearn.neighbors import KNeighborsClassifier"
      ],
      "metadata": {
        "id": "17wNCJ4Ggzux"
      },
      "execution_count": null,
      "outputs": []
    },
    {
      "cell_type": "markdown",
      "source": [
        "## model selection"
      ],
      "metadata": {
        "id": "j1VMptdMgUSv"
      }
    },
    {
      "cell_type": "code",
      "source": [
        "## model 1 (K=1 ,weighted)\n",
        "knn_distance = KNeighborsClassifier(n_neighbors=1, weights='distance')\n",
        "scores = cross_val_score(knn_distance, X_train, y_train, cv=10)\n",
        "print(\"Average cross-validation score: K1weighted\", scores.mean())\n",
        "\n",
        "## model 2 (K=3 ,weighted)\n",
        "knn_distance = KNeighborsClassifier(n_neighbors=3, weights='distance')\n",
        "scores = cross_val_score(knn_distance, X_train, y_train, cv=10)\n",
        "print(\"Average cross-validation score: K3weighted\", scores.mean())\n",
        "\n",
        "## model 3 (K=5 ,weighted)\n",
        "knn_distance = KNeighborsClassifier(n_neighbors=5, weights='distance')\n",
        "scores = cross_val_score(knn_distance, X_train, y_train, cv=10)\n",
        "print(\"Average cross-validation score: K5weighted\", scores.mean())\n",
        "\n",
        "## model 1 (K=1 , no weighted)\n",
        "knn_distance = KNeighborsClassifier(n_neighbors=1, weights='uniform')\n",
        "scores = cross_val_score(knn_distance, X_train, y_train, cv=10)\n",
        "print(\"Average cross-validation score: K1NOweighted\", scores.mean())\n",
        "\n",
        "## model 2 (K=3 , no weighted)\n",
        "knn_distance = KNeighborsClassifier(n_neighbors=3, weights='uniform')\n",
        "scores = cross_val_score(knn_distance, X_train, y_train, cv=10)\n",
        "print(\"Average cross-validation score: K3NOweighted\", scores.mean())\n",
        "\n",
        "## model 3 (K=5 , no weighted)\n",
        "knn_distance = KNeighborsClassifier(n_neighbors=5, weights='uniform')\n",
        "scores = cross_val_score(knn_distance, X_train, y_train, cv=10)\n",
        "print(\"Average cross-validation score: K5NOweighted\", scores.mean())"
      ],
      "metadata": {
        "id": "31o1TxfwgHcV"
      },
      "execution_count": null,
      "outputs": []
    },
    {
      "cell_type": "markdown",
      "source": [
        "## Evaluate with test set"
      ],
      "metadata": {
        "id": "lDSOeGx_iW-7"
      }
    },
    {
      "cell_type": "code",
      "source": [
        "knn_distance = KNeighborsClassifier(n_neighbors=1, weights='distance')\n",
        "\n",
        "knn_distance.fit(X_train,y_train)\n",
        "\n",
        "y_pred = knn_distance.predict(X_test)"
      ],
      "metadata": {
        "id": "FiF-i7ZfiO-i"
      },
      "execution_count": null,
      "outputs": []
    },
    {
      "cell_type": "code",
      "source": [
        "from sklearn.metrics import accuracy_score\n",
        "\n",
        "# Assume y_true and y_pred are the true and predicted labels, respectively\n",
        "accuracy = accuracy_score(y_test, y_pred)\n",
        "\n",
        "# Print the accuracy score\n",
        "print(\"Accuracy score: \", accuracy)"
      ],
      "metadata": {
        "id": "LoIGdUqLjf0U"
      },
      "execution_count": null,
      "outputs": []
    },
    {
      "cell_type": "markdown",
      "source": [
        "# HW7\n",
        "หาโมเดลที่ดีที่สุดจาก DT,NaiveBayes,KNN โดย เปรียบเทียบอย่างละสอง parameters set"
      ],
      "metadata": {
        "id": "BRM2QeMDx7n-"
      }
    },
    {
      "cell_type": "markdown",
      "source": [
        "# Decision Tree"
      ],
      "metadata": {
        "id": "qKTnirQQi_ev"
      }
    },
    {
      "cell_type": "code",
      "source": [
        "# Split the dataset into training and testing sets\n",
        "from sklearn.model_selection import train_test_split\n",
        "X_train, X_test, y_train, y_test = train_test_split(digits.data, digits.target, test_size=0.2, shuffle=True, random_state=7)\n",
        "# Print the shape of the training and testing sets\n",
        "print(\"Shape of training data:\", X_train.shape)\n",
        "print(\"Shape of testing data:\", X_test.shape)"
      ],
      "metadata": {
        "id": "mJRb9otQjqTI"
      },
      "execution_count": null,
      "outputs": []
    },
    {
      "cell_type": "code",
      "source": [
        "from sklearn.tree import DecisionTreeClassifier\n",
        "clf = DecisionTreeClassifier(random_state = 7)\n",
        "clf.fit(X_train, y_train)\n",
        "y_predict = clf.predict(X_test)"
      ],
      "metadata": {
        "id": "YZJAAxAaj4wI"
      },
      "execution_count": null,
      "outputs": []
    },
    {
      "cell_type": "markdown",
      "source": [
        "##Evaluate"
      ],
      "metadata": {
        "id": "iYXsHRBYjyJj"
      }
    },
    {
      "cell_type": "code",
      "source": [
        "from sklearn.metrics import classification_report\n",
        "print(classification_report(y_test, y_predict))"
      ],
      "metadata": {
        "id": "gu95Traajxlm"
      },
      "execution_count": null,
      "outputs": []
    },
    {
      "cell_type": "markdown",
      "source": [
        "##Accuracy"
      ],
      "metadata": {
        "id": "V8AhIAmwkgT9"
      }
    },
    {
      "cell_type": "code",
      "source": [
        "from sklearn.datasets import load_digits\n",
        "from sklearn.tree import DecisionTreeClassifier\n",
        "from sklearn.model_selection import train_test_split\n",
        "from sklearn.metrics import accuracy_score\n",
        "\n",
        "# Load the digits dataset\n",
        "digits = load_digits()\n",
        "\n",
        "# Split the data into training and testing sets\n",
        "X_train, X_test, y_train, y_test = train_test_split(digits.data, digits.target, test_size=0.2, random_state=7)\n",
        "\n",
        "# Define the decision tree classifier\n",
        "clf = DecisionTreeClassifier(random_state=7)\n",
        "\n",
        "# Train the decision tree classifier on the training set\n",
        "clf.fit(X_train, y_train)\n",
        "\n",
        "# Predict the labels of the test set\n",
        "y_pred = clf.predict(X_test)\n",
        "\n",
        "# Compute the accuracy of the classifier\n",
        "accuracy = accuracy_score(y_test, y_pred)\n",
        "\n",
        "# Print the accuracy of the classifier\n",
        "print(\"Accuracy: {:.2f}%\".format(accuracy*100))"
      ],
      "metadata": {
        "id": "l1KNS7dWkclg"
      },
      "execution_count": null,
      "outputs": []
    },
    {
      "cell_type": "markdown",
      "source": [
        "##Plot"
      ],
      "metadata": {
        "id": "SB9mVD-UlwGm"
      }
    },
    {
      "cell_type": "code",
      "source": [
        "from sklearn.tree import plot_tree\n",
        "# Create a figure with a size of 10 inches by 8 inches\n",
        "fig = plt.figure(figsize=(10,8))\n",
        "\n",
        "# Plot the decision tree on the figure with a maximum depth of 3\n",
        "plot_tree(clf, max_depth=3, fontsize=10, filled=True)\n",
        "\n",
        "# Set the title of the figure\n",
        "fig.suptitle(\"Decision Tree Classifier for Digits Dataset\")"
      ],
      "metadata": {
        "id": "erh7LQYqj5bt"
      },
      "execution_count": null,
      "outputs": []
    },
    {
      "cell_type": "code",
      "source": [
        "from sklearn.datasets import load_digits\n",
        "from sklearn.tree import DecisionTreeClassifier\n",
        "from sklearn.model_selection import train_test_split\n",
        "from sklearn.metrics import confusion_matrix\n",
        "import matplotlib.pyplot as plt\n",
        "import seaborn as sns\n",
        "\n",
        "# Load the digits dataset\n",
        "digits = load_digits()\n",
        "\n",
        "# Split the data into training and testing sets\n",
        "X_train, X_test, y_train, y_test = train_test_split(digits.data, digits.target, test_size=0.2, random_state=7)\n",
        "\n",
        "# Define the decision tree classifier\n",
        "clf = DecisionTreeClassifier(random_state=7)\n",
        "\n",
        "# Train the decision tree classifier on the training set\n",
        "clf.fit(X_train, y_train)\n",
        "\n",
        "# Predict the labels of the test set\n",
        "y_pred = clf.predict(X_test)\n",
        "\n",
        "# Compute the confusion matrix of the classifier\n",
        "cm = confusion_matrix(y_test, y_pred)\n",
        "\n",
        "# Plot the confusion matrix\n",
        "sns.heatmap(cm, annot=True, cmap='Blues', fmt='g')\n",
        "plt.xlabel('Predicted')\n",
        "plt.ylabel('True')\n",
        "plt.show()"
      ],
      "metadata": {
        "id": "iUbtfsnnj76V"
      },
      "execution_count": null,
      "outputs": []
    },
    {
      "cell_type": "code",
      "source": [],
      "metadata": {
        "id": "bZSi_rDvMGFC"
      },
      "execution_count": null,
      "outputs": []
    },
    {
      "cell_type": "markdown",
      "source": [
        "# Naïve Bayes"
      ],
      "metadata": {
        "id": "y3wJPChOl4TT"
      }
    },
    {
      "cell_type": "code",
      "source": [
        "from sklearn.naive_bayes import GaussianNB\n",
        "\n",
        "# Define the Naive Bayes classifier\n",
        "nb = GaussianNB()\n",
        "\n",
        "# Train the Naive Bayes classifier on the training set\n",
        "nb.fit(X_train, y_train)\n",
        "\n",
        "# Predict the labels of the test set\n",
        "y_pred = nb.predict(X_test)"
      ],
      "metadata": {
        "id": "qIoJp_6Gl0p9"
      },
      "execution_count": null,
      "outputs": []
    },
    {
      "cell_type": "markdown",
      "source": [
        "##Accuracy"
      ],
      "metadata": {
        "id": "8TpZV8TVn9h6"
      }
    },
    {
      "cell_type": "code",
      "source": [
        "# Calculate the accuracy of the predictions\n",
        "accuracy = accuracy_score(y_test, y_pred)\n",
        "\n",
        "# Print the accuracy score\n",
        "print(\"Accuracy:\", accuracy)"
      ],
      "metadata": {
        "id": "Wmfcu0j0pR0X"
      },
      "execution_count": null,
      "outputs": []
    },
    {
      "cell_type": "markdown",
      "source": [
        "##Evaluate"
      ],
      "metadata": {
        "id": "y1WjKWdrnGz_"
      }
    },
    {
      "cell_type": "code",
      "source": [
        "# Evaluate the Naive Bayes classifier using cross-validation with 10 folds\n",
        "scores = cross_val_score(nb, digits.data, digits.target, cv=10)\n",
        "\n",
        "# Print the accuracy score and mean score across all folds\n",
        "print(\"Accuracy scores:\", scores)\n",
        "print(\"Mean accuracy:\", scores.mean())"
      ],
      "metadata": {
        "id": "isylpNHXn8Pi"
      },
      "execution_count": null,
      "outputs": []
    },
    {
      "cell_type": "markdown",
      "source": [
        "#K-nearest Neighbor"
      ],
      "metadata": {
        "id": "23ClmkxunTdn"
      }
    },
    {
      "cell_type": "code",
      "source": [
        "# model 1 (K=1, weighted)\n",
        "knn_distance = KNeighborsClassifier(n_neighbors=1, weights='distance')\n",
        "scores = cross_val_score(knn_distance, X_train, y_train, cv=10)\n",
        "print(\"Mean Cross-Validation Score: K1weighted\", scores.mean())\n",
        "\n",
        "# model 2 (K=3, weighted)\n",
        "knn_distance = KNeighborsClassifier(n_neighbors=3, weights='distance')\n",
        "scores = cross_val_score(knn_distance, X_train, y_train, cv=10)\n",
        "print(\"Mean Cross-Validation Score: K3weighted\", scores.mean())\n",
        "\n",
        "# model 3 (K=5, weighted)\n",
        "knn_distance = KNeighborsClassifier(n_neighbors=5, weights='distance')\n",
        "scores = cross_val_score(knn_distance, X_train, y_train, cv=10)\n",
        "print(\"Mean Cross-Validation Score: K5weighted\", scores.mean())\n",
        "\n",
        "# model 4 (K=7, weighted)\n",
        "knn_distance = KNeighborsClassifier(n_neighbors=7, weights='distance')\n",
        "scores = cross_val_score(knn_distance, X_train, y_train, cv=10)\n",
        "print(\"Mean Cross-Validation Score: K7weighted\", scores.mean())\n",
        "\n",
        "# model 6 (K=9, weighted)\n",
        "knn_distance = KNeighborsClassifier(n_neighbors=9, weights='distance')\n",
        "scores = cross_val_score(knn_distance, X_train, y_train, cv=10)\n",
        "print(\"Mean Cross-Validation Score: K9weighted\", scores.mean())\n",
        "\n",
        "# model 4 (K=1, no weighted)\n",
        "knn_distance = KNeighborsClassifier(n_neighbors=1, weights='uniform')\n",
        "scores = cross_val_score(knn_distance, X_train, y_train, cv=10)\n",
        "print(\"Mean Cross-Validation Score: K1NOweighted\", scores.mean())\n",
        "\n",
        "# model 5 (K=3, no weighted)\n",
        "knn_distance = KNeighborsClassifier(n_neighbors=3, weights='uniform')\n",
        "scores = cross_val_score(knn_distance, X_train, y_train, cv=10)\n",
        "print(\"Mean Cross-Validation Score: K3NOweighted\", scores.mean())\n",
        "\n",
        "# model 6 (K=5, no weighted)\n",
        "knn_distance = KNeighborsClassifier(n_neighbors=5, weights='uniform')\n",
        "scores = cross_val_score(knn_distance, X_train, y_train, cv=10)\n",
        "print(\"Mean Cross-Validation Score: K5NOweighted\", scores.mean())\n",
        "\n",
        "# model 7 (K=7, no weighted)\n",
        "knn_distance = KNeighborsClassifier(n_neighbors=7, weights='uniform')\n",
        "scores = cross_val_score(knn_distance, X_train, y_train, cv=10)\n",
        "print(\"Mean Cross-Validation Score: K7NOweighted\", scores.mean())\n",
        "\n",
        "# model 8 (K=9, no weighted)\n",
        "knn_distance = KNeighborsClassifier(n_neighbors=9, weights='uniform')\n",
        "scores = cross_val_score(knn_distance, X_train, y_train, cv=10)\n",
        "print(\"Mean Cross-Validation Score: K9NOweighted\", scores.mean())"
      ],
      "metadata": {
        "id": "7ketAjZInIwn"
      },
      "execution_count": null,
      "outputs": []
    },
    {
      "cell_type": "markdown",
      "source": [
        "##Evaluate"
      ],
      "metadata": {
        "id": "_cnV3Fwts3me"
      }
    },
    {
      "cell_type": "code",
      "source": [
        "knn_distance = KNeighborsClassifier(n_neighbors=1, weights='distance')\n",
        "\n",
        "knn_distance.fit(X_train,y_train)\n",
        "\n",
        "y_pred = knn_distance.predict(X_test)\n",
        "\n",
        "from sklearn.metrics import accuracy_score\n",
        "\n",
        "# Assume y_true and y_pred are the true and predicted labels, respectively\n",
        "accuracy = accuracy_score(y_test, y_pred)\n",
        "\n",
        "# Print the accuracy score\n",
        "print(\"Accuracy score: \", accuracy)"
      ],
      "metadata": {
        "id": "F6zcng_dsKNF"
      },
      "execution_count": null,
      "outputs": []
    },
    {
      "cell_type": "markdown",
      "source": [
        "#Artificial Neural Network"
      ],
      "metadata": {
        "id": "AQIDx70Ktt_T"
      }
    },
    {
      "cell_type": "code",
      "source": [
        "import numpy as np\n",
        "from sklearn.datasets import load_digits\n",
        "from sklearn.model_selection import train_test_split\n",
        "from tensorflow.keras import models, layers\n",
        "\n",
        "# Load the digits dataset\n",
        "digits = load_digits()\n",
        "\n",
        "# Split the data into training and test sets\n",
        "X_train, X_test, y_train, y_test = train_test_split(digits.data, digits.target, test_size=0.2, random_state=7)\n",
        "\n",
        "# Normalize the input data\n",
        "X_train = X_train.astype('float32') / 255.0\n",
        "X_test = X_test.astype('float32') / 255.0\n",
        "\n",
        "# Convert the target data to one-hot encoding\n",
        "num_classes = len(np.unique(y_train))\n",
        "y_train = np.eye(num_classes)[y_train]\n",
        "y_test = np.eye(num_classes)[y_test]\n",
        "\n",
        "# Define the ANN model architecture\n",
        "model = models.Sequential([\n",
        "    layers.Dense(128, activation='relu', input_shape=(64,)),\n",
        "    layers.Dense(64, activation='relu'),\n",
        "    layers.Dense(num_classes, activation='softmax')\n",
        "])\n",
        "\n",
        "# Compile the model\n",
        "model.compile(optimizer='adam', loss='categorical_crossentropy', metrics=['accuracy'])\n",
        "\n",
        "# Train the model on the training data\n",
        "model.fit(X_train, y_train, epochs=10, batch_size=32, validation_data=(X_test, y_test))\n",
        "\n",
        "# Evaluate the model on the test data\n",
        "test_loss, test_acc = model.evaluate(X_test, y_test)\n",
        "print('Test accuracy:', test_acc)"
      ],
      "metadata": {
        "id": "15YQ5QGrtukP"
      },
      "execution_count": null,
      "outputs": []
    },
    {
      "cell_type": "markdown",
      "source": [
        "##Evaluate"
      ],
      "metadata": {
        "id": "DQiFs__2t-aa"
      }
    },
    {
      "cell_type": "code",
      "source": [
        "import numpy as np\n",
        "import tensorflow as tf\n",
        "from sklearn.datasets import load_digits\n",
        "from sklearn.model_selection import train_test_split\n",
        "from sklearn.preprocessing import StandardScaler\n",
        "\n",
        "# Load the digits dataset and split it into training and testing sets\n",
        "digits = load_digits()\n",
        "X_train, X_test, y_train, y_test = train_test_split(digits.data, digits.target, test_size=0.2, random_state=7)\n",
        "\n",
        "# Scale the feature data\n",
        "scaler = StandardScaler()\n",
        "X_train_scaled = scaler.fit_transform(X_train)\n",
        "X_test_scaled = scaler.transform(X_test)\n",
        "\n",
        "# Convert the target data to one-hot encoding\n",
        "y_train_encoded = tf.keras.utils.to_categorical(y_train)\n",
        "y_test_encoded = tf.keras.utils.to_categorical(y_test)\n",
        "\n",
        "# Define the ANN model architecture\n",
        "model = tf.keras.Sequential([\n",
        "    tf.keras.layers.Dense(128, activation='relu', input_shape=(64,)),\n",
        "    tf.keras.layers.Dropout(0.2),\n",
        "    tf.keras.layers.Dense(10, activation='softmax')\n",
        "])\n",
        "\n",
        "# Compile the model with appropriate loss function and optimizer\n",
        "model.compile(optimizer='adam', loss='categorical_crossentropy', metrics=['accuracy'])\n",
        "\n",
        "# Train the model\n",
        "model.fit(X_train_scaled, y_train_encoded, epochs=10, validation_split=0.2, verbose=1)\n",
        "\n",
        "# Evaluate the model on the testing set\n",
        "test_loss, test_accuracy = model.evaluate(X_test_scaled, y_test_encoded, verbose=0)\n",
        "print(f'Test loss: {test_loss:.4f}\\nTest accuracy: {test_accuracy:.4f}')"
      ],
      "metadata": {
        "id": "Kf4wNWBVtTHO"
      },
      "execution_count": null,
      "outputs": []
    }
  ]
}