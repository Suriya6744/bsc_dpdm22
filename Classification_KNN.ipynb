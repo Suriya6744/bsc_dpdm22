{
  "nbformat": 4,
  "nbformat_minor": 0,
  "metadata": {
    "colab": {
      "private_outputs": true,
      "provenance": [],
      "authorship_tag": "ABX9TyNeSiClETzzYFYm4Xs1X4hN",
      "include_colab_link": true
    },
    "kernelspec": {
      "name": "python3",
      "display_name": "Python 3"
    },
    "language_info": {
      "name": "python"
    }
  },
  "cells": [
    {
      "cell_type": "markdown",
      "metadata": {
        "id": "view-in-github",
        "colab_type": "text"
      },
      "source": [
        "<a href=\"https://colab.research.google.com/github/Suriya6744/bsc_dpdm22/blob/main/Classification_KNN.ipynb\" target=\"_parent\"><img src=\"https://colab.research.google.com/assets/colab-badge.svg\" alt=\"Open In Colab\"/></a>"
      ]
    },
    {
      "cell_type": "code",
      "execution_count": null,
      "metadata": {
        "id": "aypAzSGqVUUN"
      },
      "outputs": [],
      "source": [
        "from sklearn.datasets import load_digits\n",
        "digits = load_digits()\n",
        "\n",
        "import matplotlib.pyplot as plt"
      ]
    },
    {
      "cell_type": "code",
      "source": [
        "digits "
      ],
      "metadata": {
        "id": "RF6B6WTTV5fs"
      },
      "execution_count": null,
      "outputs": []
    },
    {
      "cell_type": "code",
      "source": [
        "plt.gray()\n",
        "plt.matshow(digits.images[0]) #ของเลข 0"
      ],
      "metadata": {
        "id": "Fg4vtWDrWZNs"
      },
      "execution_count": null,
      "outputs": []
    },
    {
      "cell_type": "code",
      "source": [
        "ind=28\n",
        "plt.gray()\n",
        "plt.matshow(digits.images[ind]) #ของเลข 28\n",
        "print(digits.target[ind])"
      ],
      "metadata": {
        "id": "riB9ybK8W2Zp"
      },
      "execution_count": null,
      "outputs": []
    },
    {
      "cell_type": "markdown",
      "source": [
        " from sklearn.datasets import load_digits\n",
        "digits = load_digits()\n",
        "\n",
        "import matplotlib.pyplot as plt\n",
        "\n",
        "Divide Data into 80(train) 20(test) using random_state group number shuffle=True and find the best Parameters (K (1,3,5) Distance_weighted (yes/no)) with 10-fold cross-validation and\n",
        "best test parameters with test data"
      ],
      "metadata": {
        "id": "PoRVEd78arqv"
      }
    },
    {
      "cell_type": "markdown",
      "source": [
        "# Quiz 3 march\n",
        "- แบ่ง Data ออกเป็น 80(train) 20(test) โดยใช้ random_state เลขกลุ่ม shuffle=True\n",
        "- หา Parameters ที่ดีที่สุด (K (1,3,5) Distance_weighted (yes/no)) ด้วย 10-fold cross-validation\n",
        "- Test parameters ที่ดีที่สุด กับ test data"
      ],
      "metadata": {
        "id": "_PWOTGNyXMK2"
      }
    },
    {
      "cell_type": "code",
      "source": [
        "from sklearn.model_selection import train_test_split, cross_val_score"
      ],
      "metadata": {
        "id": "8c_Mf_HsfNQ_"
      },
      "execution_count": null,
      "outputs": []
    },
    {
      "cell_type": "code",
      "source": [
        "# Split the data into training and testing subsets\n",
        "X_train, X_test, y_train, y_test = train_test_split(digits.data, digits.target, test_size=0.2, random_state=7)"
      ],
      "metadata": {
        "id": "rhH3pG3hf6a3"
      },
      "execution_count": null,
      "outputs": []
    },
    {
      "cell_type": "code",
      "source": [
        "from sklearn.neighbors import KNeighborsClassifier"
      ],
      "metadata": {
        "id": "17wNCJ4Ggzux"
      },
      "execution_count": null,
      "outputs": []
    },
    {
      "cell_type": "markdown",
      "source": [
        "## model selection"
      ],
      "metadata": {
        "id": "j1VMptdMgUSv"
      }
    },
    {
      "cell_type": "code",
      "source": [
        "## model 1 (K=1 ,weighted)\n",
        "knn_distance = KNeighborsClassifier(n_neighbors=1, weights='distance')\n",
        "scores = cross_val_score(knn_distance, X_train, y_train, cv=10)\n",
        "print(\"Average cross-validation score: K1weighted\", scores.mean())\n",
        "\n",
        "## model 2 (K=3 ,weighted)\n",
        "knn_distance = KNeighborsClassifier(n_neighbors=3, weights='distance')\n",
        "scores = cross_val_score(knn_distance, X_train, y_train, cv=10)\n",
        "print(\"Average cross-validation score: K3weighted\", scores.mean())\n",
        "\n",
        "## model 3 (K=5 ,weighted)\n",
        "knn_distance = KNeighborsClassifier(n_neighbors=5, weights='distance')\n",
        "scores = cross_val_score(knn_distance, X_train, y_train, cv=10)\n",
        "print(\"Average cross-validation score: K5weighted\", scores.mean())\n",
        "\n",
        "## model 1 (K=1 , no weighted)\n",
        "knn_distance = KNeighborsClassifier(n_neighbors=1, weights='uniform')\n",
        "scores = cross_val_score(knn_distance, X_train, y_train, cv=10)\n",
        "print(\"Average cross-validation score: K1NOweighted\", scores.mean())\n",
        "\n",
        "## model 2 (K=3 , no weighted)\n",
        "knn_distance = KNeighborsClassifier(n_neighbors=3, weights='uniform')\n",
        "scores = cross_val_score(knn_distance, X_train, y_train, cv=10)\n",
        "print(\"Average cross-validation score: K3NOweighted\", scores.mean())\n",
        "\n",
        "## model 3 (K=5 , no weighted)\n",
        "knn_distance = KNeighborsClassifier(n_neighbors=5, weights='uniform')\n",
        "scores = cross_val_score(knn_distance, X_train, y_train, cv=10)\n",
        "print(\"Average cross-validation score: K5NOweighted\", scores.mean())"
      ],
      "metadata": {
        "id": "31o1TxfwgHcV"
      },
      "execution_count": null,
      "outputs": []
    },
    {
      "cell_type": "markdown",
      "source": [
        "## Evaluate with test set"
      ],
      "metadata": {
        "id": "lDSOeGx_iW-7"
      }
    },
    {
      "cell_type": "code",
      "source": [
        "knn_distance = KNeighborsClassifier(n_neighbors=1, weights='distance')\n",
        "\n",
        "knn_distance.fit(X_train,y_train)\n",
        "\n",
        "y_pred = knn_distance.predict(X_test)"
      ],
      "metadata": {
        "id": "FiF-i7ZfiO-i"
      },
      "execution_count": null,
      "outputs": []
    },
    {
      "cell_type": "code",
      "source": [
        "from sklearn.metrics import accuracy_score\n",
        "\n",
        "# Assume y_true and y_pred are the true and predicted labels, respectively\n",
        "accuracy = accuracy_score(y_test, y_pred)\n",
        "\n",
        "# Print the accuracy score\n",
        "print(\"Accuracy score: \", accuracy)"
      ],
      "metadata": {
        "id": "LoIGdUqLjf0U"
      },
      "execution_count": null,
      "outputs": []
    },
    {
      "cell_type": "markdown",
      "source": [
        "# HW7\n",
        "หาโมเดลที่ดีที่สุดจาก DT,NaiveBayes,KNN โดย เปรียบเทียบอย่างละสอง parameters set"
      ],
      "metadata": {
        "id": "BRM2QeMDx7n-"
      }
    },
    {
      "cell_type": "code",
      "source": [],
      "metadata": {
        "id": "uB4BFcxIzEHM"
      },
      "execution_count": null,
      "outputs": []
    }
  ]
}