{
  "nbformat": 4,
  "nbformat_minor": 0,
  "metadata": {
    "colab": {
      "private_outputs": true,
      "provenance": [],
      "toc_visible": true,
      "authorship_tag": "ABX9TyP0iiLYK1QoEDXfd/hikjAu",
      "include_colab_link": true
    },
    "kernelspec": {
      "name": "python3",
      "display_name": "Python 3"
    },
    "language_info": {
      "name": "python"
    }
  },
  "cells": [
    {
      "cell_type": "markdown",
      "metadata": {
        "id": "view-in-github",
        "colab_type": "text"
      },
      "source": [
        "<a href=\"https://colab.research.google.com/github/Suriya6744/bsc_dpdm22/blob/main/Classification_DecisionTree.ipynb\" target=\"_parent\"><img src=\"https://colab.research.google.com/assets/colab-badge.svg\" alt=\"Open In Colab\"/></a>"
      ]
    },
    {
      "cell_type": "code",
      "source": [
        "from google.colab import drive\n",
        "drive.mount('/content/drive')"
      ],
      "metadata": {
        "id": "-BH0kGeAY4Mu"
      },
      "execution_count": null,
      "outputs": []
    },
    {
      "cell_type": "markdown",
      "source": [
        "Sklearn => Scikit-learn เป็น package ที่รวบรวม Data mining และ machine learning algarithm และสิ่งต่างๆที่เกี่ยข้องเอาไว้"
      ],
      "metadata": {
        "id": "b15hohXvZpZg"
      }
    },
    {
      "cell_type": "markdown",
      "source": [
        "# Load Data"
      ],
      "metadata": {
        "id": "s2KzkNGQZl4L"
      }
    },
    {
      "cell_type": "code",
      "source": [
        "from sklearn import datasets\n",
        "\n",
        "iris_data = datasets.load_iris()"
      ],
      "metadata": {
        "id": "5sK8UhB6ZlMb"
      },
      "execution_count": null,
      "outputs": []
    },
    {
      "cell_type": "code",
      "source": [
        "iris_data"
      ],
      "metadata": {
        "id": "FOHbks2oacmT"
      },
      "execution_count": null,
      "outputs": []
    },
    {
      "cell_type": "code",
      "source": [
        "x = iris_data['data']\n",
        "x"
      ],
      "metadata": {
        "id": "AhA3goYFbJQ3"
      },
      "execution_count": null,
      "outputs": []
    },
    {
      "cell_type": "code",
      "source": [
        "y = iris_data['target']\n",
        "y"
      ],
      "metadata": {
        "id": "2uGrdu88cHmj"
      },
      "execution_count": null,
      "outputs": []
    },
    {
      "cell_type": "markdown",
      "source": [
        "**แบ่งข้อสอบออกมาจากแต่** Class อย่างะ 10 ข้อ "
      ],
      "metadata": {
        "id": "mrc9DkddbvUq"
      }
    },
    {
      "cell_type": "markdown",
      "source": [
        "## x test-train"
      ],
      "metadata": {
        "id": "RgoHJtRdhuZa"
      }
    },
    {
      "cell_type": "code",
      "source": [
        "import numpy as np"
      ],
      "metadata": {
        "id": "xb3wF3WLgyIa"
      },
      "execution_count": null,
      "outputs": []
    },
    {
      "cell_type": "code",
      "source": [
        "x_test_0 = x[20:50]\n",
        "x_train_0 = x[:20]\n",
        "\n",
        "x_test_1 = x[70:100]\n",
        "x_train_1 = x[50:70]\n",
        "\n",
        "x_test_2 = x[120:]\n",
        "x_train_2 = x[100:120]"
      ],
      "metadata": {
        "id": "nSLc6TMOgDX1"
      },
      "execution_count": null,
      "outputs": []
    },
    {
      "cell_type": "code",
      "source": [
        "x_test = np.concatenate([x_test_0,x_test_1,x_test_2])\n",
        "x_test.shape"
      ],
      "metadata": {
        "id": "04QhnCcAgw9j"
      },
      "execution_count": null,
      "outputs": []
    },
    {
      "cell_type": "code",
      "source": [
        "x_train = np.concatenate([x_train_0,x_train_1,x_train_2])\n",
        "x_train.shape"
      ],
      "metadata": {
        "id": "HmJcIVB-hj43"
      },
      "execution_count": null,
      "outputs": []
    },
    {
      "cell_type": "markdown",
      "source": [
        "## y test-train"
      ],
      "metadata": {
        "id": "otE2VrBvh00K"
      }
    },
    {
      "cell_type": "code",
      "source": [
        "np.zeros([1,10])"
      ],
      "metadata": {
        "id": "064dKf8Ah3fD"
      },
      "execution_count": null,
      "outputs": []
    },
    {
      "cell_type": "code",
      "source": [
        "y_test = np.concatenate([np.zeros([30,1]),np.ones([30,1]),2*np.ones([30,1])])\n",
        "y_test"
      ],
      "metadata": {
        "id": "IofcBdqeh_2p"
      },
      "execution_count": null,
      "outputs": []
    },
    {
      "cell_type": "code",
      "source": [
        "y_train = np.concatenate([np.zeros([20,1]),np.ones([20,1]),2*np.ones([20,1])])\n",
        "y_train.shape"
      ],
      "metadata": {
        "id": "pDfuo3GKijJ-"
      },
      "execution_count": null,
      "outputs": []
    },
    {
      "cell_type": "markdown",
      "source": [
        "# เริ่ม Train Decision Tree"
      ],
      "metadata": {
        "id": "b_VAQQF1iuQF"
      }
    },
    {
      "cell_type": "markdown",
      "source": [
        "## Import"
      ],
      "metadata": {
        "id": "vQAL6f3Gi3Lp"
      }
    },
    {
      "cell_type": "code",
      "source": [
        " from sklearn.tree import DecisionTreeClassifier"
      ],
      "metadata": {
        "id": "-vaQCZ1CjPWh"
      },
      "execution_count": null,
      "outputs": []
    },
    {
      "cell_type": "markdown",
      "source": [
        "## Define"
      ],
      "metadata": {
        "id": "lco_7XRRi5kw"
      }
    },
    {
      "cell_type": "code",
      "source": [
        "clf = DecisionTreeClassifier(random_state=6)"
      ],
      "metadata": {
        "id": "T2Mnr-o9k3jV"
      },
      "execution_count": null,
      "outputs": []
    },
    {
      "cell_type": "markdown",
      "source": [
        "## Train Model"
      ],
      "metadata": {
        "id": "qaOo52a-i7-G"
      }
    },
    {
      "cell_type": "code",
      "source": [
        "clf.fit(x_train,y_train)"
      ],
      "metadata": {
        "id": "QjCNQg_Vk_qq"
      },
      "execution_count": null,
      "outputs": []
    },
    {
      "cell_type": "markdown",
      "source": [
        "## Predict-Evaluate"
      ],
      "metadata": {
        "id": "OopgNTSIi_U5"
      }
    },
    {
      "cell_type": "markdown",
      "source": [
        "### Predict"
      ],
      "metadata": {
        "id": "cFBane1wljKf"
      }
    },
    {
      "cell_type": "code",
      "source": [
        "y_predict = clf.predict(x_test)"
      ],
      "metadata": {
        "id": "IHk_tYUrloHW"
      },
      "execution_count": null,
      "outputs": []
    },
    {
      "cell_type": "markdown",
      "source": [
        "### Evaluate"
      ],
      "metadata": {
        "id": "89gqorEulldN"
      }
    },
    {
      "cell_type": "code",
      "source": [
        " from sklearn.metrics import classification_report"
      ],
      "metadata": {
        "id": "NzRPcRani2PQ"
      },
      "execution_count": null,
      "outputs": []
    },
    {
      "cell_type": "code",
      "source": [
        "print(classification_report(y_test,y_predict))"
      ],
      "metadata": {
        "id": "UWDcp6AvmWpW"
      },
      "execution_count": null,
      "outputs": []
    },
    {
      "cell_type": "markdown",
      "source": [
        "## ดูหน้าตาต้นไม้"
      ],
      "metadata": {
        "id": "3tvf9OwZnqXX"
      }
    },
    {
      "cell_type": "code",
      "source": [
        "from sklearn.tree import plot_tree"
      ],
      "metadata": {
        "id": "_eB6eT6HnxN5"
      },
      "execution_count": null,
      "outputs": []
    },
    {
      "cell_type": "code",
      "source": [
        "plot_tree(clf);"
      ],
      "metadata": {
        "id": "vJ0VDC0qnzvp"
      },
      "execution_count": null,
      "outputs": []
    },
    {
      "cell_type": "markdown",
      "source": [
        "### ลองกำหนดให้ไม่มีใบทีมีแค่ 1 sample"
      ],
      "metadata": {
        "id": "BsjKiDGKpJkP"
      }
    },
    {
      "cell_type": "markdown",
      "source": [
        "#### Import"
      ],
      "metadata": {
        "id": "1x84OIp1pbSk"
      }
    },
    {
      "cell_type": "code",
      "source": [
        " from sklearn.tree import DecisionTreeClassifier"
      ],
      "metadata": {
        "id": "jJ3UwABppTcc"
      },
      "execution_count": null,
      "outputs": []
    },
    {
      "cell_type": "markdown",
      "source": [
        "#### Define"
      ],
      "metadata": {
        "id": "ywg5VhpupfSF"
      }
    },
    {
      "cell_type": "code",
      "source": [
        "clf = DecisionTreeClassifier(random_state=6,min_samples_leaf=5)"
      ],
      "metadata": {
        "id": "W7J0t7H7pZvm"
      },
      "execution_count": null,
      "outputs": []
    },
    {
      "cell_type": "markdown",
      "source": [
        "#### Train"
      ],
      "metadata": {
        "id": "A0t1SdmJpudF"
      }
    },
    {
      "cell_type": "code",
      "source": [
        "clf.fit(x_train,y_train)"
      ],
      "metadata": {
        "id": "PHL4kgzkpzPo"
      },
      "execution_count": null,
      "outputs": []
    },
    {
      "cell_type": "markdown",
      "source": [
        "#### Predict"
      ],
      "metadata": {
        "id": "xadAHxkCp8ys"
      }
    },
    {
      "cell_type": "code",
      "source": [
        "y_predict = clf.predict(x_test)"
      ],
      "metadata": {
        "id": "uyj81sbRp-1S"
      },
      "execution_count": null,
      "outputs": []
    },
    {
      "cell_type": "code",
      "source": [
        "plot_tree(clf);"
      ],
      "metadata": {
        "id": "6VCu_cKeqLSt"
      },
      "execution_count": null,
      "outputs": []
    },
    {
      "cell_type": "code",
      "source": [
        "print(classification_report(y_test,y_predict)) #94 กำลังพอดี ไม่มี overfitting"
      ],
      "metadata": {
        "id": "AGaojoKnqoin"
      },
      "execution_count": null,
      "outputs": []
    }
  ]
}